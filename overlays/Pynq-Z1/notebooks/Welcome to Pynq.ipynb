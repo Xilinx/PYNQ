{
 "cells": [
  {
   "cell_type": "markdown",
   "metadata": {
    "collapsed": true
   },
   "source": [
    "# Welcome to PYNQ\n",
    "\n",
    "## Project webpage\n",
    "You can find full details of this project on the <a href=\"http://www.pynq.io\">PYNQ project webpage </a>.\n",
    "\n",
    "## Documentation\n",
    "Please see the latest <a href=\"http://pynq.readthedocs.io\">PYNQ Documentation on readthedocs</a>.  \n",
    "\n",
    "\n",
    "## GitHub\n",
    "The PYNQ Repository is hosted on github: <a href=\"https://github.com/Xilinx/PYNQ\">PYNQ GitHub Repository</a>.\n",
    "\n",
    "## Getting started\n",
    "You can find some example Jupyter notebooks preloaded onto this SDCard image. \n",
    "\n",
    "The *getting_started* notebooks cover Jupyter Notebooks, the basics of the PYNQ project, and the PYNQ-Z1 board. \n",
    "\n",
    "The *examples* notebooks include examples for Pmod, Grove, and Arduino peripherals, and guides for setting up Wifi, using webcams, and using the HDMI on the board.\n",
    "\n",
    "## Support\n",
    "For questions or support, go to the forum on the <a href=\"http://www.pynq.io\">PYNQ project webpage </a>.\n",
    "\n"
   ]
  }
 ],
 "metadata": {
  "kernelspec": {
   "display_name": "Python 3",
   "language": "python",
   "name": "python3"
  },
  "language_info": {
   "codemirror_mode": {
    "name": "ipython",
    "version": 3
   },
   "file_extension": ".py",
   "mimetype": "text/x-python",
   "name": "python",
   "nbconvert_exporter": "python",
   "pygments_lexer": "ipython3",
   "version": "3.6.0"
  }
 },
 "nbformat": 4,
 "nbformat_minor": 0
}
