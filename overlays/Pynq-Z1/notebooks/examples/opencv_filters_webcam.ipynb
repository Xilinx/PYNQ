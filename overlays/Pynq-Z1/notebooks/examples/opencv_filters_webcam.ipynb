{
 "cells": [
  {
   "cell_type": "markdown",
   "metadata": {},
   "source": [
    "# OpenCV Filters Webcam\n",
    "\n",
    "In this notebook, several filters will be applied to webcam images.\n",
    "\n",
    "Those input sources and applied filters will then be displayed either directly in the notebook or on HDMI output.\n",
    "\n",
    "To run all cells in this notebook a webcam and HDMI output monitor are required.  "
   ]
  },
  {
   "cell_type": "markdown",
   "metadata": {},
   "source": [
    "## 1. Start HDMI output \n",
    "### Step 1: Load the overlay"
   ]
  },
  {
   "cell_type": "code",
   "execution_count": 1,
   "metadata": {
    "collapsed": false
   },
   "outputs": [],
   "source": [
    "from pynq import Overlay\n",
    "Overlay(\"base.bit\").download()"
   ]
  },
  {
   "cell_type": "markdown",
   "metadata": {},
   "source": [
    "### Step 2: Initialize HDMI I/O"
   ]
  },
  {
   "cell_type": "code",
   "execution_count": 2,
   "metadata": {
    "collapsed": false
   },
   "outputs": [],
   "source": [
    "from pynq.drivers import HDMI\n",
    "from pynq.drivers.video import VMODE_640x480\n",
    "hdmi_out = HDMI('out')\n",
    "hdmi_out.start()"
   ]
  },
  {
   "cell_type": "markdown",
   "metadata": {
    "collapsed": false
   },
   "source": [
    "## 2. Applying OpenCV filters on Webcam input\n",
    "### Step 1: Initialize Webcam and set HDMI Out resolution"
   ]
  },
  {
   "cell_type": "code",
   "execution_count": 3,
   "metadata": {
    "collapsed": true
   },
   "outputs": [],
   "source": [
    "# monitor configuration: 640*480 @ 60Hz\n",
    "hdmi_out.mode(VMODE_640x480)\n",
    "hdmi_out.start()\n",
    "# monitor (output) frame buffer size\n",
    "frame_out_w = 1920\n",
    "frame_out_h = 1080\n",
    "# camera (input) configuration\n",
    "frame_in_w = 640\n",
    "frame_in_h = 480"
   ]
  },
  {
   "cell_type": "markdown",
   "metadata": {},
   "source": [
    "### Step 2: Initialize camera from OpenCV"
   ]
  },
  {
   "cell_type": "code",
   "execution_count": 4,
   "metadata": {
    "collapsed": false
   },
   "outputs": [
    {
     "name": "stdout",
     "output_type": "stream",
     "text": [
      "capture device is open: True\n"
     ]
    }
   ],
   "source": [
    "from pynq.drivers import Frame\n",
    "import cv2\n",
    "\n",
    "videoIn = cv2.VideoCapture(0)\n",
    "videoIn.set(cv2.CAP_PROP_FRAME_WIDTH, frame_in_w);\n",
    "videoIn.set(cv2.CAP_PROP_FRAME_HEIGHT, frame_in_h);\n",
    "print(\"capture device is open: \" + str(videoIn.isOpened()))"
   ]
  },
  {
   "cell_type": "markdown",
   "metadata": {},
   "source": [
    "### Step 3: Send webcam input to HDMI output"
   ]
  },
  {
   "cell_type": "code",
   "execution_count": 5,
   "metadata": {
    "collapsed": false
   },
   "outputs": [],
   "source": [
    "import numpy as np\n",
    "\n",
    "ret, frame_vga = videoIn.read()\n",
    "\n",
    "if (ret):\n",
    "    frame_1080p = np.zeros((1080,1920,3)).astype(np.uint8)\n",
    "    frame_1080p[0:480,0:640,:] = frame_vga[0:480,0:640,:]\n",
    "    hdmi_out.frame_raw(bytearray(frame_1080p.astype(np.int8).tobytes()))\n",
    "else:\n",
    "    raise RuntimeError(\"Error while reading from camera.\")"
   ]
  },
  {
   "cell_type": "markdown",
   "metadata": {},
   "source": [
    "### Step 4: Edge detection \n",
    "Detecting edges on webcam input and display on HDMI out."
   ]
  },
  {
   "cell_type": "code",
   "execution_count": 6,
   "metadata": {
    "collapsed": false
   },
   "outputs": [
    {
     "name": "stdout",
     "output_type": "stream",
     "text": [
      "Frames per second: 3.467263559312156\n",
      "Number of read errors: 0\n"
     ]
    }
   ],
   "source": [
    "import time\n",
    "frame_1080p = np.zeros((1080,1920,3)).astype(np.uint8)\n",
    "\n",
    "num_frames = 20\n",
    "readError = 0\n",
    "\n",
    "start = time.time()\n",
    "for i in range (num_frames):   \n",
    "    # read next image\n",
    "    ret, frame_vga = videoIn.read()\n",
    "    if (ret):\n",
    "        laplacian_frame = cv2.Laplacian(frame_vga, cv2.CV_8U)\n",
    "        # copy to frame buffer / show on monitor reorder RGB (HDMI = GBR)\n",
    "        frame_1080p[0:480,0:640,[0,1,2]] = laplacian_frame[0:480,0:640,\n",
    "                                                           [1,0,2]]\n",
    "        hdmi_out.frame_raw(bytearray(frame_1080p.astype(np.int8).tobytes()))\n",
    "    else:\n",
    "        readError += 1\n",
    "end = time.time()\n",
    "\n",
    "print(\"Frames per second: \" + str((num_frames-readError) / (end - start)))\n",
    "print(\"Number of read errors: \" + str(readError))"
   ]
  },
  {
   "cell_type": "markdown",
   "metadata": {},
   "source": [
    "### Step 5: Canny edge detection\n",
    "Detecting edges on webcam input and display on HDMI out.\n",
    "\n",
    "Any edges with intensity gradient more than maxVal are sure to be edges and those below minVal are sure to be non-edges, so discarded. Those who lie between these two thresholds are classified edges or non-edges based on their connectivity. If they are connected to “sure-edge” pixels, they are considered to be part of edges. Otherwise, they are also discarded. "
   ]
  },
  {
   "cell_type": "code",
   "execution_count": 7,
   "metadata": {
    "collapsed": false
   },
   "outputs": [
    {
     "name": "stdout",
     "output_type": "stream",
     "text": [
      "Frames per second: 3.5134196158495676\n",
      "Number of read errors: 0\n"
     ]
    }
   ],
   "source": [
    "frame_1080p = np.zeros((1080,1920,3)).astype(np.uint8)\n",
    "\n",
    "num_frames = 20\n",
    "\n",
    "start = time.time()\n",
    "for i in range (num_frames):\n",
    "    # read next image\n",
    "    ret, frame_webcam = videoIn.read()\n",
    "    if (ret):\n",
    "        frame_canny = cv2.Canny(frame_webcam,100,110)\n",
    "        frame_1080p[0:480,0:640,0] = frame_canny[0:480,0:640]\n",
    "        frame_1080p[0:480,0:640,1] = frame_canny[0:480,0:640]\n",
    "        frame_1080p[0:480,0:640,2] = frame_canny[0:480,0:640]\n",
    "        # copy to frame buffer / show on monitor\n",
    "        hdmi_out.frame_raw(bytearray(frame_1080p.astype(np.int8).tobytes()))\n",
    "    else:\n",
    "        readError += 1\n",
    "end = time.time()\n",
    "\n",
    "print(\"Frames per second: \" + str((num_frames-readError) / (end - start)))\n",
    "print(\"Number of read errors: \" + str(readError))"
   ]
  },
  {
   "cell_type": "markdown",
   "metadata": {},
   "source": [
    "### Step 6: Show results\n",
    "Now use matplotlib to show filtered webcam input inside notebook."
   ]
  },
  {
   "cell_type": "code",
   "execution_count": 8,
   "metadata": {
    "collapsed": false
   },
   "outputs": [
    {
     "data": {
      "image/png": "[encoded data removed]",
      "text/plain": [
       "<matplotlib.figure.Figure at 0x302a55b0>"
      ]
     },
     "metadata": {},
     "output_type": "display_data"
    }
   ],
   "source": [
    "%matplotlib inline \n",
    "from matplotlib import pyplot as plt\n",
    "import numpy as np\n",
    "\n",
    "plt.figure(1, figsize=(10, 10))\n",
    "frame_vga = np.zeros((480,640,3)).astype(np.uint8)\n",
    "frame_vga[0:480,0:640,0] = frame_canny[0:480,0:640]\n",
    "frame_vga[0:480,0:640,1] = frame_canny[0:480,0:640]\n",
    "frame_vga[0:480,0:640,2] = frame_canny[0:480,0:640]\n",
    "plt.imshow(frame_vga[:,:,[2,1,0]])\n",
    "plt.show()"
   ]
  },
  {
   "cell_type": "markdown",
   "metadata": {},
   "source": [
    "### Step 7: Release camera and HDMI"
   ]
  },
  {
   "cell_type": "code",
   "execution_count": 9,
   "metadata": {
    "collapsed": true
   },
   "outputs": [],
   "source": [
    "videoIn.release()\n",
    "hdmi_out.stop()\n",
    "del hdmi_out"
   ]
  },
  {
   "cell_type": "code",
   "execution_count": null,
   "metadata": {
    "collapsed": true
   },
   "outputs": [],
   "source": []
  }
 ],
 "metadata": {
  "kernelspec": {
   "display_name": "Python 3",
   "language": "python",
   "name": "python3"
  },
  "language_info": {
   "codemirror_mode": {
    "name": "ipython",
    "version": 3
   },
   "file_extension": ".py",
   "mimetype": "text/x-python",
   "name": "python",
   "nbconvert_exporter": "python",
   "pygments_lexer": "ipython3",
   "version": "3.6.0"
  }
 },
 "nbformat": 4,
 "nbformat_minor": 1
}
