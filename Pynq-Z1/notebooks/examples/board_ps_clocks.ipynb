{
 "cells": [
  {
   "cell_type": "markdown",
   "metadata": {
    "deletable": true,
    "editable": true
   },
   "source": [
    "# PS Clock Control\n",
    "This notebook demonstrates how to use `Clocks` class to control the PL clocks.\n",
    "\n",
    "By default, there are at most 4 PL clocks enabled in the system. They all can be reprogrammed to valid clock rates.\n",
    "\n",
    "For the base overlay, for example, the 4 clocks required are: 100MHz, 142MHz, 200MHz, and 167MHz, respectively.\n",
    "\n",
    "Whenever the overlay is downloaded, the required clocks will also be configured.\n",
    "\n",
    "References:\n",
    "\n",
    "https://www.xilinx.com/support/documentation/user_guides/ug585-Zynq-7000-TRM.pdf\n",
    "\n",
    "### Show All Clocks\n",
    "\n",
    "The following example show all the clock rates on the board."
   ]
  },
  {
   "cell_type": "code",
   "execution_count": 1,
   "metadata": {
    "collapsed": false,
    "deletable": true,
    "editable": true,
    "scrolled": true
   },
   "outputs": [
    {
     "name": "stdout",
     "output_type": "stream",
     "text": [
      "CPU:   650.000000MHz\n",
      "FCLK0: 100.000000MHz\n",
      "FCLK1: 142.857143MHz\n",
      "FCLK2: 200.000000MHz\n",
      "FCLK3: 166.666667MHz\n"
     ]
    }
   ],
   "source": [
    "from pynq import Clocks\n",
    "from pynq import Overlay\n",
    "\n",
    "ol = Overlay(\"base.bit\")\n",
    "ol.download()\n",
    "\n",
    "print(f'CPU:   {Clocks.cpu_mhz:.6f}MHz')\n",
    "print(f'FCLK0: {Clocks.fclk0_mhz:.6f}MHz')\n",
    "print(f'FCLK1: {Clocks.fclk1_mhz:.6f}MHz')\n",
    "print(f'FCLK2: {Clocks.fclk2_mhz:.6f}MHz')\n",
    "print(f'FCLK3: {Clocks.fclk3_mhz:.6f}MHz')"
   ]
  },
  {
   "cell_type": "markdown",
   "metadata": {
    "deletable": true,
    "editable": true
   },
   "source": [
    "### Set Clock Rates\n",
    "The easiest way is to set the attributes directly. Random clock rates are used in the following examples; the clock manager will set the clock rates with best effort."
   ]
  },
  {
   "cell_type": "code",
   "execution_count": 2,
   "metadata": {
    "collapsed": false,
    "deletable": true,
    "editable": true
   },
   "outputs": [
    {
     "name": "stdout",
     "output_type": "stream",
     "text": [
      "CPU:   650.000000MHz\n",
      "FCLK0: 27.027027MHz\n",
      "FCLK1: 31.250000MHz\n",
      "FCLK2: 14.492754MHz\n",
      "FCLK3: 52.631579MHz\n"
     ]
    }
   ],
   "source": [
    "Clocks.fclk0_mhz = 27.123456\n",
    "Clocks.fclk1_mhz = 31.436546\n",
    "Clocks.fclk2_mhz = 14.597643\n",
    "Clocks.fclk3_mhz = 53.894231\n",
    "\n",
    "print(f'CPU:   {Clocks.cpu_mhz:.6f}MHz')\n",
    "print(f'FCLK0: {Clocks.fclk0_mhz:.6f}MHz')\n",
    "print(f'FCLK1: {Clocks.fclk1_mhz:.6f}MHz')\n",
    "print(f'FCLK2: {Clocks.fclk2_mhz:.6f}MHz')\n",
    "print(f'FCLK3: {Clocks.fclk3_mhz:.6f}MHz')"
   ]
  },
  {
   "cell_type": "markdown",
   "metadata": {
    "deletable": true,
    "editable": true
   },
   "source": [
    "In addition to the above approach, to set clock rates, users can also use method `set_fclk()`. Users have the following options:\n",
    "\n",
    "1. Users can specify the 2 divisor values directly, which will divide a 1000MHz (on PYNQ-Z1) clock.\n",
    "2. Users can specify the clock rate, where the 2 divisor values will be calculated internally.\n",
    "\n",
    "In case that both divisor values are provided, the third argument `clk_mhz` will be ignored."
   ]
  },
  {
   "cell_type": "code",
   "execution_count": 3,
   "metadata": {
    "collapsed": false,
    "deletable": true,
    "editable": true
   },
   "outputs": [
    {
     "name": "stdout",
     "output_type": "stream",
     "text": [
      "FCLK0: 10.000000MHz\n",
      "FCLK1: 12.500000MHz\n",
      "FCLK2: 25.000000MHz\n",
      "FCLK3: 50.000000MHz\n"
     ]
    }
   ],
   "source": [
    "# Set fclk0 to 10MHz\n",
    "Clocks.set_fclk(0,div0=10,div1=10)\n",
    "# Set fclk1 to 12.5MHz\n",
    "Clocks.set_fclk(1,clk_mhz=12.500000)\n",
    "# Set fclk2 to 20MHz\n",
    "Clocks.set_fclk(2,div0=5,clk_mhz=25.000000)\n",
    "# Set fclk3 to 50MHz\n",
    "Clocks.set_fclk(3,div1=2,clk_mhz=50.000000)\n",
    "\n",
    "# Show all the modified PL clocks\n",
    "print(f'FCLK0: {Clocks.fclk0_mhz:.6f}MHz')\n",
    "print(f'FCLK1: {Clocks.fclk1_mhz:.6f}MHz')\n",
    "print(f'FCLK2: {Clocks.fclk2_mhz:.6f}MHz')\n",
    "print(f'FCLK3: {Clocks.fclk3_mhz:.6f}MHz')"
   ]
  },
  {
   "cell_type": "markdown",
   "metadata": {
    "deletable": true,
    "editable": true
   },
   "source": [
    "### Reset Clock Rates\n",
    "Recover the original clock rates. This can be done by simply reloading the overlay."
   ]
  },
  {
   "cell_type": "code",
   "execution_count": 4,
   "metadata": {
    "collapsed": false,
    "deletable": true,
    "editable": true,
    "scrolled": true
   },
   "outputs": [
    {
     "name": "stdout",
     "output_type": "stream",
     "text": [
      "FCLK0: 100.000000MHz\n",
      "FCLK1: 142.857143MHz\n",
      "FCLK2: 200.000000MHz\n",
      "FCLK3: 166.666667MHz\n"
     ]
    }
   ],
   "source": [
    "ol.download()\n",
    "\n",
    "print(f'FCLK0: {Clocks.fclk0_mhz:.6f}MHz')\n",
    "print(f'FCLK1: {Clocks.fclk1_mhz:.6f}MHz')\n",
    "print(f'FCLK2: {Clocks.fclk2_mhz:.6f}MHz')\n",
    "print(f'FCLK3: {Clocks.fclk3_mhz:.6f}MHz')"
   ]
  }
 ],
 "metadata": {
  "kernelspec": {
   "display_name": "Python 3",
   "language": "python",
   "name": "python3"
  },
  "language_info": {
   "codemirror_mode": {
    "name": "ipython",
    "version": 3
   },
   "file_extension": ".py",
   "mimetype": "text/x-python",
   "name": "python",
   "nbconvert_exporter": "python",
   "pygments_lexer": "ipython3",
   "version": "3.6.0"
  }
 },
 "nbformat": 4,
 "nbformat_minor": 1
}
