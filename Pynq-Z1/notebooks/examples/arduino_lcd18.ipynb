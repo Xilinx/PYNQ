{
 "cells": [
  {
   "cell_type": "markdown",
   "metadata": {},
   "source": [
    "# Arduino LCD Example using AdaFruit 1.8\" LCD Shield\n",
    "\n",
    "This notebook shows a demo on Adafruit 1.8\" LCD shield."
   ]
  },
  {
   "cell_type": "code",
   "execution_count": 1,
   "metadata": {
    "collapsed": false
   },
   "outputs": [],
   "source": [
    "from pynq import Overlay\n",
    "Overlay(\"base.bit\").download()"
   ]
  },
  {
   "cell_type": "markdown",
   "metadata": {},
   "source": [
    "## 1. Instantiate AdaFruit LCD controller\n",
    "In this example, make sure that 1.8\" LCD shield from Adafruit is placed on the Arduino interface.\n",
    "\n",
    "After instantiation, users should expect to see a PYNQ logo with pink background shown on the screen."
   ]
  },
  {
   "cell_type": "code",
   "execution_count": 2,
   "metadata": {
    "collapsed": false
   },
   "outputs": [],
   "source": [
    "from pynq.iop import Arduino_LCD18\n",
    "from pynq.iop import ARDUINO\n",
    "\n",
    "lcd = Arduino_LCD18(ARDUINO)"
   ]
  },
  {
   "cell_type": "markdown",
   "metadata": {},
   "source": [
    "## 2. Clear the LCD screen\n",
    "Clear the LCD screen so users can display other pictures."
   ]
  },
  {
   "cell_type": "code",
   "execution_count": 3,
   "metadata": {
    "collapsed": false
   },
   "outputs": [],
   "source": [
    "lcd.clear()"
   ]
  },
  {
   "cell_type": "markdown",
   "metadata": {},
   "source": [
    "## 3. Display a picture\n",
    "\n",
    "The screen is 160 pixels by 128 pixels. So the largest picture that can fit in the screen is 160 by 128. To resize a picture to a desired size, users can do:\n",
    "```python\n",
    "from PIL import Image\n",
    "img = Image.open('data/large.jpg')\n",
    "w_new = 160\n",
    "h_new = 128\n",
    "new_img = img.resize((w_new,h_new),Image.ANTIALIAS)\n",
    "new_img.save('data/small.jpg','JPEG')\n",
    "img.close()\n",
    "```\n",
    "The format of the picture can be PNG, JPEG, BMP, or any other format that can be opened using the `Image` library. In the API, the picture will be compressed into a binary format having (per pixel) 5 bits for blue, 6 bits for green, and 5 bits for red. All the pixels (of 16 bits each) will be stored in DDR memory and then transferred to the IO processor for display. \n",
    "\n",
    "The orientation of the picture is as shown below, while currently, only orientation 1 and 3 are supported. Orientation 3 will display picture normally, while orientation 1 will display picture upside-down.\n",
    "<img src=\"data/adafruit_lcd18.jpg\" width=\"400px\"/>\n",
    "\n",
    "To display the picture at the desired location, the position has to be calculated. For example, to display in the center a 76-by-25 picture with orientation 3, `x_pos` has to be (160-76/2)=42, and `y_pos` has to be (128/2)+(25/2)=76.\n",
    "\n",
    "The background color is encoded as:\n",
    "\n",
    "| Parameter `color`| Background |\n",
    "| ---------------- |-----------:|\n",
    "|        0         |    Black     |\n",
    "|        1         |    Blue      |\n",
    "|        2         |    Red       |\n",
    "|        3         |    Green     |\n",
    "|        4         |    Cyan      |\n",
    "|        5         |    Magenta   |\n",
    "|        6         |    Yellow    |\n",
    "|        7         |    White     |\n",
    "|        8         |    Pink      |\n"
   ]
  },
  {
   "cell_type": "code",
   "execution_count": 4,
   "metadata": {
    "collapsed": false
   },
   "outputs": [],
   "source": [
    "lcd.display('data/board_small.jpg',x_pos=0,y_pos=127,\n",
    "            orientation=3,background=7)"
   ]
  },
  {
   "cell_type": "markdown",
   "metadata": {},
   "source": [
    "## 4. Animate the picture\n",
    "\n",
    "We can provide the number of frames where the picture is moved around with a desired background color. The parameters used in this method is similar to the `display()` method."
   ]
  },
  {
   "cell_type": "code",
   "execution_count": 5,
   "metadata": {
    "collapsed": false
   },
   "outputs": [],
   "source": [
    "lcd.animate('data/logo_small.png',frames=100,x_pos=0,y_pos=127,\n",
    "            orientation=1,background=7)"
   ]
  },
  {
   "cell_type": "markdown",
   "metadata": {
    "collapsed": true
   },
   "source": [
    "## 5. Draw a line\n",
    "\n",
    "Draw a white line from lower left corner towards upper right corner."
   ]
  },
  {
   "cell_type": "code",
   "execution_count": 6,
   "metadata": {
    "collapsed": false
   },
   "outputs": [],
   "source": [
    "lcd.clear()\n",
    "lcd.draw_line(x_start_pos=17,y_start_pos=85,\n",
    "              x_end_pos=126,y_end_pos=42,color=0xffff)"
   ]
  },
  {
   "cell_type": "markdown",
   "metadata": {},
   "source": [
    "## 6. Set cursor and orientation\n",
    "\n",
    "Clear the screen and set the cursor at (80,64), at the center of the screen."
   ]
  },
  {
   "cell_type": "code",
   "execution_count": 7,
   "metadata": {
    "collapsed": false
   },
   "outputs": [],
   "source": [
    "lcd.clear()\n",
    "lcd.set_cursor(80,64)\n",
    "lcd.set_orientation(3)"
   ]
  },
  {
   "cell_type": "markdown",
   "metadata": {},
   "source": [
    "## 7. Draw a horizontal / vertical line \n",
    "\n",
    "Clear the screen and draw a 50-pixel wide line of a custom color.\n",
    "\n",
    "The color used in this demo is:\n",
    "\n",
    "|   Color component |Binary digits  |\n",
    "| ----------------- |--------------:|\n",
    "|    Red   (5 bits) |     00001      |    \n",
    "|    Green (6 bits) |     111100     |   \n",
    "|    Blue  (5 bits) |     11111      |   "
   ]
  },
  {
   "cell_type": "code",
   "execution_count": 8,
   "metadata": {
    "collapsed": false
   },
   "outputs": [],
   "source": [
    "lcd.clear()\n",
    "lcd.draw_horizontal_line(x_start_pos=50,y_start_pos=50,\n",
    "                         length=100,color=0xf9f)"
   ]
  },
  {
   "cell_type": "markdown",
   "metadata": {},
   "source": [
    "Clear the screen and draw a 80-pixel tall line of a custom color:\n",
    "\n",
    "|   Color component |Binary digits  |\n",
    "| ----------------- |--------------:|\n",
    "|    Red   (5 bits) |     00000      |    \n",
    "|    Green (6 bits) |     111111      |   \n",
    "|    Blue  (5 bits) |     00000      |   "
   ]
  },
  {
   "cell_type": "code",
   "execution_count": 9,
   "metadata": {
    "collapsed": false
   },
   "outputs": [],
   "source": [
    "lcd.clear()\n",
    "lcd.draw_vertical_line(x_start_pos=20,y_start_pos=20,\n",
    "                       length=80,color=0x07e0)"
   ]
  },
  {
   "cell_type": "markdown",
   "metadata": {},
   "source": [
    "## 8. Print a scaled character\n",
    "\n",
    "Users can print a scaled character at a desired position with a desired text color and background color.\n",
    "\n",
    "This demo print \"P\" of twice the normal size at location (5,5) with white text color and black background."
   ]
  },
  {
   "cell_type": "code",
   "execution_count": 10,
   "metadata": {
    "collapsed": false
   },
   "outputs": [],
   "source": [
    "lcd.clear()\n",
    "lcd.print_scaled(x_start_pos=120,y_start_pos=120,char='P',\n",
    "                 color=0xffff,background=0x0000,size=2)"
   ]
  },
  {
   "cell_type": "markdown",
   "metadata": {},
   "source": [
    "## 9. Set text color and print\n",
    "\n",
    "Set text color to:\n",
    "\n",
    "|   Color component |Binary digits  |\n",
    "| ----------------- |--------------:|\n",
    "|    Red   (5 bits) |     00101      |    \n",
    "|    Green (6 bits) |     110001      |   \n",
    "|    Blue  (5 bits) |     10101      |  \n",
    "\n",
    "Now print \"U\" of the current text color at the current cursor position."
   ]
  },
  {
   "cell_type": "code",
   "execution_count": 11,
   "metadata": {
    "collapsed": false
   },
   "outputs": [],
   "source": [
    "lcd.set_color(0x2e35)\n",
    "lcd.print_char('U')"
   ]
  },
  {
   "cell_type": "markdown",
   "metadata": {},
   "source": [
    "## 10. Print a string\n",
    "\n",
    "Set desired color and print the string."
   ]
  },
  {
   "cell_type": "code",
   "execution_count": 12,
   "metadata": {
    "collapsed": false
   },
   "outputs": [],
   "source": [
    "lcd.clear()\n",
    "lcd.set_color(0x1f35)\n",
    "lcd.print_string('Hello, PYNQ!')"
   ]
  },
  {
   "cell_type": "markdown",
   "metadata": {},
   "source": [
    "## 11. Print an unsigned number"
   ]
  },
  {
   "cell_type": "code",
   "execution_count": 13,
   "metadata": {
    "collapsed": false
   },
   "outputs": [],
   "source": [
    "lcd.clear()\n",
    "lcd.print_unsigned(34567)"
   ]
  },
  {
   "cell_type": "markdown",
   "metadata": {},
   "source": [
    "## 12. Draw a filled rectangle\n",
    "\n",
    "The next 3 cells will draw blue, green, and red rectangles, respectively."
   ]
  },
  {
   "cell_type": "code",
   "execution_count": 14,
   "metadata": {
    "collapsed": false
   },
   "outputs": [],
   "source": [
    "lcd.clear()\n",
    "lcd.draw_filled_rectangle(10,10,60,80,0xf100)"
   ]
  },
  {
   "cell_type": "code",
   "execution_count": 15,
   "metadata": {
    "collapsed": false
   },
   "outputs": [],
   "source": [
    "lcd.clear()\n",
    "lcd.draw_filled_rectangle(10,10,60,80,0x07e0)"
   ]
  },
  {
   "cell_type": "code",
   "execution_count": 16,
   "metadata": {
    "collapsed": false
   },
   "outputs": [],
   "source": [
    "lcd.clear()\n",
    "lcd.draw_filled_rectangle(10,10,60,80,0x001f)"
   ]
  },
  {
   "cell_type": "markdown",
   "metadata": {
    "collapsed": true
   },
   "source": [
    "## 13. Read joystick button"
   ]
  },
  {
   "cell_type": "code",
   "execution_count": 17,
   "metadata": {
    "collapsed": false
   },
   "outputs": [
    {
     "name": "stdout",
     "output_type": "stream",
     "text": [
      "Right\n"
     ]
    }
   ],
   "source": [
    "button=lcd.read_joystick()\n",
    "if button == 1:\n",
    "    print('Left')\n",
    "elif button == 2:\n",
    "    print('Down')\n",
    "elif button==3:\n",
    "    print('Center')\n",
    "elif button==4:\n",
    "    print('Right')\n",
    "elif button==5:\n",
    "    print('Up')\n",
    "else:\n",
    "    print('Not pressed')    "
   ]
  },
  {
   "cell_type": "code",
   "execution_count": null,
   "metadata": {
    "collapsed": false
   },
   "outputs": [],
   "source": []
  }
 ],
 "metadata": {
  "kernelspec": {
   "display_name": "Python 3",
   "language": "python",
   "name": "python3"
  },
  "language_info": {
   "codemirror_mode": {
    "name": "ipython",
    "version": 3
   },
   "file_extension": ".py",
   "mimetype": "text/x-python",
   "name": "python",
   "nbconvert_exporter": "python",
   "pygments_lexer": "ipython3",
   "version": "3.4.3+"
  }
 },
 "nbformat": 4,
 "nbformat_minor": 1
}
