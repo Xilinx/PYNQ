{
 "cells": [
  {
   "cell_type": "markdown",
   "metadata": {},
   "source": [
    "# CMA - Memory Management\n",
    "\n",
    "## Introduction to CMA\n",
    "The Contiguous Memory Allocator (CMA) is a framework allowing machine-specific configurations for\n",
    "physically-contiguous memory management.\n",
    "\n",
    "This notebook introduces the reason why CMA is required, and the typical steps to use the CMA on PYNQ-Z1.\n",
    "\n",
    "## Why is it needed?\n",
    "Many devices on embedded systems require contiguous blocks of memory to operate. Such devices include cameras, hardware video decoders and encoders, etc. Such devices often require big memory buffers (a full HD frame is, for instance, more then 2 mega pixels large, i.e., more than 6 MB of memory). This makes mechanisms such as `kmalloc()` very ineffective. \n",
    "\n",
    "In addition, some embedded devices impose additional requirements on the buffers, e.g., they can operate only on buffers allocated in particular location/memory bank (if system has more than one memory bank) or buffers aligned to a particular memory boundary.\n",
    "\n",
    "PYNQ-Z1 kernel has support for 128 MB of CMA memory."
   ]
  },
  {
   "cell_type": "markdown",
   "metadata": {},
   "source": [
    "## Step 1: Importing the driver"
   ]
  },
  {
   "cell_type": "code",
   "execution_count": 1,
   "metadata": {
    "collapsed": false
   },
   "outputs": [],
   "source": [
    "from pynq.drivers import xlnk"
   ]
  },
  {
   "cell_type": "markdown",
   "metadata": {},
   "source": [
    "## Step 2: Instantiating the memory manager"
   ]
  },
  {
   "cell_type": "code",
   "execution_count": 2,
   "metadata": {
    "collapsed": false
   },
   "outputs": [],
   "source": [
    "memmanager = xlnk.xlnk()"
   ]
  },
  {
   "cell_type": "markdown",
   "metadata": {},
   "source": [
    "## Step 3: Allocating memory\n",
    "\n",
    "### Allocating non-cacheable memory\n",
    "The following cell allocates 10 bytes and marks the memory non-cacheable.\n",
    "\n",
    "In reality, a whole page is allocated."
   ]
  },
  {
   "cell_type": "code",
   "execution_count": 3,
   "metadata": {
    "collapsed": false
   },
   "outputs": [
    {
     "data": {
      "text/plain": [
       "{'Buffer Count': 1, 'CMA Memory Available': 133918720, 'CMA Memory Usage': 10}"
      ]
     },
     "execution_count": 3,
     "metadata": {},
     "output_type": "execute_result"
    }
   ],
   "source": [
    "m1 = memmanager.cma_alloc(10)\n",
    "memmanager.cma_stats()"
   ]
  },
  {
   "cell_type": "markdown",
   "metadata": {},
   "source": [
    "### Allocating memory for floating-point numbers\n",
    "The following cell allocates 10 locations for `float` and marks the memory non-cacheable."
   ]
  },
  {
   "cell_type": "code",
   "execution_count": 4,
   "metadata": {
    "collapsed": false
   },
   "outputs": [
    {
     "data": {
      "text/plain": [
       "{'Buffer Count': 2, 'CMA Memory Available': 133914624, 'CMA Memory Usage': 50}"
      ]
     },
     "execution_count": 4,
     "metadata": {},
     "output_type": "execute_result"
    }
   ],
   "source": [
    "m2 = memmanager.cma_alloc(10, data_type = \"float\")\n",
    "memmanager.cma_stats()"
   ]
  },
  {
   "cell_type": "markdown",
   "metadata": {},
   "source": [
    "### Allocating memory for 64-bit data\n",
    "The following cell allocates 128 locations for `long long` and specifies cacheable memory.\n",
    "\n",
    "Since `long long` is 8 bytes, we get 1024 allocated bytes in total."
   ]
  },
  {
   "cell_type": "code",
   "execution_count": 5,
   "metadata": {
    "collapsed": false
   },
   "outputs": [
    {
     "data": {
      "text/plain": [
       "{'Buffer Count': 3,\n",
       " 'CMA Memory Available': 133914624,\n",
       " 'CMA Memory Usage': 1074}"
      ]
     },
     "execution_count": 5,
     "metadata": {},
     "output_type": "execute_result"
    }
   ],
   "source": [
    "m3 = memmanager.cma_alloc(128, cacheable = 1, data_type = \"long long\")\n",
    "memmanager.cma_stats()"
   ]
  },
  {
   "cell_type": "markdown",
   "metadata": {},
   "source": [
    "### Casting buffers\n",
    "A CMA buffer can be cast to any valid C type, e.g., `uint8_t`."
   ]
  },
  {
   "cell_type": "code",
   "execution_count": 6,
   "metadata": {
    "collapsed": false
   },
   "outputs": [],
   "source": [
    "m3 = memmanager.cma_cast(m3, \"int\")"
   ]
  },
  {
   "cell_type": "markdown",
   "metadata": {},
   "source": [
    "### Copying between buffers"
   ]
  },
  {
   "cell_type": "code",
   "execution_count": 7,
   "metadata": {
    "collapsed": false
   },
   "outputs": [
    {
     "name": "stdout",
     "output_type": "stream",
     "text": [
      "before copy:  0.0\n",
      "after copy:  1.401298464324817e-45\n"
     ]
    }
   ],
   "source": [
    "for i in range(0,256):\n",
    "    m3[i] = i\n",
    "print(\"before copy: \", m2[1])\n",
    "\n",
    "memmanager.cma_memcopy(m2, m3,10)\n",
    "print(\"after copy: \", m2[1])"
   ]
  },
  {
   "cell_type": "markdown",
   "metadata": {},
   "source": [
    "### Bytearray and memoryview support"
   ]
  },
  {
   "cell_type": "code",
   "execution_count": 8,
   "metadata": {
    "collapsed": false
   },
   "outputs": [
    {
     "data": {
      "text/plain": [
       "b'\\x00\\x00\\x00\\x00\\x01\\x00\\x00\\x00\\x02\\x00'"
      ]
     },
     "execution_count": 8,
     "metadata": {},
     "output_type": "execute_result"
    }
   ],
   "source": [
    "bytes(memmanager.cma_get_buffer(m3,10))"
   ]
  },
  {
   "cell_type": "markdown",
   "metadata": {},
   "source": [
    "## Step 4: Freeing the memory\n",
    "Similar to `alloc()`, buffer has to be freed after use."
   ]
  },
  {
   "cell_type": "code",
   "execution_count": 9,
   "metadata": {
    "collapsed": false
   },
   "outputs": [],
   "source": [
    "memmanager.cma_free(m2)"
   ]
  },
  {
   "cell_type": "code",
   "execution_count": 10,
   "metadata": {
    "collapsed": false
   },
   "outputs": [
    {
     "data": {
      "text/plain": [
       "{'Buffer Count': 2,\n",
       " 'CMA Memory Available': 133914624,\n",
       " 'CMA Memory Usage': 1034}"
      ]
     },
     "execution_count": 10,
     "metadata": {},
     "output_type": "execute_result"
    }
   ],
   "source": [
    "memmanager.cma_stats()"
   ]
  },
  {
   "cell_type": "code",
   "execution_count": 11,
   "metadata": {
    "collapsed": false
   },
   "outputs": [],
   "source": [
    "memmanager.cma_free(m1)\n",
    "memmanager.cma_free(m3)"
   ]
  }
 ],
 "metadata": {
  "kernelspec": {
   "display_name": "Python 3",
   "language": "python",
   "name": "python3"
  },
  "language_info": {
   "codemirror_mode": {
    "name": "ipython",
    "version": 3
   },
   "file_extension": ".py",
   "mimetype": "text/x-python",
   "name": "python",
   "nbconvert_exporter": "python",
   "pygments_lexer": "ipython3",
   "version": "3.4.3+"
  }
 },
 "nbformat": 4,
 "nbformat_minor": 1
}
