{
 "cells": [
  {
   "cell_type": "markdown",
   "metadata": {},
   "source": [
    "# Arduino Analog Example\n",
    "\n",
    "This example shows how to read out analog values on Arduino analog pins. Users can either wire the test pins, or use the PYNQ shield. \n",
    "\n",
    "For this notebook, a PYNQ Arduino shield is used. The grove joystick is connected to group A1, while a grove potentiometer is connected to group A4 on this shield."
   ]
  },
  {
   "cell_type": "code",
   "execution_count": 1,
   "metadata": {
    "collapsed": true
   },
   "outputs": [],
   "source": [
    "# Make sure the base overlay is loaded\n",
    "from pynq import Overlay\n",
    "base = Overlay(\"base.bit\")"
   ]
  },
  {
   "cell_type": "markdown",
   "metadata": {},
   "source": [
    "## 1. Instantiate individual analog controller\n",
    "In this example, connect the grove joystick to group A1."
   ]
  },
  {
   "cell_type": "code",
   "execution_count": 2,
   "metadata": {
    "collapsed": true
   },
   "outputs": [],
   "source": [
    "from pynq.lib.arduino import Arduino_Analog\n",
    "from pynq.lib.arduino import ARDUINO_GROVE_A1\n",
    "from pynq.lib.arduino import ARDUINO_GROVE_A4\n",
    "\n",
    "base.arduino.load(Arduino_Analog,ARDUINO_GROVE_A1)\n",
    "analog1 = base.arduino"
   ]
  },
  {
   "cell_type": "markdown",
   "metadata": {},
   "source": [
    "## 2. Read voltage value out\n",
    "\n",
    "Read out the individual analog voltage values. The voltage (volts) is in the range of [0.0, 3.3]."
   ]
  },
  {
   "cell_type": "code",
   "execution_count": 3,
   "metadata": {},
   "outputs": [
    {
     "data": {
      "text/plain": [
       "[0.6634, 0.6575]"
      ]
     },
     "execution_count": 3,
     "metadata": {},
     "output_type": "execute_result"
    }
   ],
   "source": [
    "analog1.read()"
   ]
  },
  {
   "cell_type": "markdown",
   "metadata": {},
   "source": [
    "## 3. Read raw value out\n",
    "\n",
    "Read out the individual raw values. Since the XADC is 16-bit, the raw value is in the range of [0, 65535]."
   ]
  },
  {
   "cell_type": "code",
   "execution_count": 4,
   "metadata": {},
   "outputs": [
    {
     "data": {
      "text/plain": [
       "13055"
      ]
     },
     "execution_count": 4,
     "metadata": {},
     "output_type": "execute_result"
    }
   ],
   "source": [
    "analog1.read_raw()[0]"
   ]
  },
  {
   "cell_type": "markdown",
   "metadata": {},
   "source": [
    "## 4. Logging multiple sample values\n",
    "\n",
    "### Step 1: Starting logging once every 100 milliseconds\n",
    "Once the interval is set, users can change the analog values.\n",
    "\n",
    "For example, if the grove potentiometer is used, move the slider back and forth slowly.\n",
    "If the joy stick is used, rotate the joy stick slowly."
   ]
  },
  {
   "cell_type": "code",
   "execution_count": 5,
   "metadata": {
    "collapsed": true
   },
   "outputs": [],
   "source": [
    "from time import sleep\n",
    "\n",
    "analog1.set_log_interval_ms(100)\n",
    "analog1.start_log()"
   ]
  },
  {
   "cell_type": "markdown",
   "metadata": {
    "collapsed": true
   },
   "source": [
    "### Step 2: Get the log\n",
    "Stop and get the log whenever is done.\n",
    "\n",
    "The log is a nested list, where each list inside log records the samples for one channel."
   ]
  },
  {
   "cell_type": "code",
   "execution_count": 6,
   "metadata": {
    "collapsed": true
   },
   "outputs": [],
   "source": [
    "log1 = analog1.get_log()"
   ]
  },
  {
   "cell_type": "markdown",
   "metadata": {},
   "source": [
    "### Step 3. Plot values over time\n",
    "The voltage values can be logged and displayed."
   ]
  },
  {
   "cell_type": "code",
   "execution_count": 7,
   "metadata": {},
   "outputs": [
    {
     "data": {
      "image/png": "[encoded data removed]",
      "text/plain": [
       "<matplotlib.figure.Figure at 0x2f640bb0>"
      ]
     },
     "metadata": {},
     "output_type": "display_data"
    }
   ],
   "source": [
    "%matplotlib inline\n",
    "import matplotlib.pyplot as plt\n",
    "from matplotlib.legend_handler import HandlerLine2D\n",
    "\n",
    "line1, = plt.plot(range(len(log1[0])), log1[0], \n",
    "                  'ro', label=\"X-axis of joystick\")\n",
    "line2, = plt.plot(range(len(log1[1])), log1[1], \n",
    "                  'bs', label=\"Y-axis of joystick\")\n",
    "plt.title('Arduino Analog Voltage Log')\n",
    "plt.axis([0, len(log1[0]), 0.0, 3.3])\n",
    "plt.legend(loc=4,bbox_to_anchor=(1, -0.3),\n",
    "           ncol=2, borderaxespad=0.,\n",
    "           handler_map={line1: HandlerLine2D(numpoints=1),\n",
    "                        line2: HandlerLine2D(numpoints=1)})\n",
    "plt.show()"
   ]
  },
  {
   "cell_type": "markdown",
   "metadata": {},
   "source": [
    "## 5. Logging multiple devices\n",
    "We can also repeat the above steps to track multiple analog devices.\n",
    "In this example: \n",
    "    * connect the grove joystick to group A1.\n",
    "    * connect the grove potentiometer to group A4.\n",
    "\n",
    "Both analog devices will be monitored.\n",
    "\n",
    "### Step 1: Starting logging once every 100 milliseconds\n",
    "Once the interval is set, users can change the analog values by:\n",
    "    * rotating the joy stick.\n",
    "    * moving the slider back and forth."
   ]
  },
  {
   "cell_type": "code",
   "execution_count": 8,
   "metadata": {},
   "outputs": [],
   "source": [
    "base.arduino.load(Arduino_Analog,[0,1,4])\n",
    "analog2 = base.arduino\n",
    "analog2.set_log_interval_ms(100)\n",
    "analog2.start_log()"
   ]
  },
  {
   "cell_type": "markdown",
   "metadata": {},
   "source": [
    "### Step 2: Get the log\n",
    "Stop and get the log whenever is done.\n",
    "\n",
    "The log is a nested list, where each list inside log records the samples for one channel."
   ]
  },
  {
   "cell_type": "code",
   "execution_count": 9,
   "metadata": {
    "collapsed": true
   },
   "outputs": [],
   "source": [
    "log2 = analog2.get_log()"
   ]
  },
  {
   "cell_type": "markdown",
   "metadata": {},
   "source": [
    "### Step 3. Plot values over time\n",
    "The voltage values can be logged and displayed."
   ]
  },
  {
   "cell_type": "code",
   "execution_count": 10,
   "metadata": {},
   "outputs": [
    {
     "data": {
      "image/png": "[encoded data removed]",
      "text/plain": [
       "<matplotlib.figure.Figure at 0x2ec029b0>"
      ]
     },
     "metadata": {},
     "output_type": "display_data"
    }
   ],
   "source": [
    "%matplotlib inline\n",
    "import matplotlib.pyplot as plt\n",
    "from matplotlib.legend_handler import HandlerLine2D\n",
    "\n",
    "line1, = plt.plot(range(len(log2[0])), log2[0], \n",
    "                  'ro', label=\"X-axis of joystick\")\n",
    "line2, = plt.plot(range(len(log2[1])), log2[1], \n",
    "                  'bs', label=\"Y-axis of joystick\")\n",
    "line3, = plt.plot(range(len(log2[2])), log2[2], \n",
    "                  'g^', label=\"potentiometer\")\n",
    "plt.title('Arduino Analog Voltage Log')\n",
    "plt.axis([0, len(log2[0]), 0.0, 3.3])\n",
    "plt.legend(loc=4,bbox_to_anchor=(1, -0.3),\n",
    "           ncol=2, borderaxespad=0.,\n",
    "           handler_map={line1: HandlerLine2D(numpoints=1),\n",
    "                        line2: HandlerLine2D(numpoints=1),\n",
    "                        line3: HandlerLine2D(numpoints=1)})\n",
    "plt.show()"
   ]
  },
  {
   "cell_type": "code",
   "execution_count": null,
   "metadata": {
    "collapsed": true
   },
   "outputs": [],
   "source": []
  }
 ],
 "metadata": {
  "kernelspec": {
   "display_name": "Python 3",
   "language": "python",
   "name": "python3"
  },
  "language_info": {
   "codemirror_mode": {
    "name": "ipython",
    "version": 3
   },
   "file_extension": ".py",
   "mimetype": "text/x-python",
   "name": "python",
   "nbconvert_exporter": "python",
   "pygments_lexer": "ipython3",
   "version": "3.6.0"
  }
 },
 "nbformat": 4,
 "nbformat_minor": 1
}
