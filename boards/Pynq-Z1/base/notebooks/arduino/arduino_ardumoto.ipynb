{
 "cells": [
  {
   "cell_type": "markdown",
   "metadata": {},
   "source": [
    "# Ardumoto Example\n",
    "\n",
    "This example shows how to use the [Ardumoto](https://www.sparkfun.com/products/14180?_ga=2.131154063.1683239815.1506444499-1487919484.1504886094) on the Pynq-Z1 board.  \n",
    "Ardumoto supports two DC motor driving.\n",
    "\n",
    "Motor A and Motor B are conneccted as below to the arduino pins:\n",
    "       \n",
    "    1) Default connections:\n",
    "       pin 2 - Direction control for motor A\n",
    "\t   pin 3 - PWM control (speed) for motor A\n",
    "\t   pin 4 - Direction control for motor B\n",
    "\t   pin 11 - PWM control (speed) for motor B\n",
    "       \n",
    "    2) Alternate Connections\n",
    "       pin 8 - Direction control for motor A\n",
    "\t   pin 9 - PWM control (speed) for motor A\n",
    "\t   pin 7 - Direction control for motor B\n",
    "\t   pin 10 - PWM control (speed) for motor B\n",
    "\n",
    "\n",
    "\n"
   ]
  },
  {
   "cell_type": "code",
   "execution_count": 1,
   "metadata": {
    "collapsed": true
   },
   "outputs": [],
   "source": [
    "# Make sure the base overlay is loaded\n",
    "from pynq.overlays.base import BaseOverlay\n",
    "base = BaseOverlay(\"base.bit\")"
   ]
  },
  {
   "cell_type": "markdown",
   "metadata": {},
   "source": [
    "### 1. Instantiate Ardumoto"
   ]
  },
  {
   "cell_type": "code",
   "execution_count": 2,
   "metadata": {
    "collapsed": true,
    "scrolled": true
   },
   "outputs": [],
   "source": [
    "from pynq.lib.arduino.arduino_ardumoto import Arduino_Ardumoto\n",
    "\n",
    "# Instantiate Grove ultrasonic ranger on Arduino shield G1\n",
    "ardu = Arduino_Ardumoto(base.ARDUINO)"
   ]
  },
  {
   "cell_type": "markdown",
   "metadata": {},
   "source": [
    "### 2. Set Polarity "
   ]
  },
  {
   "cell_type": "code",
   "execution_count": 3,
   "metadata": {
    "collapsed": true
   },
   "outputs": [],
   "source": [
    "#use deafult pin configuration \n",
    "ardu.configure_pins(ardu.defaultpins)"
   ]
  },
  {
   "cell_type": "code",
   "execution_count": 18,
   "metadata": {},
   "outputs": [],
   "source": [
    "#Set Polarity of motor -> pol_default : forward = clockwise or pol_reverse : forward = anticlockwise\n",
    "ardu.configure_polarity(ardu.motorA, ardu.pol_default) \n",
    "ardu.configure_polarity(ardu.motorB, ardu.pol_reverse) "
   ]
  },
  {
   "cell_type": "markdown",
   "metadata": {},
   "source": [
    "### 3. Set Direction and speed for each motor and run each individually"
   ]
  },
  {
   "cell_type": "code",
   "execution_count": 19,
   "metadata": {},
   "outputs": [
    {
     "data": {
      "text/plain": [
       "0"
      ]
     },
     "execution_count": 19,
     "metadata": {},
     "output_type": "execute_result"
    }
   ],
   "source": [
    "#Use MOTOR A and set it for forward rotation\n",
    "ardu.set_dir(ardu.motorA,ardu.forward)"
   ]
  },
  {
   "cell_type": "code",
   "execution_count": 20,
   "metadata": {},
   "outputs": [
    {
     "data": {
      "text/plain": [
       "0"
      ]
     },
     "execution_count": 20,
     "metadata": {},
     "output_type": "execute_result"
    }
   ],
   "source": [
    "#set speed for MOTOR A with duty = 10\n",
    "ardu.set_speed(ardu.motorA,10)"
   ]
  },
  {
   "cell_type": "code",
   "execution_count": 21,
   "metadata": {},
   "outputs": [
    {
     "data": {
      "text/plain": [
       "1"
      ]
     },
     "execution_count": 21,
     "metadata": {},
     "output_type": "execute_result"
    }
   ],
   "source": [
    "#Use MOTOR B and set it for forward rotation\n",
    "ardu.set_dir(ardu.motorB,ardu.forward)"
   ]
  },
  {
   "cell_type": "code",
   "execution_count": 22,
   "metadata": {},
   "outputs": [
    {
     "data": {
      "text/plain": [
       "1"
      ]
     },
     "execution_count": 22,
     "metadata": {},
     "output_type": "execute_result"
    }
   ],
   "source": [
    "#set speed for MOTOR B with duty = 90\n",
    "ardu.set_speed(ardu.motorB,90)"
   ]
  },
  {
   "cell_type": "code",
   "execution_count": 23,
   "metadata": {},
   "outputs": [
    {
     "data": {
      "text/plain": [
       "1"
      ]
     },
     "execution_count": 23,
     "metadata": {},
     "output_type": "execute_result"
    }
   ],
   "source": [
    "from time import sleep\n",
    "ardu.run(ardu.motorA)\n",
    "sleep(1)\n",
    "ardu.stop(ardu.motorA)\n",
    "sleep(1)\n",
    "ardu.run(ardu.motorB)\n",
    "sleep(1)\n",
    "ardu.stop(ardu.motorB)"
   ]
  },
  {
   "cell_type": "markdown",
   "metadata": {},
   "source": [
    "### 4. run both motor together"
   ]
  },
  {
   "cell_type": "code",
   "execution_count": 10,
   "metadata": {},
   "outputs": [
    {
     "data": {
      "text/plain": [
       "1"
      ]
     },
     "execution_count": 10,
     "metadata": {},
     "output_type": "execute_result"
    }
   ],
   "source": [
    "ardu.run(ardu.motorA)\n",
    "ardu.run(ardu.motorB)\n",
    "sleep(1)\n",
    "ardu.stop(ardu.motorA)\n",
    "ardu.stop(ardu.motorB)"
   ]
  },
  {
   "cell_type": "markdown",
   "metadata": {},
   "source": [
    "### 5. run one motor clockwise and other motor anti-clockwise"
   ]
  },
  {
   "cell_type": "code",
   "execution_count": 11,
   "metadata": {},
   "outputs": [
    {
     "data": {
      "text/plain": [
       "1"
      ]
     },
     "execution_count": 11,
     "metadata": {},
     "output_type": "execute_result"
    }
   ],
   "source": [
    "#Use MOTOR A and set it for forward rotation\n",
    "ardu.set_dir(ardu.motorB,ardu.forward)\n",
    "#set speed for MOTOR A with duty = 50\n",
    "ardu.set_speed(0,50)\n",
    "#Use MOTOR B and set it for backward rotation\n",
    "ardu.set_dir(ardu.motorB,ardu.backward)\n",
    "#set speed for MOTOR B with duty = 50\n",
    "ardu.set_speed(ardu.motorB,50)\n",
    "#Run both the motors\n",
    "ardu.run(ardu.motorA)\n",
    "ardu.run(ardu.motorB)\n",
    "sleep(1)\n",
    "ardu.stop(ardu.motorA)\n",
    "ardu.stop(ardu.motorB)"
   ]
  }
 ],
 "metadata": {
  "kernelspec": {
   "display_name": "Python 3",
   "language": "python",
   "name": "python3"
  },
  "language_info": {
   "codemirror_mode": {
    "name": "ipython",
    "version": 3
   },
   "file_extension": ".py",
   "mimetype": "text/x-python",
   "name": "python",
   "nbconvert_exporter": "python",
   "pygments_lexer": "ipython3",
   "version": "3.6.0"
  }
 },
 "nbformat": 4,
 "nbformat_minor": 1
}
