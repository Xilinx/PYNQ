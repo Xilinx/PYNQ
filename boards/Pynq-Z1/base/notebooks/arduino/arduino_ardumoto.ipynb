{
 "cells": [
  {
   "cell_type": "markdown",
   "metadata": {},
   "source": [
    "# Ardumoto Example\n",
    "\n",
    "This example shows how to use the \n",
    "[Ardumoto](https://www.sparkfun.com/products/14180) on the board.\n",
    "Ardumoto supports two DC motor driving.\n",
    "\n",
    "There are also [instructions](https://learn.sparkfun.com/tutorials/ardumoto-shield-kit-hookup-guide) \n",
    "on how to hook up the shield.\n",
    "\n",
    "Motor A and Motor B are connected as below to the arduino pins:\n",
    "\n",
    "1. Default connections\n",
    "\n",
    "| Pin number | Functionality                    |\n",
    "|------------|----------------------------------|\n",
    "| 2          | Direction control for motor A    |\n",
    "| 3          | PWM control (speed) for motor A  |\n",
    "| 4          | Direction control for motor B    |\n",
    "| 11         | PWM control (speed) for motor B  |\n",
    "\n",
    "2. Alternate Connections\n",
    "\n",
    "| Pin number | Functionality                    |\n",
    "|------------|----------------------------------|\n",
    "| 8          | Direction control for motor A    |\n",
    "| 9          | PWM control (speed) for motor A  |\n",
    "| 7          | Direction control for motor B    |\n",
    "| 10         | PWM control (speed) for motor B  |\n",
    "       \n",
    "In this notebook, we will assume the first (default) pin configuration.\n",
    "\n",
    "There are multiple ways to hook up the motor to the shield, as shown below:\n",
    "\n",
    "![alt text](data/ardumoto_wiring.jpg)\n",
    "\n",
    "In this notebook, we will assume the second way in the above picture.\n",
    "\n",
    "### 1. Instantiate ardumoto\n",
    "\n",
    "First make sure the base overlay is loaded."
   ]
  },
  {
   "cell_type": "code",
   "execution_count": 1,
   "metadata": {},
   "outputs": [
    {
     "data": {
      "application/javascript": [
       "\n",
       "require(['notebook/js/codecell'], function(codecell) {\n",
       "  codecell.CodeCell.options_default.highlight_modes[\n",
       "      'magic_text/x-csrc'] = {'reg':[/^%%microblaze/]};\n",
       "  Jupyter.notebook.events.one('kernel_ready.Kernel', function(){\n",
       "      Jupyter.notebook.get_cells().map(function(cell){\n",
       "          if (cell.cell_type == 'code'){ cell.auto_highlight(); } }) ;\n",
       "  });\n",
       "});\n"
      ]
     },
     "metadata": {},
     "output_type": "display_data"
    }
   ],
   "source": [
    "from pynq.overlays.base import BaseOverlay\n",
    "from pynq.lib.arduino import Arduino_Ardumoto\n",
    "\n",
    "base = BaseOverlay(\"base.bit\")\n",
    "controller = Arduino_Ardumoto(base.ARDUINO)"
   ]
  },
  {
   "cell_type": "markdown",
   "metadata": {},
   "source": [
    "### 2. Set pin and polarity configurations\n",
    "We set the default pin configuration."
   ]
  },
  {
   "cell_type": "code",
   "execution_count": 2,
   "metadata": {},
   "outputs": [],
   "source": [
    "controller.configure_pin(controller.PIN_DEFAULT)"
   ]
  },
  {
   "cell_type": "markdown",
   "metadata": {},
   "source": [
    "We can set motor A and B to have the same polarity."
   ]
  },
  {
   "cell_type": "code",
   "execution_count": 3,
   "metadata": {},
   "outputs": [],
   "source": [
    "controller.configure_polarity(controller.MOTOR_A, controller.POLAR_DEFAULT) \n",
    "controller.configure_polarity(controller.MOTOR_B, controller.POLAR_DEFAULT)"
   ]
  },
  {
   "cell_type": "markdown",
   "metadata": {},
   "source": [
    "### 3. Set direction and speed for each motor"
   ]
  },
  {
   "cell_type": "code",
   "execution_count": 4,
   "metadata": {},
   "outputs": [],
   "source": [
    "controller.set_direction(controller.MOTOR_A, controller.FORWARD)\n",
    "controller.set_direction(controller.MOTOR_B, controller.FORWARD)"
   ]
  },
  {
   "cell_type": "markdown",
   "metadata": {},
   "source": [
    "Now let us set motor A speed to be 10% of the maximum speed."
   ]
  },
  {
   "cell_type": "code",
   "execution_count": 5,
   "metadata": {},
   "outputs": [],
   "source": [
    "controller.set_speed(controller.MOTOR_A, 10)"
   ]
  },
  {
   "cell_type": "markdown",
   "metadata": {},
   "source": [
    "Set speed for motor B to be the maximum."
   ]
  },
  {
   "cell_type": "code",
   "execution_count": 6,
   "metadata": {},
   "outputs": [],
   "source": [
    "controller.set_speed(controller.MOTOR_B, 99)"
   ]
  },
  {
   "cell_type": "markdown",
   "metadata": {},
   "source": [
    "Run each individual motor for a few seconds."
   ]
  },
  {
   "cell_type": "code",
   "execution_count": 7,
   "metadata": {},
   "outputs": [],
   "source": [
    "from time import sleep\n",
    "\n",
    "controller.run(controller.MOTOR_A)\n",
    "sleep(3)\n",
    "controller.stop(controller.MOTOR_A)\n",
    "sleep(1)\n",
    "controller.run(controller.MOTOR_B)\n",
    "sleep(3)\n",
    "controller.stop(controller.MOTOR_B)"
   ]
  },
  {
   "cell_type": "markdown",
   "metadata": {},
   "source": [
    "### 4. Run both motors together\n",
    "The following cell will run both motors in the same direction,\n",
    "but with different speeds."
   ]
  },
  {
   "cell_type": "code",
   "execution_count": 8,
   "metadata": {},
   "outputs": [],
   "source": [
    "controller.run(controller.MOTOR_A)\n",
    "controller.run(controller.MOTOR_B)\n",
    "sleep(2)\n",
    "controller.stop(controller.MOTOR_A)\n",
    "controller.stop(controller.MOTOR_B)"
   ]
  },
  {
   "cell_type": "markdown",
   "metadata": {},
   "source": [
    "Again, the rotation of the motor depends on the wiring to the shield.\n",
    "In our setup, the following cell will result in two motors rotating \n",
    "in opposite directions."
   ]
  },
  {
   "cell_type": "code",
   "execution_count": 9,
   "metadata": {},
   "outputs": [],
   "source": [
    "controller.set_direction(controller.MOTOR_A, controller.FORWARD)\n",
    "controller.set_speed(controller.MOTOR_A, 50)\n",
    "\n",
    "controller.set_direction(controller.MOTOR_B, controller.BACKWARD)\n",
    "controller.set_speed(controller.MOTOR_B, 50)\n",
    "\n",
    "controller.run(controller.MOTOR_A)\n",
    "controller.run(controller.MOTOR_B)\n",
    "sleep(3)\n",
    "controller.stop(controller.MOTOR_A)\n",
    "controller.stop(controller.MOTOR_B)"
   ]
  },
  {
   "cell_type": "markdown",
   "metadata": {},
   "source": [
    "Users can also check the status of each motor.\n",
    "The `Arduino_Ardumoto` class has 2 dictionaries storing the status of motor A\n",
    "and B, respectively."
   ]
  },
  {
   "cell_type": "code",
   "execution_count": 10,
   "metadata": {},
   "outputs": [
    {
     "name": "stdout",
     "output_type": "stream",
     "text": [
      "{'status': 'stopped', 'polarity': 0, 'direction': 0, 'speed': 50}\n",
      "{'status': 'stopped', 'polarity': 0, 'direction': 1, 'speed': 50}\n"
     ]
    }
   ],
   "source": [
    "print(controller.motor_a)\n",
    "print(controller.motor_b)"
   ]
  }
 ],
 "metadata": {
  "kernelspec": {
   "display_name": "Python 3",
   "language": "python",
   "name": "python3"
  },
  "language_info": {
   "codemirror_mode": {
    "name": "ipython",
    "version": 3
   },
   "file_extension": ".py",
   "mimetype": "text/x-python",
   "name": "python",
   "nbconvert_exporter": "python",
   "pygments_lexer": "ipython3",
   "version": "3.6.0"
  }
 },
 "nbformat": 4,
 "nbformat_minor": 1
}
