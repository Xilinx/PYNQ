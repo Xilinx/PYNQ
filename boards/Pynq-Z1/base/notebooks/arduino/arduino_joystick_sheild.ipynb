{
 "cells": [
  {
   "cell_type": "markdown",
   "metadata": {},
   "source": [
    "# Arduino Joystick Sheild Example\n",
    "\n",
    "This example shows how to use the [Sparkfun_Joystick](https://www.sparkfun.com/products/9760) on the Pynq-Z1 board. The Joystick sheild contains an analog joystick whihc is connected to A0 and A1 analog channels of Arduino connector. It also contains four push buttons connected at D3-D6 pins of the arduino connector. A Select button for joystick is connected to the D2 pin.\n",
    "\n",
    "For this notebook, a Sparkfun Joystick shield is  required."
   ]
  },
  {
   "cell_type": "code",
   "execution_count": 1,
   "metadata": {
    "collapsed": true
   },
   "outputs": [],
   "source": [
    "# Make sure the base overlay is loaded\n",
    "from pynq.overlays.base import BaseOverlay\n",
    "base = BaseOverlay(\"base.bit\")"
   ]
  },
  {
   "cell_type": "markdown",
   "metadata": {},
   "source": [
    "### 1. Instantiate Joystick"
   ]
  },
  {
   "cell_type": "code",
   "execution_count": 2,
   "metadata": {
    "collapsed": true,
    "scrolled": true
   },
   "outputs": [],
   "source": [
    "from pynq.lib.arduino.arduino_joystick import Arduino_joystick\n",
    "\n",
    "# Instantiate Grove ultrasonic ranger on Arduino shield G1\n",
    "joystick = Arduino_joystick(base.ARDUINO)"
   ]
  },
  {
   "cell_type": "markdown",
   "metadata": {},
   "source": [
    "### 2. Do one time x and y measurement"
   ]
  },
  {
   "cell_type": "code",
   "execution_count": 3,
   "metadata": {},
   "outputs": [
    {
     "data": {
      "text/plain": [
       "27404"
      ]
     },
     "execution_count": 3,
     "metadata": {},
     "output_type": "execute_result"
    }
   ],
   "source": [
    "x = joystick.read_raw_x()\n",
    "x"
   ]
  },
  {
   "cell_type": "code",
   "execution_count": 4,
   "metadata": {},
   "outputs": [
    {
     "data": {
      "text/plain": [
       "30639"
      ]
     },
     "execution_count": 4,
     "metadata": {},
     "output_type": "execute_result"
    }
   ],
   "source": [
    "y = joystick.read_raw_y()\n",
    "y"
   ]
  },
  {
   "cell_type": "markdown",
   "metadata": {},
   "source": [
    "### 3. Find direction\n",
    "up = 0, \n",
    "right_up = 1, \n",
    "right = 2, \n",
    "right_down = 3, \n",
    "down = 4, \n",
    "left_down = 5, \n",
    "left = 6, \n",
    "left_up = 7,\n",
    "centered = 8\n"
   ]
  },
  {
   "cell_type": "code",
   "execution_count": 5,
   "metadata": {},
   "outputs": [
    {
     "data": {
      "text/plain": [
       "8"
      ]
     },
     "execution_count": 5,
     "metadata": {},
     "output_type": "execute_result"
    }
   ],
   "source": [
    "direction = joystick.read_direction()\n",
    "direction"
   ]
  },
  {
   "cell_type": "markdown",
   "metadata": {},
   "source": [
    "### 4. Find Buttons\n",
    "select = 0,\n",
    "right = 1,\n",
    "up = 2, \n",
    "down = 3,\n",
    "left = 4,\n"
   ]
  },
  {
   "cell_type": "code",
   "execution_count": 12,
   "metadata": {},
   "outputs": [
    {
     "data": {
      "text/plain": [
       "[1, 0, 0, 0, 0]"
      ]
     },
     "execution_count": 12,
     "metadata": {},
     "output_type": "execute_result"
    }
   ],
   "source": [
    "buttons = joystick.read_buttons()\n",
    "buttons"
   ]
  }
 ],
 "metadata": {
  "kernelspec": {
   "display_name": "Python 3",
   "language": "python",
   "name": "python3"
  },
  "language_info": {
   "codemirror_mode": {
    "name": "ipython",
    "version": 3
   },
   "file_extension": ".py",
   "mimetype": "text/x-python",
   "name": "python",
   "nbconvert_exporter": "python",
   "pygments_lexer": "ipython3",
   "version": "3.6.0"
  }
 },
 "nbformat": 4,
 "nbformat_minor": 1
}
