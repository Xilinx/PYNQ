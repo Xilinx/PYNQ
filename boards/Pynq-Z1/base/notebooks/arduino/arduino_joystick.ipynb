{
 "cells": [
  {
   "cell_type": "markdown",
   "metadata": {},
   "source": [
    "# Arduino Joystick Shield Example\n",
    "\n",
    "This example shows how to use the [Sparkfun Joystick](https://www.sparkfun.com/products/9760) \n",
    "on the board. The Joystick shield contains an analog joystick which is \n",
    "connected to A0 and A1 analog channels of the Arduino connector. It also \n",
    "contains four push buttons connected at D3-D6 pins of the Arduino connector.\n",
    "\n",
    "For this notebook, an Arduino joystick shield is required."
   ]
  },
  {
   "cell_type": "code",
   "execution_count": 1,
   "metadata": {},
   "outputs": [
    {
     "data": {
      "application/javascript": [
       "\n",
       "require(['notebook/js/codecell'], function(codecell) {\n",
       "  codecell.CodeCell.options_default.highlight_modes[\n",
       "      'magic_text/x-csrc'] = {'reg':[/^%%microblaze/]};\n",
       "  Jupyter.notebook.events.one('kernel_ready.Kernel', function(){\n",
       "      Jupyter.notebook.get_cells().map(function(cell){\n",
       "          if (cell.cell_type == 'code'){ cell.auto_highlight(); } }) ;\n",
       "  });\n",
       "});\n"
      ]
     },
     "metadata": {},
     "output_type": "display_data"
    }
   ],
   "source": [
    "from pynq.overlays.base import BaseOverlay\n",
    "\n",
    "base = BaseOverlay(\"base.bit\")"
   ]
  },
  {
   "cell_type": "markdown",
   "metadata": {},
   "source": [
    "### 1. Instantiate joystick class\n",
    "Make sure the joystick shield is plugged in."
   ]
  },
  {
   "cell_type": "code",
   "execution_count": 2,
   "metadata": {
    "scrolled": true
   },
   "outputs": [],
   "source": [
    "from pynq.lib.arduino import Arduino_Joystick\n",
    "\n",
    "joystick = Arduino_Joystick(base.ARDUINO)"
   ]
  },
  {
   "cell_type": "markdown",
   "metadata": {},
   "source": [
    "### 2. Do one time measurement\n",
    "The joystick can measure horizontal direction  `x` \n",
    "and vertical direction `y`.\n",
    "\n",
    "The thresholds for raw values are:\n",
    "\n",
    "Horizontal:\n",
    "\n",
    "| Threshold          | Direction    |\n",
    "| ------------------ |:------------:|\n",
    "| x < 25000          | left         |\n",
    "| 25000 < x < 39000  | center       |\n",
    "| x > 39000          | right        |\n",
    "\n",
    "Vertical:\n",
    "\n",
    "| Threshold          | Direction    |\n",
    "| ------------------ |:------------:|\n",
    "| y < 25000          | down         |\n",
    "| 25000 < y < 39000  | center       |\n",
    "| y > 39000          | up           |\n",
    "\n",
    "For the next cell, leave the joystick in its natural position."
   ]
  },
  {
   "cell_type": "code",
   "execution_count": 3,
   "metadata": {},
   "outputs": [
    {
     "data": {
      "text/plain": [
       "27336"
      ]
     },
     "execution_count": 3,
     "metadata": {},
     "output_type": "execute_result"
    }
   ],
   "source": [
    "x = joystick.read_raw_x()\n",
    "x"
   ]
  },
  {
   "cell_type": "markdown",
   "metadata": {},
   "source": [
    "For the next cell, let's pull the joystick towards the `up` direction."
   ]
  },
  {
   "cell_type": "code",
   "execution_count": 4,
   "metadata": {},
   "outputs": [
    {
     "data": {
      "text/plain": [
       "65535"
      ]
     },
     "execution_count": 4,
     "metadata": {},
     "output_type": "execute_result"
    }
   ],
   "source": [
    "y = joystick.read_raw_y()\n",
    "y"
   ]
  },
  {
   "cell_type": "markdown",
   "metadata": {},
   "source": [
    "### 3. Find direction\n",
    "We can measure the direction by calling `read_direction()`.\n",
    "\n",
    "Let's pull the joystick towards the bottom right corner."
   ]
  },
  {
   "cell_type": "code",
   "execution_count": 5,
   "metadata": {},
   "outputs": [
    {
     "data": {
      "text/plain": [
       "'down_right'"
      ]
     },
     "execution_count": 5,
     "metadata": {},
     "output_type": "execute_result"
    }
   ],
   "source": [
    "direction = joystick.read_direction()\n",
    "direction"
   ]
  },
  {
   "cell_type": "markdown",
   "metadata": {},
   "source": [
    "### 4. Read button values\n",
    "\n",
    "Based on the [schematic](https://cdn.sparkfun.com/datasheets/Dev/Arduino/Shields/Joystick_Shield-v14.pdf) \n",
    "of the shield, we can see the read value will go low if the corresponding\n",
    "button has been pressed.\n",
    "\n",
    "Also notice that the `select` signal is not connected to any of the buttons on\n",
    "the shield. Therefore we will always read `1` for the `select` signal.\n",
    "\n",
    "Run the next cell while pushing both button `D4` and `D6`."
   ]
  },
  {
   "cell_type": "code",
   "execution_count": 6,
   "metadata": {},
   "outputs": [
    {
     "data": {
      "text/plain": [
       "{'D3': 1, 'D4': 0, 'D5': 1, 'D6': 0, 'select': 1}"
      ]
     },
     "execution_count": 6,
     "metadata": {},
     "output_type": "execute_result"
    }
   ],
   "source": [
    "button_values = joystick.read_buttons()\n",
    "button_values"
   ]
  }
 ],
 "metadata": {
  "kernelspec": {
   "display_name": "Python 3",
   "language": "python",
   "name": "python3"
  },
  "language_info": {
   "codemirror_mode": {
    "name": "ipython",
    "version": 3
   },
   "file_extension": ".py",
   "mimetype": "text/x-python",
   "name": "python",
   "nbconvert_exporter": "python",
   "pygments_lexer": "ipython3",
   "version": "3.6.0"
  }
 },
 "nbformat": 4,
 "nbformat_minor": 1
}
