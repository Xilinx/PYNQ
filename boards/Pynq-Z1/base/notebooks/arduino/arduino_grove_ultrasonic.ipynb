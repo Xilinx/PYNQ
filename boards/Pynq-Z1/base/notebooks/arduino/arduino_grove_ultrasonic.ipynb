{
 "cells": [
  {
   "cell_type": "markdown",
   "metadata": {},
   "source": [
    "# Grove Ultrasonic Ranger Example\n",
    "\n",
    "This example shows how to use the [Grove ultrasonic_ranger](https://www.seeedstudio.com/Grove---Ultrasonic-Ranger-p-960.html) on the Pynq-Z1 board.  The Ultrasonic sensor has a Maximal Range of 400 cm, a Minimal Range of 3 cm and Resolution of 1 cm.  \n",
    "If no obstacle is seen by the sensor, 500 is returned by default.\n",
    "\n",
    "For this notebook, a PYNQ Arduino shield is also required.  The ultrasonic sensor is attached to the G1 connection on the shield."
   ]
  },
  {
   "cell_type": "code",
   "execution_count": 1,
   "metadata": {
    "collapsed": true
   },
   "outputs": [],
   "source": [
    "# Make sure the base overlay is loaded\n",
    "from pynq.overlays.base import BaseOverlay\n",
    "base = BaseOverlay(\"base.bit\")"
   ]
  },
  {
   "cell_type": "markdown",
   "metadata": {},
   "source": [
    "### 1. Instantiate Ultrasonic Ranger"
   ]
  },
  {
   "cell_type": "code",
   "execution_count": 2,
   "metadata": {
    "scrolled": true
   },
   "outputs": [
    {
     "name": "stdout",
     "output_type": "stream",
     "text": [
      "[2, 3]\n"
     ]
    }
   ],
   "source": [
    "from pynq.lib.arduino.arduino_grove_USranger import Grove_USranger\n",
    "from pynq.lib.arduino import ARDUINO_GROVE_G1\n",
    "\n",
    "# Instantiate Grove ultrasonic ranger on Arduino shield G1\n",
    "USranger = Grove_USranger(base.ARDUINO,ARDUINO_GROVE_G1)"
   ]
  },
  {
   "cell_type": "markdown",
   "metadata": {},
   "source": [
    "### 2. Do one time Distance measurment "
   ]
  },
  {
   "cell_type": "code",
   "execution_count": 10,
   "metadata": {},
   "outputs": [
    {
     "data": {
      "text/plain": [
       "34.65948275862069"
      ]
     },
     "execution_count": 10,
     "metadata": {},
     "output_type": "execute_result"
    }
   ],
   "source": [
    "distance_cm = USranger.read_distance_cm()\n",
    "distance_cm"
   ]
  },
  {
   "cell_type": "code",
   "execution_count": 11,
   "metadata": {},
   "outputs": [
    {
     "data": {
      "text/plain": [
       "13.599121621621622"
      ]
     },
     "execution_count": 11,
     "metadata": {},
     "output_type": "execute_result"
    }
   ],
   "source": [
    "distance_inch = USranger.read_distance_inch()\n",
    "distance_inch"
   ]
  },
  {
   "cell_type": "markdown",
   "metadata": {},
   "source": [
    "### 3. Log reading for a desired duration"
   ]
  },
  {
   "cell_type": "code",
   "execution_count": 12,
   "metadata": {
    "collapsed": true
   },
   "outputs": [],
   "source": [
    "USranger.start_log(100)"
   ]
  },
  {
   "cell_type": "code",
   "execution_count": 13,
   "metadata": {},
   "outputs": [
    {
     "name": "stdout",
     "output_type": "stream",
     "text": [
      "[201355, 201421, 201421, 201443, 201509, 201751, 201817, 201795, 201619, 201751, 201773, 201729, 201641, 201751, 201971, 202059, 201773, 201663, 201839, 201707, 203511, 205469, 210397, 3066437, 3066305, 3066591, 3066789, 3066811, 3066877, 1235553, 1232803, 1233397, 1233683, 1233441, 1232825, 1230405, 1233111, 1233199, 1235993, 3066745, 2766621, 3066701, 3066723, 3067075, 3066811, 3066921, 3066943, 3066657, 3066679, 3066855, 3066437, 3066459, 3066393, 3066503, 1230735, 1221869, 1230515, 3066525, 3066261, 3066305, 3066327, 216403, 209671, 205535, 202147, 201421, 201421, 201091, 198539, 200739, 200827, 200673, 200629, 200805, 200937, 200849, 200717, 200849, 200761, 200585, 200915, 203247, 201003, 203401]\n",
      "[34.71637931034483, 34.727758620689656, 34.727758620689656, 34.73155172413793, 34.74293103448276, 34.78465517241379, 34.79603448275862, 34.79224137931035, 34.76189655172414, 34.78465517241379, 34.788448275862066, 34.78086206896552, 34.765689655172416, 34.78465517241379, 34.82258620689655, 34.837758620689655, 34.788448275862066, 34.76948275862069, 34.799827586206895, 34.77706896551724, 35.08810344827587, 35.42568965517241, 36.27534482758621, 528.6960344827586, 528.673275862069, 528.7225862068965, 528.756724137931, 528.7605172413794, 528.7718965517241, 213.02637931034485, 212.55224137931035, 212.6546551724138, 212.7039655172414, 212.66224137931033, 212.55603448275863, 212.1387931034483, 212.6053448275862, 212.6205172413793, 213.10224137931036, 528.7491379310345, 477.0036206896552, 528.7415517241379, 528.7453448275862, 528.8060344827586, 528.7605172413794, 528.7794827586207, 528.783275862069, 528.7339655172414, 528.7377586206896, 528.7681034482758, 528.6960344827586, 528.6998275862069, 528.6884482758621, 528.7074137931035, 212.19568965517243, 210.66706896551725, 212.15775862068966, 528.7112068965517, 528.6656896551724, 528.673275862069, 528.6770689655173, 37.31086206896552, 36.1501724137931, 35.43706896551724, 34.85293103448276, 34.727758620689656, 34.727758620689656, 34.67086206896552, 34.23086206896552, 34.61017241379311, 34.625344827586204, 34.59879310344827, 34.591206896551725, 34.62155172413793, 34.64431034482759, 34.629137931034485, 34.60637931034483, 34.629137931034485, 34.61396551724138, 34.58362068965518, 34.640517241379314, 35.04258620689655, 34.65568965517242, 35.06913793103448]\n"
     ]
    },
    {
     "data": {
      "text/plain": [
       "[34.71637931034483,\n",
       " 34.727758620689656,\n",
       " 34.727758620689656,\n",
       " 34.73155172413793,\n",
       " 34.74293103448276,\n",
       " 34.78465517241379,\n",
       " 34.79603448275862,\n",
       " 34.79224137931035,\n",
       " 34.76189655172414,\n",
       " 34.78465517241379,\n",
       " 34.788448275862066,\n",
       " 34.78086206896552,\n",
       " 34.765689655172416,\n",
       " 34.78465517241379,\n",
       " 34.82258620689655,\n",
       " 34.837758620689655,\n",
       " 34.788448275862066,\n",
       " 34.76948275862069,\n",
       " 34.799827586206895,\n",
       " 34.77706896551724,\n",
       " 35.08810344827587,\n",
       " 35.42568965517241,\n",
       " 36.27534482758621,\n",
       " 528.6960344827586,\n",
       " 528.673275862069,\n",
       " 528.7225862068965,\n",
       " 528.756724137931,\n",
       " 528.7605172413794,\n",
       " 528.7718965517241,\n",
       " 213.02637931034485,\n",
       " 212.55224137931035,\n",
       " 212.6546551724138,\n",
       " 212.7039655172414,\n",
       " 212.66224137931033,\n",
       " 212.55603448275863,\n",
       " 212.1387931034483,\n",
       " 212.6053448275862,\n",
       " 212.6205172413793,\n",
       " 213.10224137931036,\n",
       " 528.7491379310345,\n",
       " 477.0036206896552,\n",
       " 528.7415517241379,\n",
       " 528.7453448275862,\n",
       " 528.8060344827586,\n",
       " 528.7605172413794,\n",
       " 528.7794827586207,\n",
       " 528.783275862069,\n",
       " 528.7339655172414,\n",
       " 528.7377586206896,\n",
       " 528.7681034482758,\n",
       " 528.6960344827586,\n",
       " 528.6998275862069,\n",
       " 528.6884482758621,\n",
       " 528.7074137931035,\n",
       " 212.19568965517243,\n",
       " 210.66706896551725,\n",
       " 212.15775862068966,\n",
       " 528.7112068965517,\n",
       " 528.6656896551724,\n",
       " 528.673275862069,\n",
       " 528.6770689655173,\n",
       " 37.31086206896552,\n",
       " 36.1501724137931,\n",
       " 35.43706896551724,\n",
       " 34.85293103448276,\n",
       " 34.727758620689656,\n",
       " 34.727758620689656,\n",
       " 34.67086206896552,\n",
       " 34.23086206896552,\n",
       " 34.61017241379311,\n",
       " 34.625344827586204,\n",
       " 34.59879310344827,\n",
       " 34.591206896551725,\n",
       " 34.62155172413793,\n",
       " 34.64431034482759,\n",
       " 34.629137931034485,\n",
       " 34.60637931034483,\n",
       " 34.629137931034485,\n",
       " 34.61396551724138,\n",
       " 34.58362068965518,\n",
       " 34.640517241379314,\n",
       " 35.04258620689655,\n",
       " 34.65568965517242,\n",
       " 35.06913793103448]"
      ]
     },
     "execution_count": 13,
     "metadata": {},
     "output_type": "execute_result"
    }
   ],
   "source": [
    "log1 = USranger.get_log_cm()\n",
    "log1"
   ]
  },
  {
   "cell_type": "markdown",
   "metadata": {},
   "source": [
    "### Plot the log in matlab"
   ]
  },
  {
   "cell_type": "code",
   "execution_count": 14,
   "metadata": {},
   "outputs": [
    {
     "data": {
      "image/png": "[encoded data removed]",
      "text/plain": [
       "<matplotlib.figure.Figure at 0x2f3db7f0>"
      ]
     },
     "metadata": {},
     "output_type": "display_data"
    }
   ],
   "source": [
    "%matplotlib inline\n",
    "import matplotlib.pyplot as plt\n",
    "line1 = plt.plot(range(len(log1)), log1, \n",
    "                  'ro', label=\"Distance\")\n",
    "plt.title('Arduino Utrasonic ranger distance Log')\n",
    "plt.axis([0, len(log1), 2.0, 400.0])\n",
    "plt.show()"
   ]
  },
  {
   "cell_type": "code",
   "execution_count": null,
   "metadata": {
    "collapsed": true
   },
   "outputs": [],
   "source": []
  }
 ],
 "metadata": {
  "kernelspec": {
   "display_name": "Python 3",
   "language": "python",
   "name": "python3"
  },
  "language_info": {
   "codemirror_mode": {
    "name": "ipython",
    "version": 3
   },
   "file_extension": ".py",
   "mimetype": "text/x-python",
   "name": "python",
   "nbconvert_exporter": "python",
   "pygments_lexer": "ipython3",
   "version": "3.6.0"
  }
 },
 "nbformat": 4,
 "nbformat_minor": 1
}
