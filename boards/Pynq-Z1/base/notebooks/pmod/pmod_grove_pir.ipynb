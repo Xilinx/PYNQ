{
 "cells": [
  {
   "cell_type": "markdown",
   "metadata": {
    "collapsed": true
   },
   "source": [
    "# PMOD Grove PIR Motion Sensor\n",
    "\n",
    "This example shows how to use the [Grove PIR motion sensor](http://www.seeedstudio.com/depot/Grove-PIR-Motion-Sensor-p-802.html).\n",
    "\n",
    "This demo requires the Grove PIR motion sensor and PYNQ Grove Adapter.\n",
    "\n",
    "### 1. Download overlay\n",
    "Download the overlay. Instantiate Grove PIR object. \n",
    "\n",
    "In this example, the Grove PIR sensor is assumed to be connected to G1 on the PYNQ Grove Adapter. The Grove Adapter is connected to PMODA interface on board."
   ]
  },
  {
   "cell_type": "code",
   "execution_count": 4,
   "metadata": {},
   "outputs": [
    {
     "ename": "ModuleNotFoundError",
     "evalue": "No module named 'pynq.board'",
     "output_type": "error",
     "traceback": [
      "\u001b[0;31m---------------------------------------------------------------------------\u001b[0m",
      "\u001b[0;31mModuleNotFoundError\u001b[0m                       Traceback (most recent call last)",
      "\u001b[0;32m<ipython-input-4-bae750e6e0d8>\u001b[0m in \u001b[0;36m<module>\u001b[0;34m()\u001b[0m\n\u001b[1;32m      1\u001b[0m \u001b[0;32mfrom\u001b[0m \u001b[0mtime\u001b[0m \u001b[0;32mimport\u001b[0m \u001b[0msleep\u001b[0m\u001b[0;34m\u001b[0m\u001b[0m\n\u001b[1;32m      2\u001b[0m \u001b[0;32mfrom\u001b[0m \u001b[0mpynq\u001b[0m \u001b[0;32mimport\u001b[0m \u001b[0mOverlay\u001b[0m\u001b[0;34m\u001b[0m\u001b[0m\n\u001b[0;32m----> 3\u001b[0;31m \u001b[0;32mfrom\u001b[0m \u001b[0mpynq\u001b[0m\u001b[0;34m.\u001b[0m\u001b[0mboard\u001b[0m \u001b[0;32mimport\u001b[0m \u001b[0mLED\u001b[0m\u001b[0;34m\u001b[0m\u001b[0m\n\u001b[0m\u001b[1;32m      4\u001b[0m \u001b[0;32mfrom\u001b[0m \u001b[0mpynq\u001b[0m\u001b[0;34m.\u001b[0m\u001b[0mlib\u001b[0m \u001b[0;32mimport\u001b[0m \u001b[0mGrove_PIR\u001b[0m\u001b[0;34m\u001b[0m\u001b[0m\n\u001b[1;32m      5\u001b[0m \u001b[0;32mfrom\u001b[0m \u001b[0mpynq\u001b[0m\u001b[0;34m.\u001b[0m\u001b[0mlib\u001b[0m\u001b[0;34m.\u001b[0m\u001b[0mpmod\u001b[0m \u001b[0;32mimport\u001b[0m \u001b[0mPMOD_GROVE_G1\u001b[0m\u001b[0;34m\u001b[0m\u001b[0m\n",
      "\u001b[0;31mModuleNotFoundError\u001b[0m: No module named 'pynq.board'"
     ]
    }
   ],
   "source": [
    "from time import sleep\n",
    "from pynq import Overlay\n",
    "from pynq.board import LED\n",
    "from pynq.lib import Grove_PIR\n",
    "from pynq.lib.pmod import PMOD_GROVE_G1\n",
    "\n",
    "ol1 = Overlay(\"base.bit\")\n",
    "ol1.pmoda.load(Grove_PIR,PMOD_GROVE_G1)\n",
    "pir = ol1.pmoda"
   ]
  },
  {
   "cell_type": "markdown",
   "metadata": {},
   "source": [
    "### 2. Detect motion\n",
    "We can now start the motion detection loop. \n",
    "\n",
    "When the cell below is executed, the LED will keep flashing until the PIR detects some movement."
   ]
  },
  {
   "cell_type": "code",
   "execution_count": 2,
   "metadata": {},
   "outputs": [
    {
     "name": "stdout",
     "output_type": "stream",
     "text": [
      "Starting detection...\n",
      "Detected a motion.\n",
      "Ending detection...\n"
     ]
    }
   ],
   "source": [
    "led = LED(0)\n",
    "led.on()\n",
    "\n",
    "if pir.read()==0:\n",
    "    print(\"Starting detection...\")\n",
    "    while True:\n",
    "        led.on()\n",
    "        sleep(0.1)\n",
    "        led.off()\n",
    "        sleep(0.1)\n",
    "        if pir.read()==1:\n",
    "            print(\"Detected a motion.\")\n",
    "            break\n",
    "print(\"Ending detection...\")"
   ]
  },
  {
   "cell_type": "markdown",
   "metadata": {},
   "source": [
    "### 3. Clean-up\n",
    "Delete objects."
   ]
  },
  {
   "cell_type": "code",
   "execution_count": 3,
   "metadata": {
    "collapsed": true
   },
   "outputs": [],
   "source": [
    "del pir\n",
    "del led\n",
    "del ol1"
   ]
  }
 ],
 "metadata": {
  "kernelspec": {
   "display_name": "Python 3",
   "language": "python",
   "name": "python3"
  },
  "language_info": {
   "codemirror_mode": {
    "name": "ipython",
    "version": 3
   },
   "file_extension": ".py",
   "mimetype": "text/x-python",
   "name": "python",
   "nbconvert_exporter": "python",
   "pygments_lexer": "ipython3",
   "version": "3.6.0"
  }
 },
 "nbformat": 4,
 "nbformat_minor": 1
}
