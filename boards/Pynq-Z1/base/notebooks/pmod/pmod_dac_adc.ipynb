{
 "cells": [
  {
   "cell_type": "markdown",
   "metadata": {
    "slideshow": {
     "slide_type": "slide"
    }
   },
   "source": [
    "\n",
    "# DAC-ADC Pmod Examples using Matplotlib and Widget\n",
    "\n",
    "----\n",
    "\n",
    "## Contents\n",
    "\n",
    "\n",
    "[Pmod DAC-ADC Feedback](#Pmod-DAC-ADC-Feedback)\n",
    "\n",
    "[Tracking the IO Error](#Tracking-the-IO-Error)\n",
    "\n",
    "[Error plot with Matplotlib](#Error-plot-with-Matplotlib)\n",
    "\n",
    "[Widget controlled plot](#Widget-controlled-plot)\n",
    "\n",
    "----\n",
    "\n",
    "## Pmod DAC-ADC Feedback\n",
    "\n",
    "This example shows how to use the PmodDA4 DAC and the PmodAD2 ADC on the board, using the board's two Pmod interfaces. The notebook then compares the DAC output to the ADC input and tracks the errors.\n",
    "\n",
    "The errors are plotted using Matplotlib and an XKCD version of the plot is produced (for fun). Finally a slider widget is introduced to control the number of samples diaplayed in the error plot.\n",
    "\n",
    "Note: The output of the DAC (pin A) must be connected with a wire to the input of the ADC (V1 input).\n",
    "\n",
    "### 1. Import hardware libraries and classes"
   ]
  },
  {
   "cell_type": "code",
   "execution_count": 1,
   "metadata": {},
   "outputs": [
    {
     "data": {
      "application/javascript": [
       "\n",
       "require(['notebook/js/codecell'], function(codecell) {\n",
       "  codecell.CodeCell.options_default.highlight_modes[\n",
       "      'magic_text/x-csrc'] = {'reg':[/^%%microblaze/]};\n",
       "  Jupyter.notebook.events.one('kernel_ready.Kernel', function(){\n",
       "      Jupyter.notebook.get_cells().map(function(cell){\n",
       "          if (cell.cell_type == 'code'){ cell.auto_highlight(); } }) ;\n",
       "  });\n",
       "});\n"
      ]
     },
     "metadata": {},
     "output_type": "display_data"
    }
   ],
   "source": [
    "from pynq.overlays.base import BaseOverlay\n",
    "from pynq.lib import Pmod_ADC, Pmod_DAC"
   ]
  },
  {
   "cell_type": "markdown",
   "metadata": {},
   "source": [
    "### 2. Program the ZYNQ PL"
   ]
  },
  {
   "cell_type": "code",
   "execution_count": 2,
   "metadata": {},
   "outputs": [],
   "source": [
    "ol = BaseOverlay(\"base.bit\")"
   ]
  },
  {
   "cell_type": "markdown",
   "metadata": {},
   "source": [
    "### 3. Instantiate the Pmod peripherals as Python objects"
   ]
  },
  {
   "cell_type": "code",
   "execution_count": 3,
   "metadata": {},
   "outputs": [],
   "source": [
    "dac = Pmod_DAC(ol.PMODB)\n",
    "adc = Pmod_ADC(ol.PMODA)"
   ]
  },
  {
   "cell_type": "markdown",
   "metadata": {},
   "source": [
    "### 4. Write to DAC, read from ADC, print result"
   ]
  },
  {
   "cell_type": "code",
   "execution_count": 4,
   "metadata": {},
   "outputs": [
    {
     "name": "stdout",
     "output_type": "stream",
     "text": [
      "[0.3418]\n"
     ]
    }
   ],
   "source": [
    "dac.write(0.35)\n",
    "sample = adc.read()\n",
    "print(sample)"
   ]
  },
  {
   "cell_type": "markdown",
   "metadata": {},
   "source": [
    "----\n",
    "\n",
    "[Contents](#Contents)\n",
    "\n",
    "----"
   ]
  },
  {
   "cell_type": "markdown",
   "metadata": {},
   "source": [
    "## Tracking the IO Error\n",
    "Report DAC-ADC Pmod Loopback Measurement Error."
   ]
  },
  {
   "cell_type": "code",
   "execution_count": 5,
   "metadata": {
    "scrolled": true
   },
   "outputs": [
    {
     "name": "stdout",
     "output_type": "stream",
     "text": [
      "Value written: 0.00\tSample read: 0.00\tError: +0.0015\n",
      "Value written: 0.11\tSample read: 0.10\tError: -0.0037\n",
      "Value written: 0.21\tSample read: 0.21\tError: +0.0004\n",
      "Value written: 0.32\tSample read: 0.31\tError: -0.0072\n",
      "Value written: 0.42\tSample read: 0.43\tError: +0.0086\n",
      "Value written: 0.53\tSample read: 0.50\tError: -0.0278\n",
      "Value written: 0.63\tSample read: 0.62\tError: -0.0144\n",
      "Value written: 0.74\tSample read: 0.71\tError: -0.0220\n",
      "Value written: 0.84\tSample read: 0.81\tError: -0.0335\n",
      "Value written: 0.95\tSample read: 0.93\tError: -0.0177\n",
      "Value written: 1.05\tSample read: 1.03\tError: -0.0253\n",
      "Value written: 1.16\tSample read: 1.12\tError: -0.0368\n",
      "Value written: 1.26\tSample read: 1.21\tError: -0.0484\n",
      "Value written: 1.37\tSample read: 1.31\tError: -0.0598\n",
      "Value written: 1.47\tSample read: 1.43\tError: -0.0401\n",
      "Value written: 1.58\tSample read: 1.53\tError: -0.0516\n",
      "Value written: 1.68\tSample read: 1.62\tError: -0.0631\n",
      "Value written: 1.79\tSample read: 1.72\tError: -0.0727\n",
      "Value written: 1.89\tSample read: 1.81\tError: -0.0842\n",
      "Value written: 2.00\tSample read: 1.93\tError: -0.0664\n"
     ]
    }
   ],
   "source": [
    "from math import ceil\n",
    "from time import sleep\n",
    "import numpy as np\n",
    "import matplotlib.pyplot as plt\n",
    "from pynq.lib import Pmod_ADC, Pmod_DAC\n",
    "from pynq.overlays.base import BaseOverlay\n",
    "\n",
    "ol = BaseOverlay(\"base.bit\")\n",
    "\n",
    "dac = Pmod_DAC(ol.PMODB)\n",
    "adc = Pmod_ADC(ol.PMODA)\n",
    "\n",
    "delay = 0.0\n",
    "values = np.linspace(0, 2, 20)\n",
    "samples = []\n",
    "for value in values:\n",
    "    dac.write(value)\n",
    "    sleep(delay)\n",
    "    sample = adc.read()\n",
    "    samples.append(sample[0])\n",
    "    print('Value written: {:4.2f}\\tSample read: {:4.2f}\\tError: {:+4.4f}'.\n",
    "          format(value, sample[0], sample[0]-value))"
   ]
  },
  {
   "cell_type": "markdown",
   "metadata": {},
   "source": [
    "----\n",
    "\n",
    "[Contents](#Contents)\n",
    "\n",
    "----"
   ]
  },
  {
   "cell_type": "markdown",
   "metadata": {},
   "source": [
    "## Error plot with Matplotlib\n",
    "This example shows plots in notebook (rather than in separate window)."
   ]
  },
  {
   "cell_type": "code",
   "execution_count": 6,
   "metadata": {
    "scrolled": true
   },
   "outputs": [
    {
     "data": {
      "image/png": "[encoded data removed]",
      "text/plain": [
       "<matplotlib.figure.Figure at 0x7f76330908>"
      ]
     },
     "metadata": {},
     "output_type": "display_data"
    }
   ],
   "source": [
    "%matplotlib inline\n",
    "    \n",
    "X = np.arange(len(values))\n",
    "plt.bar(X + 0.0, values, facecolor='blue', \n",
    "        edgecolor='white', width=0.5, label=\"Written_to_DAC\")\n",
    "plt.bar(X + 0.25, samples, facecolor='red', \n",
    "        edgecolor='white', width=0.5, label=\"Read_from_ADC\")\n",
    "\n",
    "plt.title('DAC-ADC Linearity')\n",
    "plt.xlabel('Sample_number')\n",
    "plt.ylabel('Volts')\n",
    "plt.legend(loc='upper left', frameon=False)\n",
    "\n",
    "plt.show()"
   ]
  },
  {
   "cell_type": "markdown",
   "metadata": {},
   "source": [
    "----\n",
    "\n",
    "[Contents](#Contents)\n",
    "\n",
    "----"
   ]
  },
  {
   "cell_type": "markdown",
   "metadata": {},
   "source": [
    "## Widget controlled plot\n",
    "\n",
    "In this example, we extend the IO plot with a slider widget to control the number of samples appearing in the output plot.\n",
    "\n",
    "We use the `ipwidgets` library and the simple `interact()` method to launch a slider bar.\n",
    "\n",
    "> The interact function (ipywidgets.interact) automatically creates user interface (UI) controls for exploring code and data interactively. It is the easiest way to get started using IPython’s widgets.\n",
    "\n",
    "For more details see [Using ipwidgets interact()](https://ipywidgets.readthedocs.io/en/latest/examples/Using%20Interact.html#)"
   ]
  },
  {
   "cell_type": "code",
   "execution_count": 7,
   "metadata": {
    "scrolled": false
   },
   "outputs": [
    {
     "data": {
      "application/vnd.jupyter.widget-view+json": {
       "model_id": "8b03a9cdbde347868797733cd4001629"
      }
     },
     "metadata": {},
     "output_type": "display_data"
    }
   ],
   "source": [
    "from math import ceil\n",
    "from time import sleep\n",
    "import numpy as np\n",
    "import matplotlib.pyplot as plt\n",
    "%matplotlib inline\n",
    "\n",
    "from ipywidgets import interact\n",
    "import ipywidgets as widgets\n",
    "\n",
    "ol = BaseOverlay(\"base.bit\")\n",
    "\n",
    "dac = Pmod_DAC(ol.PMODB)\n",
    "adc = Pmod_ADC(ol.PMODA)\n",
    "\n",
    "def capture_samples(nmbr_of_samples):\n",
    "    delay = 0.0\n",
    "    values = np.linspace(0, 2, nmbr_of_samples)\n",
    "    samples = []\n",
    "    for value in values:\n",
    "        dac.write(value)\n",
    "        sleep(delay)\n",
    "        sample = adc.read()\n",
    "        samples.append(sample[0])\n",
    "\n",
    "    X = np.arange(nmbr_of_samples)\n",
    "    plt.bar(X + 0.0, values[:nmbr_of_samples+1], \n",
    "            facecolor='blue', edgecolor='white', \n",
    "            width=0.5, label=\"Written_to_DAC\")\n",
    "    plt.bar(X + 0.25, samples[:nmbr_of_samples+1], \n",
    "            facecolor='red', edgecolor='white', \n",
    "            width=0.5, label=\"Read_from_ADC\")\n",
    "\n",
    "    plt.title('DAC-ADC Linearity')\n",
    "    plt.xlabel('Sample_number')\n",
    "    plt.ylabel('Volts')\n",
    "    plt.legend(loc='upper left', frameon=False)\n",
    "    plt.show()\n",
    "\n",
    "_ = interact(capture_samples, \n",
    "             nmbr_of_samples=widgets.IntSlider(\n",
    "                 min=5, max=30, step=5,\n",
    "                 value=10, continuous_update=False))"
   ]
  },
  {
   "cell_type": "markdown",
   "metadata": {},
   "source": [
    "----\n",
    "\n",
    "[Contents](#Contents)\n",
    "\n",
    "----"
   ]
  }
 ],
 "metadata": {
  "kernelspec": {
   "display_name": "Python 3",
   "language": "python",
   "name": "python3"
  },
  "language_info": {
   "codemirror_mode": {
    "name": "ipython",
    "version": 3
   },
   "file_extension": ".py",
   "mimetype": "text/x-python",
   "name": "python",
   "nbconvert_exporter": "python",
   "pygments_lexer": "ipython3",
   "version": "3.6.5"
  },
  "widgets": {
   "state": {
    "c1b64babc85043a38c46fd265c8ac132": {
     "views": [
      {
       "cell_index": 25
      }
     ]
    }
   },
   "version": "1.2.0"
  }
 },
 "nbformat": 4,
 "nbformat_minor": 1
}
