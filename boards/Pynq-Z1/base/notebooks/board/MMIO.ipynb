{
 "cells": [
  {
   "cell_type": "markdown",
   "metadata": {},
   "source": [
    "## Mempory-mapped IO (MMIO) example\n",
    "\n",
    "This script shows how to write to, and read from, a memory-mapped IO location\n",
    " "
   ]
  },
  {
   "cell_type": "code",
   "execution_count": 11,
   "metadata": {},
   "outputs": [
    {
     "name": "stdout",
     "output_type": "stream",
     "text": [
      "0x12345678\n"
     ]
    }
   ],
   "source": [
    "from pynq import MMIO\n",
    "\n",
    "# Start of 1GByte address space \n",
    "BASE_ADDRESS = 0x40000000 \n",
    "# Bytes reserved for access\n",
    "ARRAY_SIZE = 1024  \n",
    "\n",
    "# Make MMIO object ranging from 0x40000000 to 0x40000400\n",
    "mmio = MMIO(BASE_ADDRESS, ARRAY_SIZE)\n",
    "\n",
    "# Sample data\n",
    "data = 0x12345678\n",
    "# Offset must be a multiple of 4 bytes\n",
    "ADDRESS_OFFSET = 0x10\n",
    "\n",
    "mmio.write(ADDRESS_OFFSET, data)\n",
    "result = mmio.read(ADDRESS_OFFSET)\n",
    "\n",
    "print(hex(result))\n"
   ]
  }
 ],
 "metadata": {
  "kernelspec": {
   "display_name": "Python 3",
   "language": "python",
   "name": "python3"
  },
  "language_info": {
   "codemirror_mode": {
    "name": "ipython",
    "version": 3
   },
   "file_extension": ".py",
   "mimetype": "text/x-python",
   "name": "python",
   "nbconvert_exporter": "python",
   "pygments_lexer": "ipython3",
   "version": "3.6.0"
  }
 },
 "nbformat": 4,
 "nbformat_minor": 1
}
