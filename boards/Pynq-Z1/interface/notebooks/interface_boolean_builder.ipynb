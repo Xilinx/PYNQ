{
 "cells": [
  {
   "cell_type": "markdown",
   "metadata": {
    "deletable": true,
    "editable": true
   },
   "source": [
    "# Boolean Builder\n",
    "\n",
    "This notebook will show how to use the boolean builder to generate boolean logic circuits.\n",
    "\n",
    "Users can switch the input pins between GND and VCC to get different results on output lines.\n",
    "\n",
    "For preparation, we enable `autoreload` for notebook to display waveforms nicely."
   ]
  },
  {
   "cell_type": "markdown",
   "metadata": {
    "deletable": true,
    "editable": true
   },
   "source": [
    "### Step 1: Download overlay"
   ]
  },
  {
   "cell_type": "markdown",
   "metadata": {
    "deletable": true,
    "editable": true
   },
   "source": [
    "The Interfacing Microblaze is on the Arduino header for PYNQ-Z1. Calling `request_intf()` will instantiate that Microblaze for the boolean builders to use."
   ]
  },
  {
   "cell_type": "code",
   "execution_count": 1,
   "metadata": {
    "collapsed": false,
    "deletable": true,
    "editable": true
   },
   "outputs": [],
   "source": [
    "from pynq import Overlay\n",
    "from pynq.lib import BooleanBuilder\n",
    "from pynq.lib import request_intf\n",
    "\n",
    "Overlay('interface.bit').download()\n",
    "microblaze_intf = request_intf()"
   ]
  },
  {
   "cell_type": "markdown",
   "metadata": {
    "deletable": true,
    "editable": true
   },
   "source": [
    "### Step 2: Implement boolean builder\n",
    "\n",
    "Specify the boolean expressions to be implemented. Note:\n",
    "\n",
    "1. At most 20 boolean expressions can be implemented at the same time.\n",
    "2. Each boolean expression can have exactly 1 output and at most 5 inputs."
   ]
  },
  {
   "cell_type": "code",
   "execution_count": 2,
   "metadata": {
    "collapsed": true,
    "deletable": true,
    "editable": true
   },
   "outputs": [],
   "source": [
    "expressions = [\"LD0 = D0\",\n",
    "               \"LD1 = D0 & PB1\",\n",
    "               \"D8 = D0\",\n",
    "               \"D9 = PB0 & PB1 & PB2\",\n",
    "               \"D10 = D0 & D1 & D2\",\n",
    "               \"D11 = D0 & D1 & D2 & D3\"]"
   ]
  },
  {
   "cell_type": "markdown",
   "metadata": {
    "deletable": true,
    "editable": true
   },
   "source": [
    "Instantiate a few boolean builders sharing the same Microblaze."
   ]
  },
  {
   "cell_type": "code",
   "execution_count": 3,
   "metadata": {
    "collapsed": false,
    "deletable": true,
    "editable": true,
    "scrolled": true
   },
   "outputs": [],
   "source": [
    "bbs = [BooleanBuilder(microblaze_intf,expr=expr) for expr in expressions]"
   ]
  },
  {
   "cell_type": "markdown",
   "metadata": {
    "deletable": true,
    "editable": true
   },
   "source": [
    "### Step 3: Run and display functions\n",
    "\n",
    "The boolean builders have to be configured and armed before running.\n",
    "\n",
    "At the same time when they are running, users can manually check the logic values on output pins."
   ]
  },
  {
   "cell_type": "code",
   "execution_count": 4,
   "metadata": {
    "collapsed": false,
    "deletable": true,
    "editable": true,
    "scrolled": true
   },
   "outputs": [
    {
     "data": {
      "text/html": [
       "<script type=\"WaveDrom\">{\"signal\": [[\"stimulus\", {\"name\": \"D0\", \"pin\": \"D0\", \"wave\": \"h...............\"}], {}], \"foot\": {\"tick\": 1}, \"head\": {\"tick\": 1, \"text\": \"Boolean Logic Builder (LD0 = D0)\"}}</script>"
      ]
     },
     "metadata": {},
     "output_type": "display_data"
    },
    {
     "data": {
      "application/javascript": [
       "$.getScript(\"files/js/WaveDrom.js\", function () {\n",
       "$.getScript(\"files/js/WaveDromSkin.js\", function () {\n",
       "WaveDrom.ProcessAll();});\n",
       "});\n"
      ]
     },
     "metadata": {},
     "output_type": "display_data"
    },
    {
     "data": {
      "text/html": [
       "<script type=\"WaveDrom\">{\"signal\": [[\"stimulus\", {\"name\": \"D0\", \"pin\": \"D0\", \"wave\": \"h...............\"}], {}], \"foot\": {\"tick\": 1}, \"head\": {\"tick\": 1, \"text\": \"Boolean Logic Builder (LD1 = D0 & PB1)\"}}</script>"
      ]
     },
     "metadata": {},
     "output_type": "display_data"
    },
    {
     "data": {
      "application/javascript": [
       "$.getScript(\"files/js/WaveDrom.js\", function () {\n",
       "$.getScript(\"files/js/WaveDromSkin.js\", function () {\n",
       "WaveDrom.ProcessAll();});\n",
       "});\n"
      ]
     },
     "metadata": {},
     "output_type": "display_data"
    },
    {
     "data": {
      "text/html": [
       "<script type=\"WaveDrom\">{\"signal\": [[\"stimulus\", {\"name\": \"D0\", \"pin\": \"D0\", \"wave\": \"h...............\"}], {}, [\"analysis\", {\"name\": \"D8\", \"pin\": \"D8\", \"wave\": \"h...............\"}]], \"foot\": {\"tick\": 1}, \"head\": {\"tick\": 1, \"text\": \"Boolean Logic Builder (D8 = D0)\"}}</script>"
      ]
     },
     "metadata": {},
     "output_type": "display_data"
    },
    {
     "data": {
      "application/javascript": [
       "$.getScript(\"files/js/WaveDrom.js\", function () {\n",
       "$.getScript(\"files/js/WaveDromSkin.js\", function () {\n",
       "WaveDrom.ProcessAll();});\n",
       "});\n"
      ]
     },
     "metadata": {},
     "output_type": "display_data"
    },
    {
     "data": {
      "text/html": [
       "<script type=\"WaveDrom\">{\"signal\": [{}, [\"analysis\", {\"name\": \"D9\", \"pin\": \"D9\", \"wave\": \"l...............\"}]], \"foot\": {\"tick\": 1}, \"head\": {\"tick\": 1, \"text\": \"Boolean Logic Builder (D9 = PB0 & PB1 & PB2)\"}}</script>"
      ]
     },
     "metadata": {},
     "output_type": "display_data"
    },
    {
     "data": {
      "application/javascript": [
       "$.getScript(\"files/js/WaveDrom.js\", function () {\n",
       "$.getScript(\"files/js/WaveDromSkin.js\", function () {\n",
       "WaveDrom.ProcessAll();});\n",
       "});\n"
      ]
     },
     "metadata": {},
     "output_type": "display_data"
    },
    {
     "data": {
      "text/html": [
       "<script type=\"WaveDrom\">{\"signal\": [[\"stimulus\", {\"name\": \"D0\", \"pin\": \"D0\", \"wave\": \"h...............\"}, {\"name\": \"D1\", \"pin\": \"D1\", \"wave\": \"h...............\"}, {\"name\": \"D2\", \"pin\": \"D2\", \"wave\": \"h...............\"}], {}, [\"analysis\", {\"name\": \"D10\", \"pin\": \"D10\", \"wave\": \"h...............\"}]], \"foot\": {\"tick\": 1}, \"head\": {\"tick\": 1, \"text\": \"Boolean Logic Builder (D10 = D0 & D1 & D2)\"}}</script>"
      ]
     },
     "metadata": {},
     "output_type": "display_data"
    },
    {
     "data": {
      "application/javascript": [
       "$.getScript(\"files/js/WaveDrom.js\", function () {\n",
       "$.getScript(\"files/js/WaveDromSkin.js\", function () {\n",
       "WaveDrom.ProcessAll();});\n",
       "});\n"
      ]
     },
     "metadata": {},
     "output_type": "display_data"
    },
    {
     "data": {
      "text/html": [
       "<script type=\"WaveDrom\">{\"signal\": [[\"stimulus\", {\"name\": \"D0\", \"pin\": \"D0\", \"wave\": \"h...............\"}, {\"name\": \"D1\", \"pin\": \"D1\", \"wave\": \"h...............\"}, {\"name\": \"D2\", \"pin\": \"D2\", \"wave\": \"h...............\"}, {\"name\": \"D3\", \"pin\": \"D3\", \"wave\": \"h...............\"}], {}, [\"analysis\", {\"name\": \"D11\", \"pin\": \"D11\", \"wave\": \"h...............\"}]], \"foot\": {\"tick\": 1}, \"head\": {\"tick\": 1, \"text\": \"Boolean Logic Builder (D11 = D0 & D1 & D2 & D3)\"}}</script>"
      ]
     },
     "metadata": {},
     "output_type": "display_data"
    },
    {
     "data": {
      "application/javascript": [
       "$.getScript(\"files/js/WaveDrom.js\", function () {\n",
       "$.getScript(\"files/js/WaveDromSkin.js\", function () {\n",
       "WaveDrom.ProcessAll();});\n",
       "});\n"
      ]
     },
     "metadata": {},
     "output_type": "display_data"
    }
   ],
   "source": [
    "for i in range(len(expressions)):\n",
    "    bbs[i].arm()\n",
    "\n",
    "microblaze_intf.run()\n",
    "\n",
    "for i in range(len(expressions)):\n",
    "    bbs[i].show_waveform()"
   ]
  },
  {
   "cell_type": "markdown",
   "metadata": {
    "deletable": true,
    "editable": true
   },
   "source": [
    "### Step 4: Stop the boolean builder\n",
    "\n",
    "After `stop()` is called, the boolean builder will still store the waveform data; however, the logic value on its output pin will be cleared."
   ]
  },
  {
   "cell_type": "code",
   "execution_count": 5,
   "metadata": {
    "collapsed": true,
    "deletable": true,
    "editable": true
   },
   "outputs": [],
   "source": [
    "for bb in bbs:\n",
    "    bb.stop()\n",
    "microblaze_intf.reset_buffers()"
   ]
  }
 ],
 "metadata": {
  "kernelspec": {
   "display_name": "Python 3",
   "language": "python",
   "name": "python3"
  },
  "language_info": {
   "codemirror_mode": {
    "name": "ipython",
    "version": 3
   },
   "file_extension": ".py",
   "mimetype": "text/x-python",
   "name": "python",
   "nbconvert_exporter": "python",
   "pygments_lexer": "ipython3",
   "version": "3.6.0"
  }
 },
 "nbformat": 4,
 "nbformat_minor": 1
}
