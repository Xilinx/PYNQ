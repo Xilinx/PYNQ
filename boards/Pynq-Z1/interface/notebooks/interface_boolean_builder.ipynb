{
 "cells": [
  {
   "cell_type": "markdown",
   "metadata": {
    "deletable": true,
    "editable": true
   },
   "source": [
    "# Boolean Builder\n",
    "\n",
    "This notebook will show how to use the boolean builder to generate boolean logic circuits.\n",
    "\n",
    "Users can switch the input pins between GND and VCC to get different results on output lines."
   ]
  },
  {
   "cell_type": "markdown",
   "metadata": {
    "deletable": true,
    "editable": true
   },
   "source": [
    "### Step 1: Download overlay\n",
    "The Interfacing Microblaze is on the Arduino header for PYNQ-Z1."
   ]
  },
  {
   "cell_type": "code",
   "execution_count": 1,
   "metadata": {
    "collapsed": false,
    "deletable": true,
    "editable": true
   },
   "outputs": [],
   "source": [
    "from pynq import Overlay\n",
    "from pynq.lib.dio import BooleanBuilder\n",
    "from pynq.lib.dio import ARDUINO\n",
    "\n",
    "Overlay('interface.bit').download()"
   ]
  },
  {
   "cell_type": "markdown",
   "metadata": {
    "deletable": true,
    "editable": true
   },
   "source": [
    "### Step 2: Implement a single boolean expression\n",
    "\n",
    "Specify the boolean expression to be implemented. Note:\n",
    "\n",
    "1. A boolean expression can have exactly 1 output and at most 5 inputs.\n",
    "2. Pins like `LD0` (on-board LED) and `PB0` (push buttons) are designed to be non-traceable pins; they will not show in the waveform.\n",
    "3. The boolean expression format can be `list` or `dict`."
   ]
  },
  {
   "cell_type": "code",
   "execution_count": 2,
   "metadata": {
    "collapsed": true,
    "deletable": true,
    "editable": true
   },
   "outputs": [],
   "source": [
    "single_expression = {'addr_decode': 'D4 = D0 & D1 & D2 & D3'}"
   ]
  },
  {
   "cell_type": "markdown",
   "metadata": {
    "deletable": true,
    "editable": true
   },
   "source": [
    "Instantiate a boolean builder. Check the status of the boolean builder. After initialization, the boolean builder should stay in `RESET` state."
   ]
  },
  {
   "cell_type": "code",
   "execution_count": 3,
   "metadata": {
    "collapsed": false,
    "deletable": true,
    "editable": true
   },
   "outputs": [
    {
     "data": {
      "text/plain": [
       "'RESET'"
      ]
     },
     "execution_count": 3,
     "metadata": {},
     "output_type": "execute_result"
    }
   ],
   "source": [
    "boolean_builder = BooleanBuilder(ARDUINO)\n",
    "boolean_builder.status"
   ]
  },
  {
   "cell_type": "markdown",
   "metadata": {
    "deletable": true,
    "editable": true
   },
   "source": [
    "Set to use trace analyzer, and setup the boolean builder with the boolean expression. After that, the boolean builder will stay in `READY` state."
   ]
  },
  {
   "cell_type": "code",
   "execution_count": 4,
   "metadata": {
    "collapsed": false,
    "deletable": true,
    "editable": true
   },
   "outputs": [
    {
     "data": {
      "text/plain": [
       "'READY'"
      ]
     },
     "execution_count": 4,
     "metadata": {},
     "output_type": "execute_result"
    }
   ],
   "source": [
    "boolean_builder.trace(use_analyzer=True)\n",
    "boolean_builder.setup(single_expression)\n",
    "boolean_builder.status"
   ]
  },
  {
   "cell_type": "code",
   "execution_count": 5,
   "metadata": {
    "collapsed": false,
    "deletable": true,
    "editable": true
   },
   "outputs": [
    {
     "data": {
      "text/plain": [
       "'D4 = D0 & D1 & D2 & D3'"
      ]
     },
     "execution_count": 5,
     "metadata": {},
     "output_type": "execute_result"
    }
   ],
   "source": [
    "boolean_builder.expressions['addr_decode']"
   ]
  },
  {
   "cell_type": "code",
   "execution_count": 6,
   "metadata": {
    "collapsed": false,
    "deletable": true,
    "editable": true
   },
   "outputs": [
    {
     "data": {
      "text/plain": [
       "['D0', 'D2', 'D1', 'D3']"
      ]
     },
     "execution_count": 6,
     "metadata": {},
     "output_type": "execute_result"
    }
   ],
   "source": [
    "boolean_builder.input_pins"
   ]
  },
  {
   "cell_type": "code",
   "execution_count": 7,
   "metadata": {
    "collapsed": false,
    "deletable": true,
    "editable": true
   },
   "outputs": [
    {
     "data": {
      "text/plain": [
       "['D4']"
      ]
     },
     "execution_count": 7,
     "metadata": {},
     "output_type": "execute_result"
    }
   ],
   "source": [
    "boolean_builder.output_pins"
   ]
  },
  {
   "cell_type": "markdown",
   "metadata": {
    "deletable": true,
    "editable": true
   },
   "source": [
    "### Step 3: Run and display functions\n",
    "\n",
    "The boolean builders have to be setup before running.\n",
    "\n",
    "At the same time when they are running, users can manually check the logic values on output pins. In this example, users can connect D0 - D3 to VCC, and D4 to an off-board LED.\n",
    "\n",
    "By default, trace analyzer is connected so the trace can be captured."
   ]
  },
  {
   "cell_type": "code",
   "execution_count": 8,
   "metadata": {
    "collapsed": false,
    "deletable": true,
    "editable": true
   },
   "outputs": [],
   "source": [
    "boolean_builder.run()"
   ]
  },
  {
   "cell_type": "code",
   "execution_count": 9,
   "metadata": {
    "collapsed": false,
    "deletable": true,
    "editable": true
   },
   "outputs": [
    {
     "data": {
      "text/plain": [
       "'RUNNING'"
      ]
     },
     "execution_count": 9,
     "metadata": {},
     "output_type": "execute_result"
    }
   ],
   "source": [
    "boolean_builder.status"
   ]
  },
  {
   "cell_type": "code",
   "execution_count": 10,
   "metadata": {
    "collapsed": false,
    "deletable": true,
    "editable": true
   },
   "outputs": [
    {
     "data": {
      "text/html": [
       "<script type=\"WaveDrom\">{\"signal\": [[\"stimulus\", {\"name\": \"D0\", \"pin\": \"D0\", \"wave\": \"l...............\"}, {\"name\": \"D1\", \"pin\": \"D1\", \"wave\": \"l...............\"}, {\"name\": \"D2\", \"pin\": \"D2\", \"wave\": \"h...............\"}, {\"name\": \"D3\", \"pin\": \"D3\", \"wave\": \"h...............\"}], {}, [\"analysis\", {\"name\": \"D4\", \"pin\": \"D4\", \"wave\": \"l...............\"}]], \"foot\": {\"tick\": 1}, \"head\": {\"tick\": 1, \"text\": \"addr_decode: D4 = D0 & D1 & D2 & D3\"}}</script>"
      ]
     },
     "metadata": {},
     "output_type": "display_data"
    },
    {
     "data": {
      "application/javascript": [
       "$.getScript(\"../js/WaveDrom.js\", function () {\n",
       "$.getScript(\"../js/WaveDromSkin.js\", function () {\n",
       "WaveDrom.ProcessAll();});\n",
       "});\n"
      ]
     },
     "metadata": {},
     "output_type": "display_data"
    }
   ],
   "source": [
    "boolean_builder.show_waveform()"
   ]
  },
  {
   "cell_type": "markdown",
   "metadata": {
    "deletable": true,
    "editable": true
   },
   "source": [
    "### Step 4: Stop the boolean builder\n",
    "\n",
    "After `stop()` is called, the boolean builder will still store the waveform data; however, the logic value on its output pin will be cleared."
   ]
  },
  {
   "cell_type": "code",
   "execution_count": 11,
   "metadata": {
    "collapsed": false,
    "deletable": true,
    "editable": true
   },
   "outputs": [
    {
     "data": {
      "text/plain": [
       "'READY'"
      ]
     },
     "execution_count": 11,
     "metadata": {},
     "output_type": "execute_result"
    }
   ],
   "source": [
    "boolean_builder.stop()\n",
    "boolean_builder.status"
   ]
  },
  {
   "cell_type": "markdown",
   "metadata": {
    "deletable": true,
    "editable": true
   },
   "source": [
    "### Step 5: Implement multiple boolean expressions\n",
    "\n",
    "Specify the boolean expressions to be implemented. At most 20 boolean expressions can be implemented at the same time. In this example, we specify a list of expressions."
   ]
  },
  {
   "cell_type": "code",
   "execution_count": 12,
   "metadata": {
    "collapsed": true,
    "deletable": true,
    "editable": true
   },
   "outputs": [],
   "source": [
    "multiple_expressions = [\"LD0 = D0\",\n",
    "                        \"LD1 = D0 & PB1\",\n",
    "                        \"D19 = D0\",\n",
    "                        \"D9 = PB0 & PB1 & PB2\",\n",
    "                        \"D10 = D0 & D1 & D2\",\n",
    "                        \"D11 = D0 & D1 & D2 & D3\"]"
   ]
  },
  {
   "cell_type": "markdown",
   "metadata": {
    "deletable": true,
    "editable": true
   },
   "source": [
    "Reset the boolean builder to handle all the boolean expressions."
   ]
  },
  {
   "cell_type": "code",
   "execution_count": 13,
   "metadata": {
    "collapsed": false,
    "deletable": true,
    "editable": true
   },
   "outputs": [
    {
     "data": {
      "text/plain": [
       "'RESET'"
      ]
     },
     "execution_count": 13,
     "metadata": {},
     "output_type": "execute_result"
    }
   ],
   "source": [
    "boolean_builder.reset()\n",
    "boolean_builder.status"
   ]
  },
  {
   "cell_type": "code",
   "execution_count": 14,
   "metadata": {
    "collapsed": false,
    "deletable": true,
    "editable": true
   },
   "outputs": [
    {
     "data": {
      "text/plain": [
       "'READY'"
      ]
     },
     "execution_count": 14,
     "metadata": {},
     "output_type": "execute_result"
    }
   ],
   "source": [
    "boolean_builder.setup(multiple_expressions)\n",
    "boolean_builder.status"
   ]
  },
  {
   "cell_type": "code",
   "execution_count": 15,
   "metadata": {
    "collapsed": false,
    "deletable": true,
    "editable": true
   },
   "outputs": [
    {
     "name": "stdout",
     "output_type": "stream",
     "text": [
      "Input pins are PB2, D0, D2, D1, D3, PB0, PB1.\n",
      "Output pins are LD0, LD1, D19, D9, D10, D11.\n"
     ]
    }
   ],
   "source": [
    "print(f\"Input pins are {', '.join(boolean_builder.input_pins)}.\")\n",
    "print(f\"Output pins are {', '.join(boolean_builder.output_pins)}.\")"
   ]
  },
  {
   "cell_type": "code",
   "execution_count": 16,
   "metadata": {
    "collapsed": false,
    "deletable": true,
    "editable": true
   },
   "outputs": [
    {
     "data": {
      "text/plain": [
       "'RUNNING'"
      ]
     },
     "execution_count": 16,
     "metadata": {},
     "output_type": "execute_result"
    }
   ],
   "source": [
    "boolean_builder.run()\n",
    "boolean_builder.status"
   ]
  },
  {
   "cell_type": "code",
   "execution_count": 17,
   "metadata": {
    "collapsed": false,
    "deletable": true,
    "editable": true
   },
   "outputs": [
    {
     "data": {
      "text/html": [
       "<script type=\"WaveDrom\">{\"signal\": [[\"stimulus\", {\"name\": \"D0\", \"pin\": \"D0\", \"wave\": \"l...............\"}], {}], \"foot\": {\"tick\": 1}, \"head\": {\"tick\": 1, \"text\": \"Boolean expression 0: LD0 = D0\"}}</script>"
      ]
     },
     "metadata": {},
     "output_type": "display_data"
    },
    {
     "data": {
      "application/javascript": [
       "$.getScript(\"../js/WaveDrom.js\", function () {\n",
       "$.getScript(\"../js/WaveDromSkin.js\", function () {\n",
       "WaveDrom.ProcessAll();});\n",
       "});\n"
      ]
     },
     "metadata": {},
     "output_type": "display_data"
    },
    {
     "data": {
      "text/html": [
       "<script type=\"WaveDrom\">{\"signal\": [[\"stimulus\", {\"name\": \"D0\", \"pin\": \"D0\", \"wave\": \"l...............\"}], {}], \"foot\": {\"tick\": 1}, \"head\": {\"tick\": 1, \"text\": \"Boolean expression 1: LD1 = D0 & PB1\"}}</script>"
      ]
     },
     "metadata": {},
     "output_type": "display_data"
    },
    {
     "data": {
      "application/javascript": [
       "$.getScript(\"../js/WaveDrom.js\", function () {\n",
       "$.getScript(\"../js/WaveDromSkin.js\", function () {\n",
       "WaveDrom.ProcessAll();});\n",
       "});\n"
      ]
     },
     "metadata": {},
     "output_type": "display_data"
    },
    {
     "data": {
      "text/html": [
       "<script type=\"WaveDrom\">{\"signal\": [[\"stimulus\", {\"name\": \"D0\", \"pin\": \"D0\", \"wave\": \"l...............\"}], {}, [\"analysis\", {\"name\": \"D19\", \"pin\": \"D19\", \"wave\": \"l...............\"}]], \"foot\": {\"tick\": 1}, \"head\": {\"tick\": 1, \"text\": \"Boolean expression 2: D19 = D0\"}}</script>"
      ]
     },
     "metadata": {},
     "output_type": "display_data"
    },
    {
     "data": {
      "application/javascript": [
       "$.getScript(\"../js/WaveDrom.js\", function () {\n",
       "$.getScript(\"../js/WaveDromSkin.js\", function () {\n",
       "WaveDrom.ProcessAll();});\n",
       "});\n"
      ]
     },
     "metadata": {},
     "output_type": "display_data"
    },
    {
     "data": {
      "text/html": [
       "<script type=\"WaveDrom\">{\"signal\": [{}, [\"analysis\", {\"name\": \"D9\", \"pin\": \"D9\", \"wave\": \"l...............\"}]], \"foot\": {\"tick\": 1}, \"head\": {\"tick\": 1, \"text\": \"Boolean expression 3: D9 = PB0 & PB1 & PB2\"}}</script>"
      ]
     },
     "metadata": {},
     "output_type": "display_data"
    },
    {
     "data": {
      "application/javascript": [
       "$.getScript(\"../js/WaveDrom.js\", function () {\n",
       "$.getScript(\"../js/WaveDromSkin.js\", function () {\n",
       "WaveDrom.ProcessAll();});\n",
       "});\n"
      ]
     },
     "metadata": {},
     "output_type": "display_data"
    },
    {
     "data": {
      "text/html": [
       "<script type=\"WaveDrom\">{\"signal\": [[\"stimulus\", {\"name\": \"D0\", \"pin\": \"D0\", \"wave\": \"l...............\"}, {\"name\": \"D1\", \"pin\": \"D1\", \"wave\": \"l...............\"}, {\"name\": \"D2\", \"pin\": \"D2\", \"wave\": \"h...............\"}], {}, [\"analysis\", {\"name\": \"D10\", \"pin\": \"D10\", \"wave\": \"l...............\"}]], \"foot\": {\"tick\": 1}, \"head\": {\"tick\": 1, \"text\": \"Boolean expression 4: D10 = D0 & D1 & D2\"}}</script>"
      ]
     },
     "metadata": {},
     "output_type": "display_data"
    },
    {
     "data": {
      "application/javascript": [
       "$.getScript(\"../js/WaveDrom.js\", function () {\n",
       "$.getScript(\"../js/WaveDromSkin.js\", function () {\n",
       "WaveDrom.ProcessAll();});\n",
       "});\n"
      ]
     },
     "metadata": {},
     "output_type": "display_data"
    },
    {
     "data": {
      "text/html": [
       "<script type=\"WaveDrom\">{\"signal\": [[\"stimulus\", {\"name\": \"D0\", \"pin\": \"D0\", \"wave\": \"l...............\"}, {\"name\": \"D1\", \"pin\": \"D1\", \"wave\": \"l...............\"}, {\"name\": \"D2\", \"pin\": \"D2\", \"wave\": \"h...............\"}, {\"name\": \"D3\", \"pin\": \"D3\", \"wave\": \"h...............\"}], {}, [\"analysis\", {\"name\": \"D11\", \"pin\": \"D11\", \"wave\": \"l...............\"}]], \"foot\": {\"tick\": 1}, \"head\": {\"tick\": 1, \"text\": \"Boolean expression 5: D11 = D0 & D1 & D2 & D3\"}}</script>"
      ]
     },
     "metadata": {},
     "output_type": "display_data"
    },
    {
     "data": {
      "application/javascript": [
       "$.getScript(\"../js/WaveDrom.js\", function () {\n",
       "$.getScript(\"../js/WaveDromSkin.js\", function () {\n",
       "WaveDrom.ProcessAll();});\n",
       "});\n"
      ]
     },
     "metadata": {},
     "output_type": "display_data"
    }
   ],
   "source": [
    "boolean_builder.show_waveform()"
   ]
  },
  {
   "cell_type": "code",
   "execution_count": 18,
   "metadata": {
    "collapsed": false,
    "deletable": true,
    "editable": true
   },
   "outputs": [
    {
     "data": {
      "text/plain": [
       "'READY'"
      ]
     },
     "execution_count": 18,
     "metadata": {},
     "output_type": "execute_result"
    }
   ],
   "source": [
    "boolean_builder.stop()\n",
    "boolean_builder.status"
   ]
  }
 ],
 "metadata": {
  "kernelspec": {
   "display_name": "Python 3",
   "language": "python",
   "name": "python3"
  },
  "language_info": {
   "codemirror_mode": {
    "name": "ipython",
    "version": 3
   },
   "file_extension": ".py",
   "mimetype": "text/x-python",
   "name": "python",
   "nbconvert_exporter": "python",
   "pygments_lexer": "ipython3",
   "version": "3.6.0"
  }
 },
 "nbformat": 4,
 "nbformat_minor": 1
}
