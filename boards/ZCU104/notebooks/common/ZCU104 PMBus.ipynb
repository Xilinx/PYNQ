{
 "cells": [
  {
   "cell_type": "markdown",
   "metadata": {},
   "source": [
    "# PMBus on the ZCU104\n",
    "\n",
    "The ZCU104 has some support for monitoring power rails on the board using PMBus. PYNQ exposes these rails through the get_rails function that returns a dictionary of all of the rails available to be monitored."
   ]
  },
  {
   "cell_type": "code",
   "execution_count": 1,
   "metadata": {},
   "outputs": [
    {
     "data": {
      "application/javascript": [
       "\n",
       "require(['notebook/js/codecell'], function(codecell) {\n",
       "  codecell.CodeCell.options_default.highlight_modes[\n",
       "      'magic_text/x-csrc'] = {'reg':[/^%%microblaze/]};\n",
       "  Jupyter.notebook.events.one('kernel_ready.Kernel', function(){\n",
       "      Jupyter.notebook.get_cells().map(function(cell){\n",
       "          if (cell.cell_type == 'code'){ cell.auto_highlight(); } }) ;\n",
       "  });\n",
       "});\n"
      ]
     },
     "metadata": {},
     "output_type": "display_data"
    },
    {
     "data": {
      "text/plain": [
       "{'12V': Rail {name=12V, voltage=Sensor {name=12V_voltage, value=12.113V}, current=Sensor {name=12V_current, value=1.159A}, power=Sensor {name=12V_power, value=14.05W}},\n",
       " '1V13': Rail {name=1V13, voltage=Sensor {name=1V13_voltage, value=1.125V}, current=Sensor {name=1V13_current, value=0.218A}, power=Sensor {name=1V13_power, value=0.21875W}},\n",
       " '1V2': Rail {name=1V2, voltage=Sensor {name=1V2_voltage, value=1.203V}, current=Sensor {name=1V2_current, value=0.234A}, power=Sensor {name=1V2_power, value=0.28125W}},\n",
       " '1V8': Rail {name=1V8, voltage=Sensor {name=1V8_voltage, value=1.804V}, current=Sensor {name=1V8_current, value=0.328A}, power=Sensor {name=1V8_power, value=0.5625W}},\n",
       " '3V3': Rail {name=3V3, voltage=Sensor {name=3V3_voltage, value=3.304V}, current=Sensor {name=3V3_current, value=0.625A}, power=Sensor {name=3V3_power, value=2.0W}},\n",
       " '5V0': Rail {name=5V0, voltage=Sensor {name=5V0_voltage, value=5.0V}, current=Sensor {name=5V0_current, value=0.0A}, power=Sensor {name=5V0_power, value=0.0W}},\n",
       " 'FMC': Rail {name=FMC, voltage=Sensor {name=FMC_voltage, value=0.156V}, current=Sensor {name=FMC_current, value=10.187A}, power=Sensor {name=FMC_power, value=0.03125W}},\n",
       " 'INT': Rail {name=INT, voltage=Sensor {name=INT_voltage, value=0.851V}, current=Sensor {name=INT_current, value=4.375A}, power=Sensor {name=INT_power, value=3.5W}},\n",
       " 'MGTA': Rail {name=MGTA, voltage=Sensor {name=MGTA_voltage, value=0.898V}, current=Sensor {name=MGTA_current, value=0.128A}, power=Sensor {name=MGTA_power, value=0.109375W}},\n",
       " 'MGTRA': Rail {name=MGTRA, voltage=Sensor {name=MGTRA_voltage, value=0.835V}, current=Sensor {name=MGTRA_current, value=0.039A}, power=Sensor {name=MGTRA_power, value=0.03125W}}}"
      ]
     },
     "execution_count": 1,
     "metadata": {},
     "output_type": "execute_result"
    }
   ],
   "source": [
    "import pynq\n",
    "\n",
    "rails = pynq.get_rails()\n",
    "rails"
   ]
  },
  {
   "cell_type": "markdown",
   "metadata": {},
   "source": [
    "As can be seen, the keys of the dictionary are the names of the voltage rails while the values are `Rail` objects which contain three sensors for the voltage, current and power. Due to limitations of the regulators used on the ZCU104 the resolution of most of the power railes are only to 1/8 W.\n",
    "\n",
    "To see how power changes under CPU load we can use the `DataRecorder` class. For this example we are going to look at total board power as we load one of the CPU cores in Python."
   ]
  },
  {
   "cell_type": "code",
   "execution_count": 2,
   "metadata": {},
   "outputs": [],
   "source": [
    "recorder = pynq.DataRecorder(rails['12V'].power)"
   ]
  },
  {
   "cell_type": "markdown",
   "metadata": {},
   "source": [
    "We can now use the recorder to monitor the applied sensor. For this example we'll sample the power every half second while sleeping and performing a dummy loop"
   ]
  },
  {
   "cell_type": "code",
   "execution_count": 3,
   "metadata": {},
   "outputs": [],
   "source": [
    "import time\n",
    "with recorder.record(0.5):\n",
    "    time.sleep(10)\n",
    "    for _ in range(10000000):\n",
    "        pass\n",
    "    time.sleep(10)"
   ]
  },
  {
   "cell_type": "markdown",
   "metadata": {},
   "source": [
    "The `DataRecorder` exposes the sensor data as a pandas dataframe"
   ]
  },
  {
   "cell_type": "code",
   "execution_count": 4,
   "metadata": {},
   "outputs": [
    {
     "data": {
      "text/html": [
       "<div>\n",
       "<style scoped>\n",
       "    .dataframe tbody tr th:only-of-type {\n",
       "        vertical-align: middle;\n",
       "    }\n",
       "\n",
       "    .dataframe tbody tr th {\n",
       "        vertical-align: top;\n",
       "    }\n",
       "\n",
       "    .dataframe thead th {\n",
       "        text-align: right;\n",
       "    }\n",
       "</style>\n",
       "<table border=\"1\" class=\"dataframe\">\n",
       "  <thead>\n",
       "    <tr style=\"text-align: right;\">\n",
       "      <th></th>\n",
       "      <th>Invocation</th>\n",
       "      <th>12V_power</th>\n",
       "    </tr>\n",
       "  </thead>\n",
       "  <tbody>\n",
       "    <tr>\n",
       "      <th>2018-06-12 14:10:14.590922</th>\n",
       "      <td>0</td>\n",
       "      <td>14.300</td>\n",
       "    </tr>\n",
       "    <tr>\n",
       "      <th>2018-06-12 14:10:15.091951</th>\n",
       "      <td>0</td>\n",
       "      <td>13.825</td>\n",
       "    </tr>\n",
       "    <tr>\n",
       "      <th>2018-06-12 14:10:15.592879</th>\n",
       "      <td>0</td>\n",
       "      <td>13.825</td>\n",
       "    </tr>\n",
       "    <tr>\n",
       "      <th>2018-06-12 14:10:16.093752</th>\n",
       "      <td>0</td>\n",
       "      <td>13.825</td>\n",
       "    </tr>\n",
       "    <tr>\n",
       "      <th>2018-06-12 14:10:16.594644</th>\n",
       "      <td>0</td>\n",
       "      <td>13.800</td>\n",
       "    </tr>\n",
       "    <tr>\n",
       "      <th>2018-06-12 14:10:17.095583</th>\n",
       "      <td>0</td>\n",
       "      <td>13.825</td>\n",
       "    </tr>\n",
       "    <tr>\n",
       "      <th>2018-06-12 14:10:17.596424</th>\n",
       "      <td>0</td>\n",
       "      <td>13.825</td>\n",
       "    </tr>\n",
       "    <tr>\n",
       "      <th>2018-06-12 14:10:18.097266</th>\n",
       "      <td>0</td>\n",
       "      <td>13.825</td>\n",
       "    </tr>\n",
       "    <tr>\n",
       "      <th>2018-06-12 14:10:18.598133</th>\n",
       "      <td>0</td>\n",
       "      <td>13.800</td>\n",
       "    </tr>\n",
       "    <tr>\n",
       "      <th>2018-06-12 14:10:19.098978</th>\n",
       "      <td>0</td>\n",
       "      <td>13.800</td>\n",
       "    </tr>\n",
       "    <tr>\n",
       "      <th>2018-06-12 14:10:19.599862</th>\n",
       "      <td>0</td>\n",
       "      <td>13.825</td>\n",
       "    </tr>\n",
       "    <tr>\n",
       "      <th>2018-06-12 14:10:20.100796</th>\n",
       "      <td>0</td>\n",
       "      <td>13.825</td>\n",
       "    </tr>\n",
       "    <tr>\n",
       "      <th>2018-06-12 14:10:20.601771</th>\n",
       "      <td>0</td>\n",
       "      <td>13.800</td>\n",
       "    </tr>\n",
       "    <tr>\n",
       "      <th>2018-06-12 14:10:21.102624</th>\n",
       "      <td>0</td>\n",
       "      <td>13.800</td>\n",
       "    </tr>\n",
       "    <tr>\n",
       "      <th>2018-06-12 14:10:21.603606</th>\n",
       "      <td>0</td>\n",
       "      <td>13.825</td>\n",
       "    </tr>\n",
       "    <tr>\n",
       "      <th>2018-06-12 14:10:22.104582</th>\n",
       "      <td>0</td>\n",
       "      <td>13.825</td>\n",
       "    </tr>\n",
       "    <tr>\n",
       "      <th>2018-06-12 14:10:22.605515</th>\n",
       "      <td>0</td>\n",
       "      <td>13.825</td>\n",
       "    </tr>\n",
       "    <tr>\n",
       "      <th>2018-06-12 14:10:23.106495</th>\n",
       "      <td>0</td>\n",
       "      <td>13.800</td>\n",
       "    </tr>\n",
       "    <tr>\n",
       "      <th>2018-06-12 14:10:23.607339</th>\n",
       "      <td>0</td>\n",
       "      <td>13.800</td>\n",
       "    </tr>\n",
       "    <tr>\n",
       "      <th>2018-06-12 14:10:24.108314</th>\n",
       "      <td>0</td>\n",
       "      <td>13.825</td>\n",
       "    </tr>\n",
       "    <tr>\n",
       "      <th>2018-06-12 14:10:24.614368</th>\n",
       "      <td>0</td>\n",
       "      <td>13.875</td>\n",
       "    </tr>\n",
       "    <tr>\n",
       "      <th>2018-06-12 14:10:25.125480</th>\n",
       "      <td>0</td>\n",
       "      <td>13.800</td>\n",
       "    </tr>\n",
       "    <tr>\n",
       "      <th>2018-06-12 14:10:25.636581</th>\n",
       "      <td>0</td>\n",
       "      <td>13.975</td>\n",
       "    </tr>\n",
       "    <tr>\n",
       "      <th>2018-06-12 14:10:26.147517</th>\n",
       "      <td>0</td>\n",
       "      <td>14.000</td>\n",
       "    </tr>\n",
       "    <tr>\n",
       "      <th>2018-06-12 14:10:26.658481</th>\n",
       "      <td>0</td>\n",
       "      <td>14.025</td>\n",
       "    </tr>\n",
       "    <tr>\n",
       "      <th>2018-06-12 14:10:27.169514</th>\n",
       "      <td>0</td>\n",
       "      <td>14.000</td>\n",
       "    </tr>\n",
       "    <tr>\n",
       "      <th>2018-06-12 14:10:27.680505</th>\n",
       "      <td>0</td>\n",
       "      <td>14.000</td>\n",
       "    </tr>\n",
       "    <tr>\n",
       "      <th>2018-06-12 14:10:28.186375</th>\n",
       "      <td>0</td>\n",
       "      <td>13.800</td>\n",
       "    </tr>\n",
       "    <tr>\n",
       "      <th>2018-06-12 14:10:28.687186</th>\n",
       "      <td>0</td>\n",
       "      <td>13.800</td>\n",
       "    </tr>\n",
       "    <tr>\n",
       "      <th>2018-06-12 14:10:29.188076</th>\n",
       "      <td>0</td>\n",
       "      <td>13.800</td>\n",
       "    </tr>\n",
       "    <tr>\n",
       "      <th>2018-06-12 14:10:29.689050</th>\n",
       "      <td>0</td>\n",
       "      <td>13.825</td>\n",
       "    </tr>\n",
       "    <tr>\n",
       "      <th>2018-06-12 14:10:30.189987</th>\n",
       "      <td>0</td>\n",
       "      <td>13.800</td>\n",
       "    </tr>\n",
       "    <tr>\n",
       "      <th>2018-06-12 14:10:30.690962</th>\n",
       "      <td>0</td>\n",
       "      <td>13.800</td>\n",
       "    </tr>\n",
       "    <tr>\n",
       "      <th>2018-06-12 14:10:31.191853</th>\n",
       "      <td>0</td>\n",
       "      <td>13.800</td>\n",
       "    </tr>\n",
       "    <tr>\n",
       "      <th>2018-06-12 14:10:31.692828</th>\n",
       "      <td>0</td>\n",
       "      <td>13.825</td>\n",
       "    </tr>\n",
       "    <tr>\n",
       "      <th>2018-06-12 14:10:32.193813</th>\n",
       "      <td>0</td>\n",
       "      <td>13.825</td>\n",
       "    </tr>\n",
       "    <tr>\n",
       "      <th>2018-06-12 14:10:32.694828</th>\n",
       "      <td>0</td>\n",
       "      <td>13.825</td>\n",
       "    </tr>\n",
       "    <tr>\n",
       "      <th>2018-06-12 14:10:33.195804</th>\n",
       "      <td>0</td>\n",
       "      <td>13.800</td>\n",
       "    </tr>\n",
       "    <tr>\n",
       "      <th>2018-06-12 14:10:33.696651</th>\n",
       "      <td>0</td>\n",
       "      <td>13.825</td>\n",
       "    </tr>\n",
       "    <tr>\n",
       "      <th>2018-06-12 14:10:34.197641</th>\n",
       "      <td>0</td>\n",
       "      <td>13.825</td>\n",
       "    </tr>\n",
       "    <tr>\n",
       "      <th>2018-06-12 14:10:34.698540</th>\n",
       "      <td>0</td>\n",
       "      <td>13.825</td>\n",
       "    </tr>\n",
       "    <tr>\n",
       "      <th>2018-06-12 14:10:35.199527</th>\n",
       "      <td>0</td>\n",
       "      <td>13.825</td>\n",
       "    </tr>\n",
       "    <tr>\n",
       "      <th>2018-06-12 14:10:35.700457</th>\n",
       "      <td>0</td>\n",
       "      <td>13.825</td>\n",
       "    </tr>\n",
       "    <tr>\n",
       "      <th>2018-06-12 14:10:36.201440</th>\n",
       "      <td>0</td>\n",
       "      <td>13.825</td>\n",
       "    </tr>\n",
       "    <tr>\n",
       "      <th>2018-06-12 14:10:36.702443</th>\n",
       "      <td>0</td>\n",
       "      <td>13.800</td>\n",
       "    </tr>\n",
       "    <tr>\n",
       "      <th>2018-06-12 14:10:37.203427</th>\n",
       "      <td>0</td>\n",
       "      <td>13.800</td>\n",
       "    </tr>\n",
       "    <tr>\n",
       "      <th>2018-06-12 14:10:37.704407</th>\n",
       "      <td>0</td>\n",
       "      <td>13.800</td>\n",
       "    </tr>\n",
       "  </tbody>\n",
       "</table>\n",
       "</div>"
      ],
      "text/plain": [
       "                            Invocation  12V_power\n",
       "2018-06-12 14:10:14.590922           0     14.300\n",
       "2018-06-12 14:10:15.091951           0     13.825\n",
       "2018-06-12 14:10:15.592879           0     13.825\n",
       "2018-06-12 14:10:16.093752           0     13.825\n",
       "2018-06-12 14:10:16.594644           0     13.800\n",
       "2018-06-12 14:10:17.095583           0     13.825\n",
       "2018-06-12 14:10:17.596424           0     13.825\n",
       "2018-06-12 14:10:18.097266           0     13.825\n",
       "2018-06-12 14:10:18.598133           0     13.800\n",
       "2018-06-12 14:10:19.098978           0     13.800\n",
       "2018-06-12 14:10:19.599862           0     13.825\n",
       "2018-06-12 14:10:20.100796           0     13.825\n",
       "2018-06-12 14:10:20.601771           0     13.800\n",
       "2018-06-12 14:10:21.102624           0     13.800\n",
       "2018-06-12 14:10:21.603606           0     13.825\n",
       "2018-06-12 14:10:22.104582           0     13.825\n",
       "2018-06-12 14:10:22.605515           0     13.825\n",
       "2018-06-12 14:10:23.106495           0     13.800\n",
       "2018-06-12 14:10:23.607339           0     13.800\n",
       "2018-06-12 14:10:24.108314           0     13.825\n",
       "2018-06-12 14:10:24.614368           0     13.875\n",
       "2018-06-12 14:10:25.125480           0     13.800\n",
       "2018-06-12 14:10:25.636581           0     13.975\n",
       "2018-06-12 14:10:26.147517           0     14.000\n",
       "2018-06-12 14:10:26.658481           0     14.025\n",
       "2018-06-12 14:10:27.169514           0     14.000\n",
       "2018-06-12 14:10:27.680505           0     14.000\n",
       "2018-06-12 14:10:28.186375           0     13.800\n",
       "2018-06-12 14:10:28.687186           0     13.800\n",
       "2018-06-12 14:10:29.188076           0     13.800\n",
       "2018-06-12 14:10:29.689050           0     13.825\n",
       "2018-06-12 14:10:30.189987           0     13.800\n",
       "2018-06-12 14:10:30.690962           0     13.800\n",
       "2018-06-12 14:10:31.191853           0     13.800\n",
       "2018-06-12 14:10:31.692828           0     13.825\n",
       "2018-06-12 14:10:32.193813           0     13.825\n",
       "2018-06-12 14:10:32.694828           0     13.825\n",
       "2018-06-12 14:10:33.195804           0     13.800\n",
       "2018-06-12 14:10:33.696651           0     13.825\n",
       "2018-06-12 14:10:34.197641           0     13.825\n",
       "2018-06-12 14:10:34.698540           0     13.825\n",
       "2018-06-12 14:10:35.199527           0     13.825\n",
       "2018-06-12 14:10:35.700457           0     13.825\n",
       "2018-06-12 14:10:36.201440           0     13.825\n",
       "2018-06-12 14:10:36.702443           0     13.800\n",
       "2018-06-12 14:10:37.203427           0     13.800\n",
       "2018-06-12 14:10:37.704407           0     13.800"
      ]
     },
     "execution_count": 4,
     "metadata": {},
     "output_type": "execute_result"
    }
   ],
   "source": [
    "recorder.frame"
   ]
  },
  {
   "cell_type": "markdown",
   "metadata": {},
   "source": [
    "or by plotting the results using matplotlib"
   ]
  },
  {
   "cell_type": "code",
   "execution_count": 5,
   "metadata": {},
   "outputs": [
    {
     "data": {
      "text/plain": [
       "<matplotlib.axes._subplots.AxesSubplot at 0x7f71ed0240>"
      ]
     },
     "execution_count": 5,
     "metadata": {},
     "output_type": "execute_result"
    },
    {
     "data": {
      "image/png": "[encoded data removed]",
      "text/plain": [
       "<matplotlib.figure.Figure at 0x7f71eb3b00>"
      ]
     },
     "metadata": {},
     "output_type": "display_data"
    }
   ],
   "source": [
    "%matplotlib inline\n",
    "recorder.frame['12V_power'].plot()"
   ]
  },
  {
   "cell_type": "markdown",
   "metadata": {},
   "source": [
    "We can get more information by using the `mark` function which will increment the invocation number without having to stop and start the recorder"
   ]
  },
  {
   "cell_type": "code",
   "execution_count": 6,
   "metadata": {},
   "outputs": [
    {
     "data": {
      "text/plain": [
       "array([<matplotlib.axes._subplots.AxesSubplot object at 0x7f728c9f60>,\n",
       "       <matplotlib.axes._subplots.AxesSubplot object at 0x7f71de17f0>], dtype=object)"
      ]
     },
     "execution_count": 6,
     "metadata": {},
     "output_type": "execute_result"
    },
    {
     "data": {
      "image/png": "[encoded data removed]",
      "text/plain": [
       "<matplotlib.figure.Figure at 0x7f71e5e4e0>"
      ]
     },
     "metadata": {},
     "output_type": "display_data"
    }
   ],
   "source": [
    "recorder.reset()\n",
    "with recorder.record(0.5):\n",
    "    time.sleep(10)\n",
    "    recorder.mark()\n",
    "    for _ in range(10000000):\n",
    "        pass\n",
    "    recorder.mark()\n",
    "    time.sleep(10)\n",
    "    \n",
    "recorder.frame.plot(subplots=True)"
   ]
  },
  {
   "cell_type": "markdown",
   "metadata": {},
   "source": [
    "This clearly shows the power spike when the for loop starts running."
   ]
  }
 ],
 "metadata": {
  "kernelspec": {
   "display_name": "Python 3",
   "language": "python",
   "name": "python3"
  },
  "language_info": {
   "codemirror_mode": {
    "name": "ipython",
    "version": 3
   },
   "file_extension": ".py",
   "mimetype": "text/x-python",
   "name": "python",
   "nbconvert_exporter": "python",
   "pygments_lexer": "ipython3",
   "version": "3.6.5"
  }
 },
 "nbformat": 4,
 "nbformat_minor": 2
}
