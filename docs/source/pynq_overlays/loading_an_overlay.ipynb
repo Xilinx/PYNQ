{
 "cells": [
  {
   "cell_type": "markdown",
   "metadata": {},
   "source": [
    "# Loading an Overlay\n",
    "\n",
    "By default, the *base* overlay is loaded at boot time. New overlays can be loaded as the system is running. \n",
    "\n",
    "The PYNQ ``Overlay`` class is used to load an overlay. Once the Overlay class is imported, the overlay can be instantiated by specifying the name of the bitstream file. "
   ]
  },
  {
   "cell_type": "code",
   "execution_count": 1,
   "metadata": {
    "collapsed": true
   },
   "outputs": [],
   "source": [
    "from pynq import Overlay\n",
    "baseOverlay = Overlay(\"base.bit\")"
   ]
  },
  {
   "cell_type": "markdown",
   "metadata": {},
   "source": [
    "Creating the overlay instance will also download the bitstream to the Zynq PL. Even though the base overlay is downloaded at boot time, creating an instance of the Overlay class allows information about the overlay to be discovered. \n",
    "\n",
    "Once an overlay has been instantiated, information about the overlay can be discovered.\n",
    "\n",
    "To discover what is in an overlay, the ``help()`` method can be run on the overlay instance."
   ]
  },
  {
   "cell_type": "code",
   "execution_count": 2,
   "metadata": {},
   "outputs": [
    {
     "name": "stdout",
     "output_type": "stream",
     "text": [
      "Help on BaseOverlay object:\n",
      "\n",
      "class BaseOverlay(pynq.overlay.DefaultOverlay)\n",
      " |  The Base overlay for the Pynq-Z1\n",
      " |  \n",
      " |  This overlay is designed to interact with all of the on board peripherals\n",
      " |  and external interfaces of the Pynq-Z1 board. It exposes the following\n",
      " |  attributes:\n",
      " |  \n",
      " |  Attributes\n",
      " |  ----------\n",
      " |  pmoda : IOP\n",
      " |       IO processor connected to the PMODA interface\n",
      " |  pmodb : IOP\n",
      " |       IO processor connected to the PMODB interface\n",
      " |  arduino : IOP\n",
      " |       IO processor connected to the Arduino/ChipKit interface\n",
      " |  leds : AxiGPIO\n",
      " |       4-bit output GPIO for interacting with the green LEDs LD0-3\n",
      " |  buttons : AxiGPIO\n",
      " |       4-bit input GPIO for interacting with the buttons BTN0-3\n",
      " |  switches : AxiGPIO\n",
      " |       2-bit input GPIO for interacting with the switches SW0 and SW1\n",
      " |  rgbleds : [pynq.board.RGBLED]\n",
      " |       Wrapper for GPIO for LD4 and LD5 multicolour LEDs\n",
      " |  video : pynq.lib.video.HDMIWrapper\n",
      " |       HDMI input and output interfaces\n",
      " |  audio : pynq.lib.audio.Audio\n",
      " |       Headphone jack and on-board microphone\n",
      " |  \n",
      " |  Method resolution order:\n",
      " |      BaseOverlay\n",
      " |      pynq.overlay.DefaultOverlay\n",
      " |      pynq.pl.PL\n",
      " |      builtins.object\n",
      " |  \n",
      " |  Methods defined here:\n",
      " |  \n",
      " |  __init__(self, bitfile, download)\n",
      " |  \n",
      " |  ----------------------------------------------------------------------\n",
      " |  Methods inherited from pynq.overlay.DefaultOverlay:\n",
      " |  \n",
      " |  __dir__(self)\n",
      " |      __dir__() -> list\n",
      " |      default dir() implementation\n",
      " |  \n",
      " |  __getattr__(self, key)\n",
      " |      Overload of __getattr__ to return a driver for an IP or\n",
      " |      hierarchy. Throws an `RuntimeError` if the overlay is not loaded.\n",
      " |  \n",
      " |  download(self)\n",
      " |      The method to download a bitstream onto PL.\n",
      " |      \n",
      " |      Note\n",
      " |      ----\n",
      " |      After the bitstream has been downloaded, the \"timestamp\" in PL will be\n",
      " |      updated. In addition, all the dictionaries on PL will\n",
      " |      be reset automatically.\n",
      " |      \n",
      " |      Returns\n",
      " |      -------\n",
      " |      None\n",
      " |  \n",
      " |  is_loaded(self)\n",
      " |      This method checks whether a bitstream is loaded.\n",
      " |      \n",
      " |      This method returns true if the loaded PL bitstream is same\n",
      " |      as this Overlay's member bitstream.\n",
      " |      \n",
      " |      Returns\n",
      " |      -------\n",
      " |      bool\n",
      " |          True if bitstream is loaded.\n",
      " |  \n",
      " |  load_ip_data(self, ip_name, data)\n",
      " |      This method loads the data to the addressable IP.\n",
      " |      \n",
      " |      Calls the method in the super class to load the data. This method can\n",
      " |      be used to program the IP. For example, users can use this method to\n",
      " |      load the program to the Microblaze processors on PL.\n",
      " |      \n",
      " |      Note\n",
      " |      ----\n",
      " |      The data is assumed to be in binary format (.bin). The data name will\n",
      " |      be stored as a state information in the IP dictionary.\n",
      " |      \n",
      " |      Parameters\n",
      " |      ----------\n",
      " |      ip_name : str\n",
      " |          The name of the addressable IP.\n",
      " |      data : str\n",
      " |          The absolute path of the data to be loaded.\n",
      " |      \n",
      " |      Returns\n",
      " |      -------\n",
      " |      None\n",
      " |  \n",
      " |  reset(self)\n",
      " |      This function resets all the dictionaries kept in the overlay.\n",
      " |      \n",
      " |      This function should be used with caution.\n",
      " |      \n",
      " |      Returns\n",
      " |      -------\n",
      " |      None\n",
      " |  \n",
      " |  ----------------------------------------------------------------------\n",
      " |  Data descriptors inherited from pynq.pl.PL:\n",
      " |  \n",
      " |  __dict__\n",
      " |      dictionary for instance variables (if defined)\n",
      " |  \n",
      " |  __weakref__\n",
      " |      list of weak references to the object (if defined)\n",
      "\n"
     ]
    }
   ],
   "source": [
    "help(baseOverlay)"
   ]
  },
  {
   "cell_type": "markdown",
   "metadata": {},
   "source": [
    "This will give a lists of the IP and methods available as part of the overlay."
   ]
  },
  {
   "cell_type": "markdown",
   "metadata": {},
   "source": [
    "## Using IP in an overlay"
   ]
  },
  {
   "cell_type": "markdown",
   "metadata": {},
   "source": [
    "From the ``help()`` print out above, it can be seen that the base overlay includes an ``leds`` instance. ``help()`` reports that this is an AxiGPIO class:"
   ]
  },
  {
   "cell_type": "markdown",
   "metadata": {},
   "source": [
    "    leds : AxiGPIO\n",
    "\n",
    "         4-bit output GPIO for interacting with the green LEDs LD0-3"
   ]
  },
  {
   "cell_type": "markdown",
   "metadata": {},
   "source": [
    "Running help on the leds object will provide more information about the object including details of its API. "
   ]
  },
  {
   "cell_type": "code",
   "execution_count": 3,
   "metadata": {
    "scrolled": true
   },
   "outputs": [
    {
     "name": "stdout",
     "output_type": "stream",
     "text": [
      "Help on Channel in module pynq.lib.axigpio object:\n",
      "\n",
      "class Channel(builtins.object)\n",
      " |  Class representing a single channel of the GPIO controller.\n",
      " |  \n",
      " |  Wires are and bundles of wires can be accessed using array notation\n",
      " |  with the methods on the wires determined by the type of the channel::\n",
      " |  \n",
      " |      input_channel[0].read()\n",
      " |      output_channel[1:3].on()\n",
      " |  \n",
      " |  This class instantiated not used directly, instead accessed through\n",
      " |  the `AxiGPIO` classes attributes. This class exposes the wires\n",
      " |  connected to the channel as an array or elements. Slices of the\n",
      " |  array can be assigned simultaneously.\n",
      " |  \n",
      " |  Methods defined here:\n",
      " |  \n",
      " |  __getitem__(self, idx)\n",
      " |  \n",
      " |  __init__(self, parent, channel)\n",
      " |      Initialize self.  See help(type(self)) for accurate signature.\n",
      " |  \n",
      " |  __len__(self)\n",
      " |  \n",
      " |  read(self)\n",
      " |      Read the state of the input pins\n",
      " |  \n",
      " |  setdirection(self, direction)\n",
      " |      Set the direction of the channel\n",
      " |      \n",
      " |      Must be one of AxiGPIO.{Input, Output, InOut} or the string\n",
      " |      'in', 'out', or 'inout'\n",
      " |  \n",
      " |  setlength(self, length)\n",
      " |      Set the number of wires connected to the channel\n",
      " |  \n",
      " |  wait_for_interrupt_async(self)\n",
      " |      Wait for the interrupt on the channel to be signalled\n",
      " |      \n",
      " |      This is intended to be used by slices waiting for a particular\n",
      " |      value but can be used in any situation to wait for a per-channel\n",
      " |      interrupt.\n",
      " |  \n",
      " |  write(self, val, mask)\n",
      " |      Set the state of the output pins\n",
      " |  \n",
      " |  ----------------------------------------------------------------------\n",
      " |  Data descriptors defined here:\n",
      " |  \n",
      " |  __dict__\n",
      " |      dictionary for instance variables (if defined)\n",
      " |  \n",
      " |  __weakref__\n",
      " |      list of weak references to the object (if defined)\n",
      " |  \n",
      " |  trimask\n",
      " |      Gets or sets the tri-state mask for an inout channel\n",
      "\n"
     ]
    }
   ],
   "source": [
    "help(baseOverlay.leds)"
   ]
  },
  {
   "cell_type": "markdown",
   "metadata": {},
   "source": [
    "Now that the API is know, it can be used to interact with the IP"
   ]
  },
  {
   "cell_type": "code",
   "execution_count": 4,
   "metadata": {},
   "outputs": [],
   "source": [
    "baseOverlay.leds[0].toggle()"
   ]
  },
  {
   "cell_type": "markdown",
   "metadata": {},
   "source": [
    "Information about other IP can be found from the overlay instance in a simialr way. "
   ]
  },
  {
   "cell_type": "code",
   "execution_count": 5,
   "metadata": {
    "scrolled": true
   },
   "outputs": [
    {
     "name": "stdout",
     "output_type": "stream",
     "text": [
      "Help on HDMIWrapper in module pynq.lib.video object:\n",
      "\n",
      "class HDMIWrapper(pynq.overlay.DefaultHierarchy)\n",
      " |  Hierarchy driver for the entire Pynq-Z1 video subsystem.\n",
      " |  \n",
      " |  Exposes the input, output and video DMA as attributes. For most\n",
      " |  use cases the wrappers for the input and output pipelines are\n",
      " |  sufficient and the VDMA will not need to be used directly.\n",
      " |  \n",
      " |  Attributes\n",
      " |  ----------\n",
      " |  hdmi_in : pynq.lib.video.HDMIIn\n",
      " |      The HDMI input pipeline\n",
      " |  hdmi_out : pynq.lib.video.HDMIOut\n",
      " |      The HDMI output pipeline\n",
      " |  axi_vdma : pynq.lib.video.AxiVDMA\n",
      " |      The video DMA.\n",
      " |  \n",
      " |  Method resolution order:\n",
      " |      HDMIWrapper\n",
      " |      pynq.overlay.DefaultHierarchy\n",
      " |      pynq.overlay._IPMap\n",
      " |      builtins.object\n",
      " |  \n",
      " |  Methods defined here:\n",
      " |  \n",
      " |  __init__(self, description)\n",
      " |      Create a new _IPMap based on a hierarchical description.\n",
      " |  \n",
      " |  ----------------------------------------------------------------------\n",
      " |  Static methods defined here:\n",
      " |  \n",
      " |  checkhierarchy(description)\n",
      " |      Function to check if the driver matches a particular hierarchy\n",
      " |      \n",
      " |      This function should be redefined in derived classes to return True\n",
      " |      if the description matches what is expected by the driver. The default\n",
      " |      implementation always returns False so that drivers that forget don't\n",
      " |      get loaded for hierarchies they don't expect.\n",
      " |  \n",
      " |  ----------------------------------------------------------------------\n",
      " |  Methods inherited from pynq.overlay._IPMap:\n",
      " |  \n",
      " |  __dir__(self)\n",
      " |      __dir__() -> list\n",
      " |      default dir() implementation\n",
      " |  \n",
      " |  __getattr__(self, key)\n",
      " |  \n",
      " |  ----------------------------------------------------------------------\n",
      " |  Data descriptors inherited from pynq.overlay._IPMap:\n",
      " |  \n",
      " |  __dict__\n",
      " |      dictionary for instance variables (if defined)\n",
      " |  \n",
      " |  __weakref__\n",
      " |      list of weak references to the object (if defined)\n",
      "\n"
     ]
    }
   ],
   "source": [
    "help(baseOverlay.video)"
   ]
  }
 ],
 "metadata": {
  "kernelspec": {
   "display_name": "Python 3",
   "language": "python",
   "name": "python3"
  },
  "language_info": {
   "codemirror_mode": {
    "name": "ipython",
    "version": 3
   },
   "file_extension": ".py",
   "mimetype": "text/x-python",
   "name": "python",
   "nbconvert_exporter": "python",
   "pygments_lexer": "ipython3",
   "version": "3.6.0"
  }
 },
 "nbformat": 4,
 "nbformat_minor": 2
}
