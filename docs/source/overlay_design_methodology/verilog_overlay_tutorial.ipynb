{
 "cells": [
  {
   "cell_type": "markdown",
   "metadata": {},
   "source": [
    "# Verilog Overlay Tutorial\n",
    "\n",
    "This is a tutorial targeted at Verilog and Python users who wish to use Zynq 7000 to do Verilog FPGA development and interface their Verilog in the PL to the PS system.\n",
    "\n",
    "This tutorial will use Verilog to develop a Simple Logic Module. Code and notes are available at <a href=http://github.com/rogerpease/PYNQPublicRepository/SimpleLogicModule>http://github.com/rogerpease/PYNQPublicRepository/SimpleLogicModule</A>\n",
    "\n",
    "This tutorial was developed and tested with Viviado 2019.1 and a <A HREF=../getting_started/pynq_z2_setup.html>PYNQ-Z2</A> board. "
   ]
  },
  {
   "cell_type": "markdown",
   "metadata": {},
   "source": [
    "## Design Steps and decisions\n",
    "\n",
    "This tutorial will follow these design steps:\n",
    "\n",
    "1. Develop Base IP for the PL. The PL will be interfaced to the PS through memory mapping.    \n",
    "2. Instance the IP in an AXI IP Wrapper. The AXI IP makes your design memory map accessible by the CPU. \n",
    "3. Instance the AXI-wrapped IP in an FPGA level project. These will be used to build the bitstream and hwh files."
   ]
  },
  {
   "cell_type": "markdown",
   "metadata": {},
   "source": [
    "## Developing Base IP\n",
    "\n",
    "For this first example a simple combinational logic module is used. There is a peripheral-level clock and reset available or the Clocking Wizard may be used to provide faster or slower clocks a peripheral if clocking is desired. \n",
    "\n",
    "```\n",
    "   module SimpleLogicModule (\n",
    "      input [31:0] a,\n",
    "      input [31:0] b,\n",
    "      output [31:0] sum,\n",
    "      output [31:0] difference,\n",
    "      output [31:0] bitwiseAnd,\n",
    "      output [31:0] bitwiseOr,\n",
    "      output [31:0] bitwiseXor,\n",
    "      output [31:0] bitwiseXNor\n",
    "      );\n",
    "      \n",
    "     assign sum = a+b;\n",
    "     assign difference = a-b;\n",
    "     assign bitwiseAnd = a & b;\n",
    "     assign bitwiseOr  = a | b;\n",
    "     assign bitwiseXor  = a ^  b;\n",
    "     assign bitwiseXNor = a ~^ b;\n",
    "   endmodule\n",
    "```\n",
    "\n"
   ]
  },
  {
   "cell_type": "markdown",
   "metadata": {},
   "source": [
    "## Instancing your IP inside an AXI Peripheral\n",
    "\n",
    "### Develop your IO Port to Memory Map\n",
    "\n",
    "IO Ports used to supply or receive data must be mapped to register offsets. A peripheral clock and reset are available but not used in this tutorial. \n",
    "\n",
    "| IO Port | Register Offset | Register Name |\n",
    "| :- | :- | :- |\n",
    "|   a   | 0x00           | slv_reg0      |\n",
    "|   b   | 0x04           | slv_reg1      |\n",
    "| sum   | 0x08           | slv_reg2      |\n",
    "| difference | 0x0C      | slv_reg3      |\n",
    "| and   | 0x10           | slv_reg4      |\n",
    "| or    | 0x14           | slv_reg5      |\n",
    "| xor   | 0x18           | slv_reg6      |\n",
    "| xnor  | 0x1C           | slv_reg7      |\n",
    "\n",
    "\n",
    "### Building AXI IP\n",
    "\n",
    "Now a AXI4 IP wrapper must be developed around the IP we are instancing. \n",
    "\n",
    "* Create a new project called \"SimpleLogicModuleAXIIP\". \n",
    "* Select \"Tools\"->\"Create and Package New IP\". \n",
    "* Select \"Create a new AXI4 Peripheral\" and fill in naming information.\n",
    "    - Name: SimpleLogicModuleAXIIP\n",
    "    - Version: 1.0 \n",
    "    - Use default Display Name\n",
    "    - Description and IP location are user's choice but note the location of the ip_repo as it will be necessary for the next step. \n",
    "* Click \"Next\" and the tool will ask to configure the AXI interface. \n",
    "    - Interface type: Lite\n",
    "    - Interface mode: Slave \n",
    "    - Data Width: 32 bits\n",
    "    - Number of registers: 8 \n",
    "* Click \"Next\" and select \"Edit IP\". Click \"Finish\".\n",
    "\n",
    "\n",
    "### Instancing your IP\n",
    "\n",
    "The tool will generate a skeleton AXI4 peripheral which can be updated to suit the needs of peripheral. \n",
    "\n",
    "![AXI4 Generated Peripheral Module Wrapper](../images/axi4_module_design_source.png) \n"
   ]
  },
  {
   "cell_type": "markdown",
   "metadata": {},
   "source": [
    "#### Updating the AXI IP\n",
    "\n",
    "In the SimpleLogicModuleAXIIP_v1_0_S00_AXI_inst file, at the bottom, add the SimpleLogicModule instance in between the User Logic lines along with wires for any outputs (the inputs you can pull directly from slv_reg0/1.\n",
    "\n",
    "```Verilog\n",
    "    // Add user logic here\n",
    "    wire [31:0] sum;\n",
    "    wire [31:0] difference;\n",
    "    wire [31:0] bitwiseAnd;\n",
    "    wire [31:0] bitwiseOr;\n",
    "    wire [31:0] bitwiseXor;\n",
    "    wire [31:0] bitwiseXNor;\n",
    "    \n",
    "    SimpleLogicModule SimpleLogicModule_inst(\n",
    "     .a(slv_reg0),\n",
    "     .b(slv_reg1),\n",
    "     .sum(sum),\n",
    "     .difference(difference),\n",
    "     .bitwiseAnd(bitwiseAnd),\n",
    "     .bitwiseOr(bitwiseOr),\n",
    "     .bitwiseXor(bitwiseXor),\n",
    "     .bitwiseXNor(bitwiseXNor)\n",
    "    );\n",
    "   // User logic ends \n",
    "```\n",
    "\n",
    "Also update the register write logic... It will be an always block with a case statement which handles the slv_reg0..7 registers. The cases for slv_reg_wren enabled writing slv_reg2..7 should be removed and replaced with writes every cycle as shown: \n",
    "\n",
    "![AXI4 Peripheral Edit Write Side](../images/axi4_peripheral_edit_write_side.png)"
   ]
  },
  {
   "cell_type": "markdown",
   "metadata": {},
   "source": [
    "### Package your AXI IP\n",
    "\n",
    "Once these steps are complete:\n",
    "\n",
    "* Do a basic simulation compile to make sure you have no syntax errors.\n",
    "* Go back to the \"Package IP\" tab in the editor window.\n",
    "* Click on \"File Groups\" and make sure the source code for your IP is included.\n",
    "* Make sure all the categories are updated (all checkboxes should be green) and click \"Review and Package\".\n",
    "* Click \"Re-Package IP\"\n",
    "\n",
    "![AXI Packager Step](../images/axi4_package_ip_simple_logic_module.png)\n"
   ]
  },
  {
   "cell_type": "markdown",
   "metadata": {},
   "source": [
    "### Instantiating the new AXI IP in an FPGA\n",
    "\n",
    "Now start the build of the FPGA overlay: \n",
    "\n",
    "* Start a new project named \"SimpleLogicModuleFPGAProject\"... create it as an RTL project and don't include any IP.  \n",
    "* Create a new Block Design called \"SimpleLogicModuleFPGADesign\".\n",
    "* Select \"Project Manager\"->\"Settings\" and add the ip_repo from the prior step. \n",
    "\n",
    "Now instance two items using the + button:\n",
    "\n",
    "* The \"SimpleLogicModuleAXIIP\" (if it can't be found make sure the proper ip_repo was added). \n",
    "* The Zynq 7000 Instance.\n",
    "   \n",
    "The diagram window should look like this: \n",
    "\n",
    "![Zynq and Simple Logic Module](../images/zynq_and_simple_logic_module.png)\n",
    "\n",
    "Click on both \"Run Block Automation\" and \"Run Connection Automation\". \n",
    "\n",
    "Select the top level Design file and click Flow->Create Design Wrapper (the compiler needs to compile RTL, not board files). Then select \"Generate Bitstream\" to generate a bitstream (the tool will need to go through synthesis and placement steps first). \n"
   ]
  },
  {
   "cell_type": "markdown",
   "metadata": {},
   "source": [
    "## Running the IP on the TUL board\n",
    "\n",
    "### Collect Bit and HWH Files\n",
    "\n",
    "Once the FPGA Image is built, collect the following:\n",
    "\n",
    "* Locate the .hwh file (it will be named after the project-- such as SimpleLogicModuleFPGAProject.hwh). Copy it to the PYNQ board as /home/xilinx/pynq/overlays/SimpleLogicModule/SimpleLogicModule.hwh. \n",
    "* Locate the .bit file (it will be named after the wrapper-- such as SimpleLogicModule_wrapper.bit). Copy it to the PYNQ board as /home/xilinx/pynq/overlays/SimpleLogicModule/SimpleLogicModule.bit. \n",
    "\n",
    "\n",
    "### Test in Python\n",
    "\n",
    "Once that is done, start python3 and execute:\n",
    "\n",
    "```Python\n",
    "    from pynq import Overlay\n",
    "    overlay = Overlay('SimpleLogicModule.bit');\n",
    "    # Make sure this is in    pynq/overlays/SimpleLogicModule/SimpleLogicModule.bit\n",
    "    # and the hwh file is in  pynq/overlays/SimpleLogicModule/SimpleLogicModule.hwh\n",
    "    \n",
    "    a=890\n",
    "    b=743\n",
    "    overlay.SimpleLogicModuleAXI_0.write(0x00,a)\n",
    "    overlay.SimpleLogicModuleAXI_0.write(0x04,b)\n",
    "    print (\" a +    b Expected \" + str(a+b)    + \" Actual \" + str(overlay.SimpleLogicModuleAXI_0.read(0x08)))\n",
    "    print (\" a -    b Expected \" + str(a-b)    + \" Actual \" + str(overlay.SimpleLogicModuleAXI_0.read(0x0c)))\n",
    "    print (\" a and  b Expected \" + str(a&b)    + \" Actual \" + str(overlay.SimpleLogicModuleAXI_0.read(0x10)))\n",
    "    print (\" a or   b Expected \" + str(a|b)    + \" Actual \" + str(overlay.SimpleLogicModuleAXI_0.read(0x14)))\n",
    "    print (\" a xor  b Expected \" + str(a^b)    + \" Actual \" + str(overlay.SimpleLogicModuleAXI_0.read(0x18)))\n",
    "    print (\" a xnor b Expected \" + str((2**32) + ~(a^b)) \n",
    "                                               + \" Actual \" + str(overlay.SimpleLogicModuleAXI_0.read(0x1C)))\n",
    "```"
   ]
  },
  {
   "cell_type": "markdown",
   "metadata": {},
   "source": [
    "## GOTCHAS\n",
    "\n",
    "* Be sure IP of all source files (including your module) is exported when you do AXI peripheral packaging. See: https://forums.xilinx.com/t5/Design-Entry/Can-t-get-custom-IP-with-FIFO-to-synthesize-in-the-top-level/m-p/564966 Otherwise the FPGA Implementation step will not be able to find the proper IP.\n",
    "* Be sure to make a design wrapper HDL out of the top level. Use \"Create Design Wrapper\" by right-clicking on the top level of the FPGAImplementation. The bitstream program can''t make a file out of board descriptions- it needs the HDLs.\n",
    "* Don't put slv_reg2-7 assignments into the case statement for the AXI write. You will end up needing to initiate a ghost write cycle to those addresses to make the write happen.\n",
    "* If you receive compile errors, check the Library Path in the Source File Properties. If it is blank it should  be set to xil_defaultlib. "
   ]
  },
  {
   "cell_type": "markdown",
   "metadata": {},
   "source": [
    "## References\n",
    "\n",
    "1. https://www.xilinx.com/video/hardware/creating-an-axi-peripheral-in-vivado.html  This video walks you through the basics of creating an AXI peripheral.\n",
    "2. https://www.xilinx.com/support/documentation/ip_documentation/axi_ref_guide/latest/ug1037-vivado-axi-reference-guide.pdf"
   ]
  }
 ],
 "metadata": {
  "anaconda-cloud": {},
  "kernelspec": {
   "display_name": "Python 3",
   "language": "python",
   "name": "python3"
  },
  "language_info": {
   "codemirror_mode": {
    "name": "ipython",
    "version": 3
   },
   "file_extension": ".py",
   "mimetype": "text/x-python",
   "name": "python",
   "nbconvert_exporter": "python",
   "pygments_lexer": "ipython3",
   "version": "3.6.9"
  }
 },
 "nbformat": 4,
 "nbformat_minor": 2
}
