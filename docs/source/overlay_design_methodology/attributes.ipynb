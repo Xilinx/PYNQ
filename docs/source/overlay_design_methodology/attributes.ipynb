{
 "cells": [
  {
   "cell_type": "markdown",
   "metadata": {},
   "source": [
    "# Attribute Overlay Tutorial\n",
    "\n",
    "This notebook gives an overview of what the attribute overlay is, why it exists and how to use it efficiently.\n",
    "\n",
    "The attribute overlay has three main design goals\n",
    " * Allow overlay users to find out what is inside an overlay in a consistent manner\n",
    " * Provide a simple way for developers of new hardware designs to test new IP\n",
    " * Facilitate reuse of IP between Overlays\n",
    " \n",
    "This tutorial is primarily designed to demonstrate the final two points, walking through the process of interacting with a new IP, developing a driver, and finally building a more complex system from multiple IP blocks"
   ]
  },
  {
   "cell_type": "markdown",
   "metadata": {},
   "source": [
    "## Developing a Single IP\n",
    "\n",
    "For this first example we are going to use a simple design with a single IP contained in it. This IP was developed using HLS and adds two 32-bit integers together. The full code for the accelerator is:\n",
    "\n",
    "```C++\n",
    "void add(int a, int b, int& c) {\n",
    "#pragma HLS INTERFACE ap_ctrl_none port=return\n",
    "#pragma HLS INTERFACE s_axilite port=a\n",
    "#pragma HLS INTERFACE s_axilite port=b\n",
    "#pragma HLS INTERFACE s_axilite port=c\n",
    "\n",
    "\tc = a + b;\n",
    "}\n",
    "```\n",
    "\n",
    "With a block diagram consisting solely of the HLS IP and required glue logic to connect it to the ZYNQ7 IP\n",
    "\n",
    "![Simple Block Diagram](../images/attribute1.png)\n",
    "\n",
    "To interact with the IP first we need to load the overlay containing the IP."
   ]
  },
  {
   "cell_type": "code",
   "execution_count": 1,
   "metadata": {
    "collapsed": true
   },
   "outputs": [],
   "source": [
    "from pynq import Overlay\n",
    "\n",
    "overlay = Overlay('/home/xilinx/attribute_test1.bit')"
   ]
  },
  {
   "cell_type": "markdown",
   "metadata": {},
   "source": [
    "Creating the overlay will automatically download it. We can now use `help` to find out what is in the overlay."
   ]
  },
  {
   "cell_type": "code",
   "execution_count": 2,
   "metadata": {
    "collapsed": false,
    "scrolled": true
   },
   "outputs": [
    {
     "name": "stdout",
     "output_type": "stream",
     "text": [
      "Help on DocumentedOverlay in module pynq.overlay object:\n",
      "\n",
      "class DocumentedOverlay(DefaultOverlay)\n",
      " |  Default documentation for overlay /home/xilinx/attribute_test1.bit. The following\n",
      " |  attributes are available on this overlay:\n",
      " |  \n",
      " |  IP Blocks\n",
      " |  ----------\n",
      " |  scalar_add           : pynq.overlay.DefaultIP\n",
      " |  \n",
      " |  Hierarchies\n",
      " |  -----------\n",
      " |  None\n",
      " |  \n",
      " |  Interrupts\n",
      " |  ----------\n",
      " |  None\n",
      " |  \n",
      " |  GPIO Outputs\n",
      " |  ------------\n",
      " |  None\n",
      " |  \n",
      " |  Method resolution order:\n",
      " |      DocumentedOverlay\n",
      " |      DefaultOverlay\n",
      " |      pynq.pl.PL\n",
      " |      builtins.object\n",
      " |  \n",
      " |  Methods defined here:\n",
      " |  \n",
      " |  __init__(self)\n",
      " |  \n",
      " |  ----------------------------------------------------------------------\n",
      " |  Methods inherited from DefaultOverlay:\n",
      " |  \n",
      " |  __dir__(self)\n",
      " |      __dir__() -> list\n",
      " |      default dir() implementation\n",
      " |  \n",
      " |  __getattr__(self, key)\n",
      " |      Overload of __getattr__ to return a driver for an IP or\n",
      " |      hierarchy. Throws an `RuntimeError` if the overlay is not loaded.\n",
      " |  \n",
      " |  download(self)\n",
      " |      The method to download a bitstream onto PL.\n",
      " |      \n",
      " |      Note\n",
      " |      ----\n",
      " |      After the bitstream has been downloaded, the \"timestamp\" in PL will be\n",
      " |      updated. In addition, all the dictionaries on PL will\n",
      " |      be reset automatically.\n",
      " |      \n",
      " |      Returns\n",
      " |      -------\n",
      " |      None\n",
      " |  \n",
      " |  is_loaded(self)\n",
      " |      This method checks whether a bitstream is loaded.\n",
      " |      \n",
      " |      This method returns true if the loaded PL bitstream is same\n",
      " |      as this Overlay's member bitstream.\n",
      " |      \n",
      " |      Returns\n",
      " |      -------\n",
      " |      bool\n",
      " |          True if bitstream is loaded.\n",
      " |  \n",
      " |  load_ip_data(self, ip_name, data)\n",
      " |      This method loads the data to the addressable IP.\n",
      " |      \n",
      " |      Calls the method in the super class to load the data. This method can\n",
      " |      be used to program the IP. For example, users can use this method to\n",
      " |      load the program to the Microblaze processors on PL.\n",
      " |      \n",
      " |      Note\n",
      " |      ----\n",
      " |      The data is assumed to be in binary format (.bin). The data name will\n",
      " |      be stored as a state information in the IP dictionary.\n",
      " |      \n",
      " |      Parameters\n",
      " |      ----------\n",
      " |      ip_name : str\n",
      " |          The name of the addressable IP.\n",
      " |      data : str\n",
      " |          The absolute path of the data to be loaded.\n",
      " |      \n",
      " |      Returns\n",
      " |      -------\n",
      " |      None\n",
      " |  \n",
      " |  reset(self)\n",
      " |      This function resets all the dictionaries kept in the overlay.\n",
      " |      \n",
      " |      This function should be used with caution.\n",
      " |      \n",
      " |      Returns\n",
      " |      -------\n",
      " |      None\n",
      " |  \n",
      " |  ----------------------------------------------------------------------\n",
      " |  Data descriptors inherited from pynq.pl.PL:\n",
      " |  \n",
      " |  __dict__\n",
      " |      dictionary for instance variables (if defined)\n",
      " |  \n",
      " |  __weakref__\n",
      " |      list of weak references to the object (if defined)\n",
      "\n"
     ]
    }
   ],
   "source": [
    "help(overlay)"
   ]
  },
  {
   "cell_type": "markdown",
   "metadata": {},
   "source": [
    "All of the entries are accessible via attributes on the overlay class with the specified driver. Accessing the `scalar_add` attribute of the will create a driver for the IP - as there is no driver currently known for the `Add` IP core `DefaultIP` driver will be used so we can interact with IP core."
   ]
  },
  {
   "cell_type": "code",
   "execution_count": 3,
   "metadata": {
    "collapsed": false,
    "scrolled": true
   },
   "outputs": [
    {
     "name": "stdout",
     "output_type": "stream",
     "text": [
      "Help on DefaultIP in module pynq.overlay object:\n",
      "\n",
      "class DefaultIP(builtins.object)\n",
      " |  Driver for an IP without a more specific driver\n",
      " |  \n",
      " |  This driver wraps an MMIO device and provides a base class\n",
      " |  for more specific drivers written later. It also provides\n",
      " |  access to GPIO outputs and interrupts inputs via attributes. More specific\n",
      " |  drivers should inherit from `DefaultIP` and include a\n",
      " |  `bindto` entry containing all of the IP that the driver\n",
      " |  should bind to. Subclasses meeting these requirements will\n",
      " |  automatically be registered.\n",
      " |  \n",
      " |  Attributes\n",
      " |  ----------\n",
      " |  mmio : pynq.MMIO\n",
      " |      Underlying MMIO driver for the device\n",
      " |  _interrupts : dict\n",
      " |      Subset of the PL.interrupt_pins related to this IP\n",
      " |  _gpio : dict\n",
      " |      Subset of the PL.gpio_dict related to this IP\n",
      " |  \n",
      " |  Methods defined here:\n",
      " |  \n",
      " |  __init__(self, description)\n",
      " |      Initialize self.  See help(type(self)) for accurate signature.\n",
      " |  \n",
      " |  read(self, offset=0)\n",
      " |      Read from the MMIO device\n",
      " |      \n",
      " |      Parameters\n",
      " |      ----------\n",
      " |      offset : int\n",
      " |          Address to read\n",
      " |  \n",
      " |  write(self, offset, value)\n",
      " |      Write to the MMIO device\n",
      " |      \n",
      " |      Parameters\n",
      " |      offset : int\n",
      " |          Address to write to\n",
      " |      value : int or bytes\n",
      " |          Data to write\n",
      " |  \n",
      " |  ----------------------------------------------------------------------\n",
      " |  Data descriptors defined here:\n",
      " |  \n",
      " |  __dict__\n",
      " |      dictionary for instance variables (if defined)\n",
      " |  \n",
      " |  __weakref__\n",
      " |      list of weak references to the object (if defined)\n",
      "\n"
     ]
    }
   ],
   "source": [
    "add_ip = overlay.scalar_add\n",
    "help(add_ip)"
   ]
  },
  {
   "cell_type": "markdown",
   "metadata": {},
   "source": [
    "Reading the documentation generated by HLS tells us that use the core we need to write the two arguments to offset `0x10` and `0x18` and read the result back from `0x20`."
   ]
  },
  {
   "cell_type": "code",
   "execution_count": 4,
   "metadata": {
    "collapsed": false
   },
   "outputs": [
    {
     "data": {
      "text/plain": [
       "9"
      ]
     },
     "execution_count": 4,
     "metadata": {},
     "output_type": "execute_result"
    }
   ],
   "source": [
    "add_ip.write(0x10, 4)\n",
    "add_ip.write(0x18, 5)\n",
    "add_ip.read(0x20)"
   ]
  },
  {
   "cell_type": "markdown",
   "metadata": {},
   "source": [
    "## Creating a Driver\n",
    "\n",
    "While the `UnknownIP` driver is useful for determining that the IP is working it is not the most user-friendly API to expose to the eventual end-users of the overlay. Ideally we want to create an IP-specific driver exposing a single `add` function to call the accelerator. The only requirements for a driver is that it can be constructed with a single argument called `description` which is the entry in the `PL.ip_dict` for the IP. It is also recommend that the custom driver inherit from `UnknownIP` so that the experience for the user is consistent. Inheriting also allows us to use the `read` and `write` functions as in our standalone code."
   ]
  },
  {
   "cell_type": "code",
   "execution_count": 5,
   "metadata": {
    "collapsed": false
   },
   "outputs": [
    {
     "data": {
      "text/plain": [
       "30"
      ]
     },
     "execution_count": 5,
     "metadata": {},
     "output_type": "execute_result"
    }
   ],
   "source": [
    "from pynq import DefaultIP\n",
    "\n",
    "class AddDriver(DefaultIP):\n",
    "    def __init__(self, description):\n",
    "        super().__init__(description=description)\n",
    "    \n",
    "    bindto = ['xilinx.com:hls:add:1.0']\n",
    "    \n",
    "    def add(self, a, b):\n",
    "        self.write(0x10, a)\n",
    "        self.write(0x18, b)\n",
    "        return self.read(0x20)\n",
    "    \n",
    "add_ip = AddDriver(overlay.ip_dict['scalar_add'])\n",
    "add_ip.add(10,20)"
   ]
  },
  {
   "cell_type": "markdown",
   "metadata": {},
   "source": [
    "While this driver works and can be instantiated manually it would be preferable for it to be created automatically when a user interacts with the IP. For that there is a `register_type` function which allows to associate a driver with an IP class. The IP class for the scalar add IP is `xilinx.com:hls:add:1.0` so lets register the driver."
   ]
  },
  {
   "cell_type": "markdown",
   "metadata": {},
   "source": [
    "Now if we reload the overlay and query the help again we can see that our new driver is bound to the IP."
   ]
  },
  {
   "cell_type": "code",
   "execution_count": 6,
   "metadata": {
    "collapsed": false
   },
   "outputs": [
    {
     "name": "stdout",
     "output_type": "stream",
     "text": [
      "Help on DocumentedOverlay in module pynq.overlay object:\n",
      "\n",
      "class DocumentedOverlay(DefaultOverlay)\n",
      " |  Default documentation for overlay /home/xilinx/attribute_test1.bit. The following\n",
      " |  attributes are available on this overlay:\n",
      " |  \n",
      " |  IP Blocks\n",
      " |  ----------\n",
      " |  scalar_add           : __main__.AddDriver\n",
      " |  \n",
      " |  Hierarchies\n",
      " |  -----------\n",
      " |  None\n",
      " |  \n",
      " |  Interrupts\n",
      " |  ----------\n",
      " |  None\n",
      " |  \n",
      " |  GPIO Outputs\n",
      " |  ------------\n",
      " |  None\n",
      " |  \n",
      " |  Method resolution order:\n",
      " |      DocumentedOverlay\n",
      " |      DefaultOverlay\n",
      " |      pynq.pl.PL\n",
      " |      builtins.object\n",
      " |  \n",
      " |  Methods defined here:\n",
      " |  \n",
      " |  __init__(self)\n",
      " |  \n",
      " |  ----------------------------------------------------------------------\n",
      " |  Methods inherited from DefaultOverlay:\n",
      " |  \n",
      " |  __dir__(self)\n",
      " |      __dir__() -> list\n",
      " |      default dir() implementation\n",
      " |  \n",
      " |  __getattr__(self, key)\n",
      " |      Overload of __getattr__ to return a driver for an IP or\n",
      " |      hierarchy. Throws an `RuntimeError` if the overlay is not loaded.\n",
      " |  \n",
      " |  download(self)\n",
      " |      The method to download a bitstream onto PL.\n",
      " |      \n",
      " |      Note\n",
      " |      ----\n",
      " |      After the bitstream has been downloaded, the \"timestamp\" in PL will be\n",
      " |      updated. In addition, all the dictionaries on PL will\n",
      " |      be reset automatically.\n",
      " |      \n",
      " |      Returns\n",
      " |      -------\n",
      " |      None\n",
      " |  \n",
      " |  is_loaded(self)\n",
      " |      This method checks whether a bitstream is loaded.\n",
      " |      \n",
      " |      This method returns true if the loaded PL bitstream is same\n",
      " |      as this Overlay's member bitstream.\n",
      " |      \n",
      " |      Returns\n",
      " |      -------\n",
      " |      bool\n",
      " |          True if bitstream is loaded.\n",
      " |  \n",
      " |  load_ip_data(self, ip_name, data)\n",
      " |      This method loads the data to the addressable IP.\n",
      " |      \n",
      " |      Calls the method in the super class to load the data. This method can\n",
      " |      be used to program the IP. For example, users can use this method to\n",
      " |      load the program to the Microblaze processors on PL.\n",
      " |      \n",
      " |      Note\n",
      " |      ----\n",
      " |      The data is assumed to be in binary format (.bin). The data name will\n",
      " |      be stored as a state information in the IP dictionary.\n",
      " |      \n",
      " |      Parameters\n",
      " |      ----------\n",
      " |      ip_name : str\n",
      " |          The name of the addressable IP.\n",
      " |      data : str\n",
      " |          The absolute path of the data to be loaded.\n",
      " |      \n",
      " |      Returns\n",
      " |      -------\n",
      " |      None\n",
      " |  \n",
      " |  reset(self)\n",
      " |      This function resets all the dictionaries kept in the overlay.\n",
      " |      \n",
      " |      This function should be used with caution.\n",
      " |      \n",
      " |      Returns\n",
      " |      -------\n",
      " |      None\n",
      " |  \n",
      " |  ----------------------------------------------------------------------\n",
      " |  Data descriptors inherited from pynq.pl.PL:\n",
      " |  \n",
      " |  __dict__\n",
      " |      dictionary for instance variables (if defined)\n",
      " |  \n",
      " |  __weakref__\n",
      " |      list of weak references to the object (if defined)\n",
      "\n"
     ]
    }
   ],
   "source": [
    "overlay = Overlay('/home/xilinx/attribute_test1.bit')\n",
    "help(overlay)"
   ]
  },
  {
   "cell_type": "markdown",
   "metadata": {},
   "source": [
    "And we can access the same way as before"
   ]
  },
  {
   "cell_type": "code",
   "execution_count": 7,
   "metadata": {
    "collapsed": false
   },
   "outputs": [
    {
     "data": {
      "text/plain": [
       "35"
      ]
     },
     "execution_count": 7,
     "metadata": {},
     "output_type": "execute_result"
    }
   ],
   "source": [
    "overlay.scalar_add.add(15,20)"
   ]
  },
  {
   "cell_type": "markdown",
   "metadata": {},
   "source": [
    "## Reusing IP\n",
    "\n",
    "Suppose we or someone else develops a new overlay and wants to reuse the existing IP. As long as they import the python file contain the `register_type` command all of the drivers will be automatically created. As an example consider the next design which, among other things includes a renamed version of the `scalar_add` IP.\n",
    "\n",
    "![Second Block Diagram](../images/attribute2.png)\n",
    "\n",
    "Running `help` on the new overlay shows that the driver is still bound."
   ]
  },
  {
   "cell_type": "code",
   "execution_count": 8,
   "metadata": {
    "collapsed": false
   },
   "outputs": [
    {
     "name": "stdout",
     "output_type": "stream",
     "text": [
      "Help on DocumentedOverlay in module pynq.overlay object:\n",
      "\n",
      "class DocumentedOverlay(DefaultOverlay)\n",
      " |  Default documentation for overlay /home/xilinx/attribute_test2.bit. The following\n",
      " |  attributes are available on this overlay:\n",
      " |  \n",
      " |  IP Blocks\n",
      " |  ----------\n",
      " |  old_add              : __main__.AddDriver\n",
      " |  \n",
      " |  Hierarchies\n",
      " |  -----------\n",
      " |  const_multiply       : pynq.overlay.DefaultHierarchy\n",
      " |  \n",
      " |  Interrupts\n",
      " |  ----------\n",
      " |  None\n",
      " |  \n",
      " |  GPIO Outputs\n",
      " |  ------------\n",
      " |  None\n",
      " |  \n",
      " |  Method resolution order:\n",
      " |      DocumentedOverlay\n",
      " |      DefaultOverlay\n",
      " |      pynq.pl.PL\n",
      " |      builtins.object\n",
      " |  \n",
      " |  Methods defined here:\n",
      " |  \n",
      " |  __init__(self)\n",
      " |  \n",
      " |  ----------------------------------------------------------------------\n",
      " |  Methods inherited from DefaultOverlay:\n",
      " |  \n",
      " |  __dir__(self)\n",
      " |      __dir__() -> list\n",
      " |      default dir() implementation\n",
      " |  \n",
      " |  __getattr__(self, key)\n",
      " |      Overload of __getattr__ to return a driver for an IP or\n",
      " |      hierarchy. Throws an `RuntimeError` if the overlay is not loaded.\n",
      " |  \n",
      " |  download(self)\n",
      " |      The method to download a bitstream onto PL.\n",
      " |      \n",
      " |      Note\n",
      " |      ----\n",
      " |      After the bitstream has been downloaded, the \"timestamp\" in PL will be\n",
      " |      updated. In addition, all the dictionaries on PL will\n",
      " |      be reset automatically.\n",
      " |      \n",
      " |      Returns\n",
      " |      -------\n",
      " |      None\n",
      " |  \n",
      " |  is_loaded(self)\n",
      " |      This method checks whether a bitstream is loaded.\n",
      " |      \n",
      " |      This method returns true if the loaded PL bitstream is same\n",
      " |      as this Overlay's member bitstream.\n",
      " |      \n",
      " |      Returns\n",
      " |      -------\n",
      " |      bool\n",
      " |          True if bitstream is loaded.\n",
      " |  \n",
      " |  load_ip_data(self, ip_name, data)\n",
      " |      This method loads the data to the addressable IP.\n",
      " |      \n",
      " |      Calls the method in the super class to load the data. This method can\n",
      " |      be used to program the IP. For example, users can use this method to\n",
      " |      load the program to the Microblaze processors on PL.\n",
      " |      \n",
      " |      Note\n",
      " |      ----\n",
      " |      The data is assumed to be in binary format (.bin). The data name will\n",
      " |      be stored as a state information in the IP dictionary.\n",
      " |      \n",
      " |      Parameters\n",
      " |      ----------\n",
      " |      ip_name : str\n",
      " |          The name of the addressable IP.\n",
      " |      data : str\n",
      " |          The absolute path of the data to be loaded.\n",
      " |      \n",
      " |      Returns\n",
      " |      -------\n",
      " |      None\n",
      " |  \n",
      " |  reset(self)\n",
      " |      This function resets all the dictionaries kept in the overlay.\n",
      " |      \n",
      " |      This function should be used with caution.\n",
      " |      \n",
      " |      Returns\n",
      " |      -------\n",
      " |      None\n",
      " |  \n",
      " |  ----------------------------------------------------------------------\n",
      " |  Data descriptors inherited from pynq.pl.PL:\n",
      " |  \n",
      " |  __dict__\n",
      " |      dictionary for instance variables (if defined)\n",
      " |  \n",
      " |  __weakref__\n",
      " |      list of weak references to the object (if defined)\n",
      "\n"
     ]
    }
   ],
   "source": [
    "overlay = Overlay('/home/xilinx/attribute_test2.bit')\n",
    "help(overlay)"
   ]
  },
  {
   "cell_type": "markdown",
   "metadata": {},
   "source": [
    "## IP Hierarchies\n",
    "\n",
    "The block diagram above also contains a hierarchy looking like this:\n",
    "\n",
    "![Hierarchy](../images/hierarchy.png)\n",
    "\n",
    "Containing a custom IP for multiple a stream of numbers by a constant and a DMA engine for transferring the data. As streams are involved and we need correctly handle `TLAST` for the DMA engine the HLS code is a little more complex with additional pragmas and types but the complete code is still relatively short.\n",
    "\n",
    "```C\n",
    "typedef ap_axiu<32,1,1,1> stream_type;\n",
    "\n",
    "void mult_constant(stream_type* in_data, stream_type* out_data, ap_int<32> constant) {\n",
    "#pragma HLS INTERFACE s_axilite register port=constant\n",
    "#pragma HLS INTERFACE ap_ctrl_none port=return\n",
    "#pragma HLS INTERFACE axis port=in_data\n",
    "#pragma HLS INTERFACE axis port=out_data\n",
    "\tout_data->data = in_data->data * constant;\n",
    "\tout_data->dest = in_data->dest;\n",
    "\tout_data->id = in_data->id;\n",
    "\tout_data->keep = in_data->keep;\n",
    "\tout_data->last = in_data->last;\n",
    "\tout_data->strb = in_data->strb;\n",
    "\tout_data->user = in_data->user;\n",
    "\n",
    "}\n",
    "```\n",
    "\n",
    "Looking at the HLS generated documentation we again discover that to set the constant we need to set the register at offset `0x10` so we can write a simple driver for this purpose"
   ]
  },
  {
   "cell_type": "code",
   "execution_count": 9,
   "metadata": {
    "collapsed": true
   },
   "outputs": [],
   "source": [
    "class ConstantMultiplyDriver(DefaultIP):\n",
    "    def __init__(self, description):\n",
    "        super().__init__(description=description)\n",
    "    \n",
    "    bindto = ['Xilinx:hls:mult_constant:1.0']\n",
    "    \n",
    "    @property\n",
    "    def constant(self):\n",
    "        return self.read(0x10)\n",
    "    \n",
    "    @constant.setter\n",
    "    def constant(self, value):\n",
    "        self.write(0x10, value)"
   ]
  },
  {
   "cell_type": "markdown",
   "metadata": {},
   "source": [
    "The DMA engine driver is already included inside the PYNQ driver so nothing special is needed for that other than ensuring the module is imported. Reloading the overlay will make sure that our newly written driver is available for use."
   ]
  },
  {
   "cell_type": "code",
   "execution_count": 10,
   "metadata": {
    "collapsed": true
   },
   "outputs": [],
   "source": [
    "import pynq.lib.dma\n",
    "\n",
    "overlay = Overlay('/home/xilinx/attribute_test2.bit')\n",
    "\n",
    "dma = overlay.const_multiply.multiply_dma\n",
    "multiply = overlay.const_multiply.multiply"
   ]
  },
  {
   "cell_type": "markdown",
   "metadata": {},
   "source": [
    "The DMA driver transfers numpy arrays allocated using the `xlnk` driver. Lets test the system by multiplying 5 numbers by 3."
   ]
  },
  {
   "cell_type": "code",
   "execution_count": 11,
   "metadata": {
    "collapsed": false
   },
   "outputs": [
    {
     "data": {
      "text/plain": [
       "CMABuffer([ 0,  3,  6,  9, 12], dtype=uint32)"
      ]
     },
     "execution_count": 11,
     "metadata": {},
     "output_type": "execute_result"
    }
   ],
   "source": [
    "from pynq import Xlnk\n",
    "import numpy as np\n",
    "\n",
    "xlnk = Xlnk()\n",
    "in_buffer = xlnk.cma_array(shape=(5,), dtype=np.uint32)\n",
    "out_buffer = xlnk.cma_array(shape=(5,), dtype=np.uint32)\n",
    "\n",
    "for i in range(5):\n",
    "    in_buffer[i] = i\n",
    "\n",
    "multiply.constant = 3\n",
    "dma.sendchannel.transfer(in_buffer)\n",
    "dma.recvchannel.transfer(out_buffer)\n",
    "dma.sendchannel.wait()\n",
    "dma.recvchannel.wait()\n",
    "\n",
    "out_buffer"
   ]
  },
  {
   "cell_type": "markdown",
   "metadata": {},
   "source": [
    "While this is one way to use the IP, it still isn't exactly user-friendly. It would be preferable to treat the entire hierarchy as a single entity and write a driver that hides the implementation details. The attribute overlay allows for drivers to be written against hierarchies as well as IP but the details are slightly different.\n",
    "\n",
    "The driver writer should provide a function which takes the hierarchy name and a subset of the `PL.ip_dict` containing the hierarchies IP and return either a class instance if the driver can be instantiated or `None` if not. It is recommended that hierarchy drivers inherit from the `Hierarchy` class as this provides easy access to the contained IP.\n",
    "\n",
    "For our constant multiply hierarchy this would look something like:"
   ]
  },
  {
   "cell_type": "code",
   "execution_count": 15,
   "metadata": {
    "collapsed": true
   },
   "outputs": [],
   "source": [
    "from pynq import DefaultHierarchy\n",
    "\n",
    "class StreamMultiplyDriver(DefaultHierarchy):\n",
    "    def __init__(self, description):\n",
    "        super().__init__(description)\n",
    "        \n",
    "    def stream_multiply(self, stream, constant):\n",
    "        self.multiply.constant = constant\n",
    "        with xlnk.cma_array(shape=(len(stream),), dtype=np.uint32) as in_buffer,\\\n",
    "             xlnk.cma_array(shape=(len(stream),), dtype=np.uint32) as out_buffer:\n",
    "            for i, v, in enumerate(stream):\n",
    "                in_buffer[i] = v\n",
    "            self.multiply_dma.sendchannel.transfer(in_buffer)\n",
    "            self.multiply_dma.recvchannel.transfer(out_buffer)\n",
    "            self.multiply_dma.sendchannel.wait()\n",
    "            self.multiply_dma.recvchannel.wait()\n",
    "            result = out_buffer.copy()\n",
    "        return result\n",
    "\n",
    "    @staticmethod\n",
    "    def checkhierarchy(description):\n",
    "        if 'multiply_dma' in description['ip'] and 'multiply' in description['ip']:\n",
    "            return True\n",
    "        return False"
   ]
  },
  {
   "cell_type": "markdown",
   "metadata": {},
   "source": [
    "We can now reload the overlay and ensure the higher-level driver is loaded"
   ]
  },
  {
   "cell_type": "code",
   "execution_count": 16,
   "metadata": {
    "collapsed": false
   },
   "outputs": [
    {
     "name": "stdout",
     "output_type": "stream",
     "text": [
      "Help on DocumentedOverlay in module pynq.overlay object:\n",
      "\n",
      "class DocumentedOverlay(DefaultOverlay)\n",
      " |  Default documentation for overlay /home/xilinx/attribute_test2.bit. The following\n",
      " |  attributes are available on this overlay:\n",
      " |  \n",
      " |  IP Blocks\n",
      " |  ----------\n",
      " |  old_add              : __main__.AddDriver\n",
      " |  \n",
      " |  Hierarchies\n",
      " |  -----------\n",
      " |  const_multiply       : __main__.StreamMultiplyDriver\n",
      " |  \n",
      " |  Interrupts\n",
      " |  ----------\n",
      " |  None\n",
      " |  \n",
      " |  GPIO Outputs\n",
      " |  ------------\n",
      " |  None\n",
      " |  \n",
      " |  Method resolution order:\n",
      " |      DocumentedOverlay\n",
      " |      DefaultOverlay\n",
      " |      pynq.pl.PL\n",
      " |      builtins.object\n",
      " |  \n",
      " |  Methods defined here:\n",
      " |  \n",
      " |  __init__(self)\n",
      " |  \n",
      " |  ----------------------------------------------------------------------\n",
      " |  Methods inherited from DefaultOverlay:\n",
      " |  \n",
      " |  __dir__(self)\n",
      " |      __dir__() -> list\n",
      " |      default dir() implementation\n",
      " |  \n",
      " |  __getattr__(self, key)\n",
      " |      Overload of __getattr__ to return a driver for an IP or\n",
      " |      hierarchy. Throws an `RuntimeError` if the overlay is not loaded.\n",
      " |  \n",
      " |  download(self)\n",
      " |      The method to download a bitstream onto PL.\n",
      " |      \n",
      " |      Note\n",
      " |      ----\n",
      " |      After the bitstream has been downloaded, the \"timestamp\" in PL will be\n",
      " |      updated. In addition, all the dictionaries on PL will\n",
      " |      be reset automatically.\n",
      " |      \n",
      " |      Returns\n",
      " |      -------\n",
      " |      None\n",
      " |  \n",
      " |  is_loaded(self)\n",
      " |      This method checks whether a bitstream is loaded.\n",
      " |      \n",
      " |      This method returns true if the loaded PL bitstream is same\n",
      " |      as this Overlay's member bitstream.\n",
      " |      \n",
      " |      Returns\n",
      " |      -------\n",
      " |      bool\n",
      " |          True if bitstream is loaded.\n",
      " |  \n",
      " |  load_ip_data(self, ip_name, data)\n",
      " |      This method loads the data to the addressable IP.\n",
      " |      \n",
      " |      Calls the method in the super class to load the data. This method can\n",
      " |      be used to program the IP. For example, users can use this method to\n",
      " |      load the program to the Microblaze processors on PL.\n",
      " |      \n",
      " |      Note\n",
      " |      ----\n",
      " |      The data is assumed to be in binary format (.bin). The data name will\n",
      " |      be stored as a state information in the IP dictionary.\n",
      " |      \n",
      " |      Parameters\n",
      " |      ----------\n",
      " |      ip_name : str\n",
      " |          The name of the addressable IP.\n",
      " |      data : str\n",
      " |          The absolute path of the data to be loaded.\n",
      " |      \n",
      " |      Returns\n",
      " |      -------\n",
      " |      None\n",
      " |  \n",
      " |  reset(self)\n",
      " |      This function resets all the dictionaries kept in the overlay.\n",
      " |      \n",
      " |      This function should be used with caution.\n",
      " |      \n",
      " |      Returns\n",
      " |      -------\n",
      " |      None\n",
      " |  \n",
      " |  ----------------------------------------------------------------------\n",
      " |  Data descriptors inherited from pynq.pl.PL:\n",
      " |  \n",
      " |  __dict__\n",
      " |      dictionary for instance variables (if defined)\n",
      " |  \n",
      " |  __weakref__\n",
      " |      list of weak references to the object (if defined)\n",
      "\n"
     ]
    }
   ],
   "source": [
    "overlay = Overlay('/home/xilinx/attribute_test2.bit')\n",
    "help(overlay)"
   ]
  },
  {
   "cell_type": "markdown",
   "metadata": {},
   "source": [
    "and use it"
   ]
  },
  {
   "cell_type": "code",
   "execution_count": 17,
   "metadata": {
    "collapsed": false
   },
   "outputs": [
    {
     "data": {
      "text/plain": [
       "CMABuffer([ 5, 10, 15, 20, 25], dtype=uint32)"
      ]
     },
     "execution_count": 17,
     "metadata": {},
     "output_type": "execute_result"
    }
   ],
   "source": [
    "overlay.const_multiply.stream_multiply([1,2,3,4,5], 5)"
   ]
  },
  {
   "cell_type": "markdown",
   "metadata": {},
   "source": [
    "## Overlay Customisation\n",
    "\n",
    "While the default attribute overlay is sufficient for many use cases, some overlays will require more customisation to provide a user-friendly API. As an example the default AXI GPIO drivers expose channels 1 and 2 as separate attributes meaning that accessing the LEDs in the base overlay requires the following contortion"
   ]
  },
  {
   "cell_type": "code",
   "execution_count": 18,
   "metadata": {
    "collapsed": false
   },
   "outputs": [
    {
     "ename": "SyntaxError",
     "evalue": "invalid syntax (audio.py, line 68)",
     "output_type": "error",
     "traceback": [
      "\u001b[0;36m  File \u001b[0;32m\"/opt/python3.6/lib/python3.6/site-packages/pynq/lib/audio.py\"\u001b[0;36m, line \u001b[0;32m68\u001b[0m\n\u001b[0;31m    def __init__(self, description, gpio_name=None)\u001b[0m\n\u001b[0m                                                   ^\u001b[0m\n\u001b[0;31mSyntaxError\u001b[0m\u001b[0;31m:\u001b[0m invalid syntax\n"
     ]
    }
   ],
   "source": [
    "base = Overlay('base.bit')\n",
    "base.swsleds_gpio.channel2[0].on()"
   ]
  },
  {
   "cell_type": "markdown",
   "metadata": {},
   "source": [
    "To mitigate this the overlay developer can provide a custom class for their overlay to expose the subsystems in a more user-friendly way.  The base overlay includes custom overlay class which performs the following functions:\n",
    " * Make the AXI GPIO devices better named and range/direction restricted\n",
    " * Make the IOPs accessible through the `pmoda`, `pmodb` and `ardiuno` names\n",
    " * Create a speical class to interact with RGB LEDs\n",
    " \n",
    "The result is that the LEDs can be accessed like:"
   ]
  },
  {
   "cell_type": "code",
   "execution_count": 17,
   "metadata": {
    "collapsed": true
   },
   "outputs": [],
   "source": [
    "base = Overlay('base.bit')\n",
    "base.leds[0].on()"
   ]
  },
  {
   "cell_type": "markdown",
   "metadata": {},
   "source": [
    "Using a well defined class also allows for custom docstrings to be provided also helping end users."
   ]
  },
  {
   "cell_type": "code",
   "execution_count": 18,
   "metadata": {
    "collapsed": false
   },
   "outputs": [
    {
     "name": "stdout",
     "output_type": "stream",
     "text": [
      "Help on BaseOverlay object:\n",
      "\n",
      "class BaseOverlay(pynq.overlay.DefaultOverlay)\n",
      " |  The Base overlay for the Pynq-Z1\n",
      " |  \n",
      " |  This overlay is designed to interact with all of the on board peripherals\n",
      " |  and external interfaces of the Pynq-Z1 board. It exposes the following\n",
      " |  attributes:\n",
      " |  \n",
      " |  Attributes\n",
      " |  ----------\n",
      " |  pmoda : IOP\n",
      " |       IO processor connected to the PMODA interface\n",
      " |  pmodb : IOP\n",
      " |       IO processor connected to the PMODB interface\n",
      " |  arduino : IOP\n",
      " |       IO processor connected to the Arduino/ChipKit interface\n",
      " |  leds : AxiGPIO\n",
      " |       4-bit output GPIO for interacting with the green LEDs LD0-3\n",
      " |  buttons : AxiGPIO\n",
      " |       4-bit input GPIO for interacting with the buttons BTN0-3\n",
      " |  switches : AxiGPIO\n",
      " |       2-bit input GPIO for interacting with the switches SW0 and SW1\n",
      " |  rgbleds : [pynq.board.RGBLED]\n",
      " |       Wrapper for GPIO for LD4 and LD5 multicolour LEDs\n",
      " |  video : pynq.lib.video.HDMIWrapper\n",
      " |       HDMI input and output interfaces\n",
      " |  audio : pynq.lib.audio.Audio\n",
      " |       Headphone jack and on-board microphone\n",
      " |  \n",
      " |  Method resolution order:\n",
      " |      BaseOverlay\n",
      " |      pynq.overlay.DefaultOverlay\n",
      " |      pynq.pl.PL\n",
      " |      builtins.object\n",
      " |  \n",
      " |  Methods defined here:\n",
      " |  \n",
      " |  __init__(self, bitfile)\n",
      " |  \n",
      " |  ----------------------------------------------------------------------\n",
      " |  Methods inherited from pynq.overlay.DefaultOverlay:\n",
      " |  \n",
      " |  __dir__(self)\n",
      " |      __dir__() -> list\n",
      " |      default dir() implementation\n",
      " |  \n",
      " |  __getattr__(self, key)\n",
      " |  \n",
      " |  download(self)\n",
      " |      The method to download a bitstream onto PL.\n",
      " |      \n",
      " |      Note\n",
      " |      ----\n",
      " |      After the bitstream has been downloaded, the \"timestamp\" in PL will be\n",
      " |      updated. In addition, all the dictionaries on PL will\n",
      " |      be reset automatically.\n",
      " |      \n",
      " |      Returns\n",
      " |      -------\n",
      " |      None\n",
      " |  \n",
      " |  is_loaded(self)\n",
      " |      This method checks whether a bitstream is loaded.\n",
      " |      \n",
      " |      This method returns true if the loaded PL bitstream is same\n",
      " |      as this Overlay's member bitstream.\n",
      " |      \n",
      " |      Returns\n",
      " |      -------\n",
      " |      bool\n",
      " |          True if bitstream is loaded.\n",
      " |  \n",
      " |  load_ip_data(self, ip_name, data)\n",
      " |      This method loads the data to the addressable IP.\n",
      " |      \n",
      " |      Calls the method in the super class to load the data. This method can\n",
      " |      be used to program the IP. For example, users can use this method to\n",
      " |      load the program to the Microblaze processors on PL.\n",
      " |      \n",
      " |      Note\n",
      " |      ----\n",
      " |      The data is assumed to be in binary format (.bin). The data name will\n",
      " |      be stored as a state information in the IP dictionary.\n",
      " |      \n",
      " |      Parameters\n",
      " |      ----------\n",
      " |      ip_name : str\n",
      " |          The name of the addressable IP.\n",
      " |      data : str\n",
      " |          The absolute path of the data to be loaded.\n",
      " |      \n",
      " |      Returns\n",
      " |      -------\n",
      " |      None\n",
      " |  \n",
      " |  reset(self)\n",
      " |      This function resets all the dictionaries kept in the overlay.\n",
      " |      \n",
      " |      This function should be used with caution.\n",
      " |      \n",
      " |      Returns\n",
      " |      -------\n",
      " |      None\n",
      " |  \n",
      " |  ----------------------------------------------------------------------\n",
      " |  Data descriptors inherited from pynq.pl.PL:\n",
      " |  \n",
      " |  __dict__\n",
      " |      dictionary for instance variables (if defined)\n",
      " |  \n",
      " |  __weakref__\n",
      " |      list of weak references to the object (if defined)\n",
      "\n"
     ]
    }
   ],
   "source": [
    "help(base)"
   ]
  },
  {
   "cell_type": "markdown",
   "metadata": {},
   "source": [
    "### Creating a custom overlay\n",
    "\n",
    "Custom overlay classes should inherit from `pynq.UnknownOverlay` taking a single construction parameter which is the full path of the bitstream file. This path should be passed to `super().__init__()` at the start of `__init__` to initialise the attributes of the Overlay. This example is designed to go with our attribute_test2 overlay and adds a function to more easily call the multiplication function"
   ]
  },
  {
   "cell_type": "code",
   "execution_count": 17,
   "metadata": {
    "collapsed": true
   },
   "outputs": [],
   "source": [
    "from pynq import DefaultOverlay\n",
    "class TestOverlay(DefaultOverlay):\n",
    "    def __init__(self, bitfile):\n",
    "        super().__init__(bitfile)\n",
    "    \n",
    "    def multiply(self, stream, constant):\n",
    "        return self.const_multiply.stream_multiply(stream, constant)"
   ]
  },
  {
   "cell_type": "markdown",
   "metadata": {},
   "source": [
    "To test our new overlay class we can pass it in as a parameter to `pynq.Overlay`"
   ]
  },
  {
   "cell_type": "code",
   "execution_count": 18,
   "metadata": {
    "collapsed": false
   },
   "outputs": [
    {
     "data": {
      "text/plain": [
       "CMABuffer([ 8, 12, 16, 20, 24], dtype=uint32)"
      ]
     },
     "execution_count": 18,
     "metadata": {},
     "output_type": "execute_result"
    }
   ],
   "source": [
    "overlay = Overlay('/home/xilinx/attribute_test2.bit', TestOverlay)\n",
    "overlay.multiply([2,3,4,5,6], 4)"
   ]
  },
  {
   "cell_type": "markdown",
   "metadata": {},
   "source": [
    "To have this happen automatically we need to place our new class inside a .py file alongside the bitstream. It is also worth importing all of the drivers needed to ensure that they are loaded before the overlay is constructed. Finally we need to create a variable `Overlay` pointing to the class that should be constructed.\n",
    "\n",
    "The final version of `attribute_test2.py` would look like:\n",
    "\n",
    "```python\n",
    "import pynq.lib.dma\n",
    "import ouriplib\n",
    "from pynq import DefaultOverlay\n",
    "\n",
    "class TestOverlay(DefaultOverlay):\n",
    "    def __init__(self, bitfile):\n",
    "        super().__init__(bitfile)\n",
    "    \n",
    "    def multiply(self, stream, constant):\n",
    "        return self.const_multiply.stream_multiply(stream, constant)\n",
    "\n",
    "Overlay = TestOverlay\n",
    "```"
   ]
  },
  {
   "cell_type": "markdown",
   "metadata": {},
   "source": [
    "## Included Drivers\n",
    "\n",
    "The pynq library includes a number of drivers as part of the `pynq.lib` package. These include\n",
    " * AXI GPIO\n",
    " * AXI DMA (simple mode only)\n",
    " * AXI VDMA\n",
    " * AXI Interrupt Controller (internal use)\n",
    " * Pynq-Z1 Audio IP\n",
    " * Pynq-Z1 HDMI IP\n",
    "   * Color convert IP\n",
    "   * Pixel format conversion\n",
    "   * HDMI input and output frontends\n",
    " * Pynq Microblaze program loading"
   ]
  }
 ],
 "metadata": {
  "anaconda-cloud": {},
  "kernelspec": {
   "display_name": "Python [default]",
   "language": "python",
   "name": "python3"
  },
  "language_info": {
   "codemirror_mode": {
    "name": "ipython",
    "version": 3
   },
   "file_extension": ".py",
   "mimetype": "text/x-python",
   "name": "python",
   "nbconvert_exporter": "python",
   "pygments_lexer": "ipython3",
   "version": "3.5.2"
  }
 },
 "nbformat": 4,
 "nbformat_minor": 2
}
