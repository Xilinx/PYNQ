{
 "cells": [
  {
   "cell_type": "markdown",
   "metadata": {},
   "source": [
    "## Example of asyncio coroutine and event loop"
   ]
  },
  {
   "cell_type": "markdown",
   "metadata": {},
   "source": [
    "#### Changelog\n",
    "\n",
    "* 10 July 2107\n",
    "    * Created original\n",
    "        * wanted to minimize use of unfamiliar asyncio syntax"
   ]
  },
  {
   "cell_type": "markdown",
   "metadata": {},
   "source": [
    "#### References\n",
    "\n",
    "* [Python 3 – An Intro to asyncio](https://www.blog.pythonlibrary.org/2016/07/26/python-3-an-intro-to-asyncio/)\n",
    "    * My example is derived from an example in this article\n",
    "\n",
    "\n",
    "* [Threaded Asynchronous Magic and How to Wield It](https://hackernoon.com/threaded-asynchronous-magic-and-how-to-wield-it-bba9ed602c32)\n",
    "\n",
    "\n",
    "* [How the heck does async/await work in Python 3.5?](https://snarky.ca/how-the-heck-does-async-await-work-in-python-3-5/)"
   ]
  },
  {
   "cell_type": "markdown",
   "metadata": {},
   "source": [
    "----"
   ]
  },
  {
   "cell_type": "code",
   "execution_count": 1,
   "metadata": {
    "run_control": {
     "frozen": false,
     "read_only": false
    }
   },
   "outputs": [
    {
     "name": "stdout",
     "output_type": "stream",
     "text": [
      "Creating task for coroutine 'wake_up'\n",
      "\n",
      "The time is: 06:21:03\n",
      "Suspending coroutine 'wake_up' at 'await` statement\n",
      "\n",
      "Resuming coroutine 'wake_up' from 'await` statement\n",
      "'wake-up' was suspended for precisely: 1.001000165939331 seconds\n"
     ]
    }
   ],
   "source": [
    "import asyncio\n",
    "import random\n",
    "import time\n",
    "\n",
    "# Coroutine\n",
    "async def wake_up(delay):\n",
    "    '''A function that will yield to asyncio.sleep() for a few seconds\n",
    "       and then resume, having preserved its state while suspended\n",
    "    '''\n",
    "    \n",
    "    start_time = time.time()\n",
    "    print(f'The time is: {time.strftime(\"%I:%M:%S\")}')\n",
    "    print(f\"Suspending coroutine 'wake_up' at 'await` statement\\n\")\n",
    "    await asyncio.sleep(delay)\n",
    "    print(f\"Resuming coroutine 'wake_up' from 'await` statement\")\n",
    "    end_time = time.time()\n",
    "    sleep_time = end_time - start_time\n",
    "    print(f\"'wake-up' was suspended for precisely: {sleep_time} seconds\")\n",
    " \n",
    "# Event loop \n",
    "if __name__ == '__main__':\n",
    "    delay = random.randint(1,5)\n",
    "    my_event_loop = asyncio.get_event_loop()\n",
    "    try:\n",
    "        print(\"Creating task for coroutine 'wake_up'\\n\")\n",
    "        wake_up_task = my_event_loop.create_task(wake_up(delay))\n",
    "        my_event_loop.run_until_complete(wake_up_task)\n",
    "    except RuntimeError as err:\n",
    "        print (f'{err}' +\n",
    "               ' - restart the Jupyter kernel to re-run the event loop')\n",
    "    finally:\n",
    "        my_event_loop.close()"
   ]
  },
  {
   "cell_type": "code",
   "execution_count": null,
   "metadata": {
    "collapsed": true
   },
   "outputs": [],
   "source": []
  }
 ],
 "metadata": {
  "kernelspec": {
   "display_name": "Python 3",
   "language": "python",
   "name": "python3"
  },
  "language_info": {
   "codemirror_mode": {
    "name": "ipython",
    "version": 3
   },
   "file_extension": ".py",
   "mimetype": "text/x-python",
   "name": "python",
   "nbconvert_exporter": "python",
   "pygments_lexer": "ipython3",
   "version": "3.6.0"
  }
 },
 "nbformat": 4,
 "nbformat_minor": 2
}
