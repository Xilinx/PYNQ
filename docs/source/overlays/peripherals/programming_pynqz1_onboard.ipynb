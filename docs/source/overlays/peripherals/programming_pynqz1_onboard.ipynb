{
 "cells": [
  {
   "cell_type": "markdown",
   "metadata": {},
   "source": [
    "# Programming PYNQ-Z1's onboard peripherals\n",
    "## LEDs, switches and buttons\n",
    "PYNQ-Z1 has the following on-board LEDs, pushbuttons and switches:\n",
    "\n",
    "* 4 monochrome LEDs (LD3-LD0)\n",
    "\n",
    "\n",
    "* 4 push-button switches (BTN3-BTN0)\n",
    "\n",
    "\n",
    "* 2 RGB LEDs (LD5-LD4)\n",
    "\n",
    "\n",
    "* 2 Slide-switches (SW1-SW0)\n",
    "\n",
    "The peripherals are highlighted in the image below. "
   ]
  },
  {
   "cell_type": "markdown",
   "metadata": {},
   "source": [
    "![](../../images/pynqz1_board_io.JPG)"
   ]
  },
  {
   "cell_type": "markdown",
   "metadata": {},
   "source": [
    "All of these peripherals are connected to programmable logic. This means controllers must be implemented in an overlay before these peripherals can be used. The base overlay contains controllers for all of these peripherals. "
   ]
  },
  {
   "cell_type": "markdown",
   "metadata": {},
   "source": [
    "Note that there are additional push-buttons and LEDs on the board (e.g. power LED, reset button).  They are not user accessible, and are not highlighted in the figure. "
   ]
  },
  {
   "cell_type": "markdown",
   "metadata": {},
   "source": [
    "## Peripheral Example\n",
    "Using the base overlay, each of the highlighted devices can be controlled using their corresponding pynq classes. \n",
    "\n",
    "To demonstrate this, we will first download the base overlay to ensure it is loaded, the on board peripheral can then be accessed through the overlay."
   ]
  },
  {
   "cell_type": "code",
   "execution_count": 1,
   "metadata": {
    "collapsed": false
   },
   "outputs": [],
   "source": [
    "from pynq import Overlay\n",
    "\n",
    "base = Overlay(\"base.bit\")"
   ]
  },
  {
   "cell_type": "markdown",
   "metadata": {},
   "source": [
    "## Controlling a single LED\n",
    "Now we can instantiate objects of each of these classes and use their methods to manipulate the corresponding peripherals. Let’s start by instantiating a single LED and turning it on and off."
   ]
  },
  {
   "cell_type": "code",
   "execution_count": 2,
   "metadata": {
    "collapsed": true
   },
   "outputs": [],
   "source": [
    "led0 = base.leds[0]"
   ]
  },
  {
   "cell_type": "code",
   "execution_count": 3,
   "metadata": {
    "collapsed": true
   },
   "outputs": [],
   "source": [
    "led0.on()"
   ]
  },
  {
   "cell_type": "markdown",
   "metadata": {},
   "source": [
    "Check the board and confirm the LD0 is ON"
   ]
  },
  {
   "cell_type": "code",
   "execution_count": 4,
   "metadata": {
    "collapsed": true
   },
   "outputs": [],
   "source": [
    "led0.off()"
   ]
  },
  {
   "cell_type": "markdown",
   "metadata": {},
   "source": [
    "Let’s then toggle _led0_ using the sleep() method to see the LED flashing. "
   ]
  },
  {
   "cell_type": "code",
   "execution_count": 5,
   "metadata": {
    "collapsed": false
   },
   "outputs": [],
   "source": [
    "import time\n",
    "\n",
    "for i in range(20):\n",
    "    led0.toggle()\n",
    "    time.sleep(.1)"
   ]
  },
  {
   "cell_type": "markdown",
   "metadata": {},
   "source": [
    "## Example: Controlling all the LEDs, switches and buttons\n",
    "\n",
    "\n",
    "\n",
    "\n",
    "It will be useful to be able to turn off selected LEDs so we will create a helper function to do that.  It either clears the LEDs whose numbers we list in the parameter, or by default clears LD3-LD0."
   ]
  },
  {
   "cell_type": "code",
   "execution_count": 7,
   "metadata": {
    "collapsed": true
   },
   "outputs": [],
   "source": [
    "MAX_LEDS = len(base.leds)\n",
    "\n",
    "# Helper function to clear LEDs\n",
    "def clear_LEDs(LED_nos=list(range(MAX_LEDS))):\n",
    "    \"\"\"Clear LEDS LD3-0 or the LEDs whose numbers appear in the list\"\"\"\n",
    "    for i in LED_nos:\n",
    "        base.leds[i].off()\n",
    "        \n",
    "clear_LEDs()"
   ]
  },
  {
   "cell_type": "markdown",
   "metadata": {},
   "source": [
    "First, all LEDs are set to off. Then each switch is read, and if in the on position, the corresponding led is turned on. You can execute this cell a few times, changing the position of the switches on the board.\n",
    "\n",
    "* LEDs start in the off state\n",
    "* If SW0 is on, LD2 and LD0 will be on\n",
    "* If SW1 is on, LD3 and LD1 will be on"
   ]
  },
  {
   "cell_type": "code",
   "execution_count": 8,
   "metadata": {
    "collapsed": false
   },
   "outputs": [],
   "source": [
    "clear_LEDs()\n",
    "\n",
    "for i in range(MAX_LEDS):                  \n",
    "    if base.switches[i%2].read():                                    \n",
    "        base.leds[i].on()\n",
    "    else:\n",
    "        base.leds[i].off()"
   ]
  },
  {
   "cell_type": "markdown",
   "metadata": {},
   "source": [
    "The last example toggles an led (on or off) if its corresponding push button is pressed for so long as SW0 is switched on.\n",
    "\n",
    "To end the program, slide SW0 to the off position.  "
   ]
  },
  {
   "cell_type": "code",
   "execution_count": 9,
   "metadata": {
    "collapsed": false
   },
   "outputs": [],
   "source": [
    "import time\n",
    "\n",
    "clear_LEDs()\n",
    "\n",
    "while base.switches[0].read():\n",
    "    for i in range(MAX_LEDS):\n",
    "        if base.buttons[i].read():\n",
    "            base.leds[i].toggle()\n",
    "            time.sleep(.1)\n",
    "            \n",
    "clear_LEDs()"
   ]
  }
 ],
 "metadata": {
  "anaconda-cloud": {},
  "celltoolbar": "Raw Cell Format",
  "kernelspec": {
   "display_name": "Python [default]",
   "language": "python",
   "name": "python3"
  },
  "language_info": {
   "codemirror_mode": {
    "name": "ipython",
    "version": 3
   },
   "file_extension": ".py",
   "mimetype": "text/x-python",
   "name": "python",
   "nbconvert_exporter": "python",
   "pygments_lexer": "ipython3",
   "version": "3.5.2"
  }
 },
 "nbformat": 4,
 "nbformat_minor": 1
}
