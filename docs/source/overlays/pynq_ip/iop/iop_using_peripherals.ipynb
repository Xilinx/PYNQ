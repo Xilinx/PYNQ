{
 "cells": [
  {
   "cell_type": "markdown",
   "metadata": {},
   "source": [
    "# Using Peripherals with IOPs "
   ]
  },
  {
   "cell_type": "markdown",
   "metadata": {},
   "source": [
    "## Pmod ports\n",
    "This example is based on the Pynq-Z1 and will show how to use Pmod peripherals with IOPs. The Pynq-Z1 which has two Pmod connectors, PMODA and PMODB as indicated below. "
   ]
  },
  {
   "cell_type": "markdown",
   "metadata": {},
   "source": [
    "The Pmod ports are connected to the Zynq PL. This means an overlay with controllers for the Pmods ports needs to be loaded before they can be used. In the base overlay, each Pmod port is connected to an IOP. (There is also a thrid IOP connected to the Arduino header.)"
   ]
  },
  {
   "cell_type": "markdown",
   "metadata": {},
   "source": [
    "![](../../../images/pynqz1_pmod_interface.jpg)"
   ]
  },
  {
   "cell_type": "markdown",
   "metadata": {},
   "source": [
    "## Using Pmods with an overlay\n",
    "To use a peripheral two software components are required; a driver application written in C for the IOP, and a Python module. These components are provided as part of the Pynq package for supported peripherals. See the Overlay Design Methodology section for information on writing IOP drivers for your own peripherals. \n",
    "\n",
    "The Python module instantiates the peripheral, and loads the driver application to the appropriate IOP. The IOP will also be reset and start executing the new application. \n",
    "\n",
    "The Python module will send commands which the IOP will interpret and execute. The Python module may also send the data if necessary. The IOP will read from and write data into the shared memory area. "
   ]
  },
  {
   "cell_type": "markdown",
   "metadata": {},
   "source": [
    "## Example 1 : Using the Pmod OLED \n",
    "\n",
    "This examples requires the PmodOLED (OLED) Plug the PmodOLED into the top row of PMODA. "
   ]
  },
  {
   "cell_type": "markdown",
   "metadata": {},
   "source": [
    "![](../../../images/als_oled_demo.JPG)"
   ]
  },
  {
   "cell_type": "markdown",
   "metadata": {},
   "source": [
    "Execute the next cell to load the FPGA fabric with the desired overlay, and then import the OLED module and load the driver on to PMODB:"
   ]
  },
  {
   "cell_type": "code",
   "execution_count": 1,
   "metadata": {
    "collapsed": true
   },
   "outputs": [],
   "source": [
    "from pynq import Overlay\n",
    "\n",
    "base = Overlay(\"base.bit\")"
   ]
  },
  {
   "cell_type": "code",
   "execution_count": 2,
   "metadata": {
    "collapsed": true
   },
   "outputs": [],
   "source": [
    "from pynq.lib import Pmod_OLED\n",
    "from pynq.lib.pmod import PMODA\n",
    "\n",
    "oled = Pmod_OLED(PMODA)"
   ]
  },
  {
   "cell_type": "markdown",
   "metadata": {},
   "source": [
    "Try writing a message to the OLED."
   ]
  },
  {
   "cell_type": "code",
   "execution_count": 3,
   "metadata": {
    "collapsed": true
   },
   "outputs": [],
   "source": [
    "oled.write(\"Hello World\")"
   ]
  },
  {
   "cell_type": "code",
   "execution_count": 4,
   "metadata": {
    "collapsed": true
   },
   "outputs": [],
   "source": [
    "oled.clear()"
   ]
  },
  {
   "cell_type": "markdown",
   "metadata": {},
   "source": [
    "## Example 2 : using the Pmod ALS\n",
    "\n",
    "This example requires the PmodALS (Ambient Light Sensor). Plug the PmodALS into PMODB. \n",
    "\n",
    "Import the ALS library, create an instance of the ALS Pmod, and read the value from the sensor."
   ]
  },
  {
   "cell_type": "code",
   "execution_count": 5,
   "metadata": {},
   "outputs": [
    {
     "data": {
      "text/plain": [
       "11"
      ]
     },
     "execution_count": 5,
     "metadata": {},
     "output_type": "execute_result"
    }
   ],
   "source": [
    "from pynq.lib import Pmod_ALS\n",
    "from pynq.lib.pmod import PMODB\n",
    "\n",
    "als = Pmod_ALS(PMODB)\n",
    "als.read()"
   ]
  },
  {
   "cell_type": "markdown",
   "metadata": {},
   "source": [
    "Write the value from the ALS to the OLED. The ALS sensor returns an 8-bit value. \n",
    "\n",
    "* 0 : Darkest\n",
    "* 255 : Brightest"
   ]
  },
  {
   "cell_type": "markdown",
   "metadata": {},
   "source": [
    "### Log data for a set time interval"
   ]
  },
  {
   "cell_type": "code",
   "execution_count": 6,
   "metadata": {},
   "outputs": [
    {
     "data": {
      "text/plain": [
       "[11,\n",
       " 11,\n",
       " 11,\n",
       " 11,\n",
       " 11,\n",
       " 11,\n",
       " 11,\n",
       " 11,\n",
       " 11,\n",
       " 11,\n",
       " 11,\n",
       " 11,\n",
       " 11,\n",
       " 11,\n",
       " 12,\n",
       " 12,\n",
       " 12,\n",
       " 11,\n",
       " 12,\n",
       " 12,\n",
       " 11]"
      ]
     },
     "execution_count": 6,
     "metadata": {},
     "output_type": "execute_result"
    }
   ],
   "source": [
    "import time\n",
    "\n",
    "als.set_log_interval_ms(100)\n",
    "als.start_log()\n",
    "time.sleep(10)\n",
    "als.stop_log()\n",
    "als.get_log()"
   ]
  },
  {
   "cell_type": "markdown",
   "metadata": {},
   "source": [
    "## Example 3: Combine the OLED and ALS\n",
    "\n",
    "Read from the ALS and write the data from the ALS to the OLED. "
   ]
  },
  {
   "cell_type": "code",
   "execution_count": 7,
   "metadata": {
    "collapsed": true
   },
   "outputs": [],
   "source": [
    "oled.write(\"Light value : \" + str(als.read()))"
   ]
  },
  {
   "cell_type": "markdown",
   "metadata": {
    "collapsed": true
   },
   "source": [
    "For information on other supported peripherals and their API, see the *pynq.lib package* section of the documentation."
   ]
  }
 ],
 "metadata": {
  "celltoolbar": "Raw Cell Format",
  "kernelspec": {
   "display_name": "Python 3",
   "language": "python",
   "name": "python3"
  },
  "language_info": {
   "codemirror_mode": {
    "name": "ipython",
    "version": 3
   },
   "file_extension": ".py",
   "mimetype": "text/x-python",
   "name": "python",
   "nbconvert_exporter": "python",
   "pygments_lexer": "ipython3",
   "version": "3.6.0"
  }
 },
 "nbformat": 4,
 "nbformat_minor": 1
}
