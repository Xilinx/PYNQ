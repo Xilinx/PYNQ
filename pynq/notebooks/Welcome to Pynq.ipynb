{
 "cells": [
  {
   "cell_type": "markdown",
   "metadata": {
    "collapsed": true
   },
   "source": [
    "# Welcome to PYNQ\n",
    "\n",
    "## Getting Started\n",
    "\n",
    "To get started using PYNQ, try running the example notebooks in the folders described below. \n",
    "\n",
    "* **getting_started**: includes an introduction to using Jupyter notebook with PYNQ, the Python environment, and how to use some basic features of the curernt platform. \n",
    "\n",
    "* **common**: contains example notebooks on how to download an overlay, how to set the Zynq clocks, how to execute Linux shell commands, and how to use USB devices.\n",
    "\n",
    "If other overlays or packages are installed, other folders with example notebooks may also be available in this directory.  \n",
    "\n",
    "\n",
    "## Documentation\n",
    "\n",
    "Please see the latest <a href=\"http://pynq.readthedocs.io\">PYNQ Documentation on readthedocs</a>.  \n",
    "\n",
    "\n",
    "## Support\n",
    "\n",
    "For questions or support, go to the forum on the <a href=\"http://www.pynq.io\">PYNQ project webpage </a>.\n",
    "\n",
    "\n",
    "## Project webpage\n",
    "\n",
    "You can find details on the <a href=\"http://www.pynq.io\">PYNQ project webpage </a>.\n",
    "\n",
    "\n",
    "## GitHub\n",
    "\n",
    "The PYNQ Repository is hosted on github: <a href=\"https://github.com/Xilinx/PYNQ\">PYNQ GitHub Repository</a>."
   ]
  }
 ],
 "metadata": {
  "kernelspec": {
   "display_name": "Python 3",
   "language": "python",
   "name": "python3"
  },
  "language_info": {
   "codemirror_mode": {
    "name": "ipython",
    "version": 3
   },
   "file_extension": ".py",
   "mimetype": "text/x-python",
   "name": "python",
   "nbconvert_exporter": "python",
   "pygments_lexer": "ipython3",
   "version": "3.6.0"
  }
 },
 "nbformat": 4,
 "nbformat_minor": 1
}
