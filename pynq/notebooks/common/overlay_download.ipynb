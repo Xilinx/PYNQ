{
 "cells": [
  {
   "cell_type": "markdown",
   "metadata": {},
   "source": [
    "# Downloading Overlays\n",
    "\n",
    "This notebook demonstrates how to download an FPGA overlay and examine programmable logic state.  \n",
    "\n",
    "## 1. Instantiating an overlay\n",
    "With the following overlay bundle present in the `overlays` folder, users can instantiate the overlay easily.\n",
    "\n",
    "*  A bitstream file (\\*.bit).\n",
    "*  An hwh file (\\*.hwh).\n",
    "*  A python class (\\*.py).\n",
    "\n",
    "For example, an overlay called `base` can be loaded by:\n",
    "```python\n",
    "from pynq.overlays.base import BaseOverlay\n",
    "overlay = BaseOverlay(\"base.bit\")\n",
    "```\n",
    "Users can also use the absolute file path of the bitstream to instantiate the overlay.\n",
    "\n",
    "In this notebook, we get the current bitstream loaded on PL, and try to download it multiple times."
   ]
  },
  {
   "cell_type": "code",
   "execution_count": 1,
   "metadata": {},
   "outputs": [],
   "source": [
    "import os, warnings\n",
    "from pynq import PL\n",
    "from pynq import Overlay\n",
    "\n",
    "if PL.bitfile_name == None or not os.path.exists(PL.bitfile_name):\n",
    "    warnings.warn('There is no overlay loaded after boot.', UserWarning)"
   ]
  },
  {
   "cell_type": "markdown",
   "metadata": {},
   "source": [
    "**Note**: If you see a warning message in the above cell, it means that no overlay\n",
    "has been loaded after boot, hence the PL server is not aware of the \n",
    "current status of the PL. In that case you won't be able to run this notebook\n",
    "until you manually load an overlay at least once using:\n",
    "\n",
    "```python\n",
    "from pynq import Overlay\n",
    "ol = Overlay('your_overlay.bit')\n",
    "```\n",
    "\n",
    "If you do not see any warning message, you can safely proceed."
   ]
  },
  {
   "cell_type": "code",
   "execution_count": 2,
   "metadata": {},
   "outputs": [
    {
     "data": {
      "application/javascript": [
       "\n",
       "try {\n",
       "require(['notebook/js/codecell'], function(codecell) {\n",
       "  codecell.CodeCell.options_default.highlight_modes[\n",
       "      'magic_text/x-csrc'] = {'reg':[/^%%microblaze/]};\n",
       "  Jupyter.notebook.events.one('kernel_ready.Kernel', function(){\n",
       "      Jupyter.notebook.get_cells().map(function(cell){\n",
       "          if (cell.cell_type == 'code'){ cell.auto_highlight(); } }) ;\n",
       "  });\n",
       "});\n",
       "} catch (e) {};\n"
      ]
     },
     "metadata": {},
     "output_type": "display_data"
    },
    {
     "data": {
      "application/javascript": [
       "\n",
       "try {\n",
       "require(['notebook/js/codecell'], function(codecell) {\n",
       "  codecell.CodeCell.options_default.highlight_modes[\n",
       "      'magic_text/x-csrc'] = {'reg':[/^%%pybind11/]};\n",
       "  Jupyter.notebook.events.one('kernel_ready.Kernel', function(){\n",
       "      Jupyter.notebook.get_cells().map(function(cell){\n",
       "          if (cell.cell_type == 'code'){ cell.auto_highlight(); } }) ;\n",
       "  });\n",
       "});\n",
       "} catch (e) {};\n"
      ]
     },
     "metadata": {},
     "output_type": "display_data"
    }
   ],
   "source": [
    "ol = Overlay(PL.bitfile_name)"
   ]
  },
  {
   "cell_type": "markdown",
   "metadata": {},
   "source": [
    "Now we can check the download timestamp for this overlay."
   ]
  },
  {
   "cell_type": "code",
   "execution_count": 3,
   "metadata": {},
   "outputs": [
    {
     "data": {
      "text/plain": [
       "''"
      ]
     },
     "execution_count": 3,
     "metadata": {},
     "output_type": "execute_result"
    }
   ],
   "source": [
    "ol.download()\n",
    "ol.timestamp"
   ]
  },
  {
   "cell_type": "markdown",
   "metadata": {},
   "source": [
    "## 2. Examining the PL state\n",
    "\n",
    "While there can be multiple overlay instances in Python, there is only one bitstream that is currently loaded onto the programmable logic (PL). \n",
    "\n",
    "This bitstream state is held in the singleton class, PL, and is available for user queries."
   ]
  },
  {
   "cell_type": "code",
   "execution_count": 4,
   "metadata": {},
   "outputs": [
    {
     "data": {
      "text/plain": [
       "'/usr/local/share/pynq-venv/lib/python3.10/site-packages/finn_examples/bitfiles/bitfiles.zip.d/ZCU104/cnv-w1a1.bit'"
      ]
     },
     "execution_count": 4,
     "metadata": {},
     "output_type": "execute_result"
    }
   ],
   "source": [
    "PL.bitfile_name"
   ]
  },
  {
   "cell_type": "code",
   "execution_count": 5,
   "metadata": {},
   "outputs": [
    {
     "data": {
      "text/plain": [
       "'2022/10/3 20:44:15 +114675'"
      ]
     },
     "execution_count": 5,
     "metadata": {},
     "output_type": "execute_result"
    }
   ],
   "source": [
    "PL.timestamp"
   ]
  },
  {
   "cell_type": "markdown",
   "metadata": {},
   "source": [
    "Users can verify whether an overlay instance is currently loaded using the Overlay is_loaded() method"
   ]
  },
  {
   "cell_type": "code",
   "execution_count": 6,
   "metadata": {},
   "outputs": [
    {
     "data": {
      "text/plain": [
       "True"
      ]
     },
     "execution_count": 6,
     "metadata": {},
     "output_type": "execute_result"
    }
   ],
   "source": [
    "ol.is_loaded()"
   ]
  },
  {
   "cell_type": "markdown",
   "metadata": {},
   "source": [
    "## 3. Overlay downloading overhead\n",
    "\n",
    "Finally, using Python, we can see the bitstream download time over 50 downloads. We use the Bitstream class to download the bitstream directly and measure the actual bitstream download speed."
   ]
  },
  {
   "cell_type": "code",
   "execution_count": 7,
   "metadata": {},
   "outputs": [
    {
     "data": {
      "image/png": "[encoded data removed]",
      "text/plain": [
       "<Figure size 432x288 with 1 Axes>"
      ]
     },
     "metadata": {
      "needs_background": "light"
     },
     "output_type": "display_data"
    }
   ],
   "source": [
    "import time\n",
    "import matplotlib.pyplot as plt\n",
    "from pynq import Bitstream\n",
    "\n",
    "length = 50\n",
    "time_log = []\n",
    "bits = Bitstream(PL.bitfile_name)\n",
    "for i in range(length):\n",
    "    start = time.time()\n",
    "    bits.download()\n",
    "    end = time.time()\n",
    "    time_log.append((end-start)*1000)\n",
    "\n",
    "%matplotlib inline\n",
    "plt.plot(range(length), time_log, 'ro')\n",
    "plt.title('Bitstream loading time (ms)')\n",
    "plt.axis([0, length, 0, 2000])\n",
    "plt.show()"
   ]
  },
  {
   "cell_type": "markdown",
   "metadata": {},
   "source": [
    "Alternatively, using the Overlay object, the first download of the overlay is cached and stored in a global state file. If the bitstream we want to upload doesn't change the Overlay class simply bypasses the download and allows quick access to interact with the PL without the download overhead."
   ]
  },
  {
   "cell_type": "code",
   "execution_count": 8,
   "metadata": {},
   "outputs": [
    {
     "data": {
      "image/png": "[encoded data removed]",
      "text/plain": [
       "<Figure size 432x288 with 1 Axes>"
      ]
     },
     "metadata": {
      "needs_background": "light"
     },
     "output_type": "display_data"
    }
   ],
   "source": [
    "length = 50\n",
    "time_log = []\n",
    "for i in range(length):\n",
    "    start = time.time()\n",
    "    ol.download()\n",
    "    end = time.time()\n",
    "    time_log.append((end-start)*1000)\n",
    "\n",
    "%matplotlib inline\n",
    "plt.plot(range(length), time_log, 'ro')\n",
    "plt.title('Bitstream loading time (ms)')\n",
    "plt.axis([0, length, 0, 2000])\n",
    "plt.show()"
   ]
  }
 ],
 "metadata": {
  "kernelspec": {
   "display_name": "Python 3 (ipykernel)",
   "language": "python",
   "name": "python3"
  },
  "language_info": {
   "codemirror_mode": {
    "name": "ipython",
    "version": 3
   },
   "file_extension": ".py",
   "mimetype": "text/x-python",
   "name": "python",
   "nbconvert_exporter": "python",
   "pygments_lexer": "ipython3",
   "version": "3.10.4"
  }
 },
 "nbformat": 4,
 "nbformat_minor": 4
}
