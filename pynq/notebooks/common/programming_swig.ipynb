{
 "cells": [
  {
   "cell_type": "markdown",
   "metadata": {},
   "source": [
    "# Programming C/C++ using SWIG\n",
    "\n",
    "In this notebook we will show how to leverage SWIG to develop normal\n",
    "C program in Jupyter environment. This is a unique feature added by the \n",
    "`pynq` package."
   ]
  },
  {
   "cell_type": "code",
   "execution_count": 1,
   "metadata": {},
   "outputs": [
    {
     "data": {
      "application/javascript": [
       "\n",
       "try {\n",
       "require(['notebook/js/codecell'], function(codecell) {\n",
       "  codecell.CodeCell.options_default.highlight_modes[\n",
       "      'magic_text/x-csrc'] = {'reg':[/^%%microblaze/]};\n",
       "  Jupyter.notebook.events.one('kernel_ready.Kernel', function(){\n",
       "      Jupyter.notebook.get_cells().map(function(cell){\n",
       "          if (cell.cell_type == 'code'){ cell.auto_highlight(); } }) ;\n",
       "  });\n",
       "});\n",
       "} catch (e) {};\n"
      ]
     },
     "metadata": {},
     "output_type": "display_data"
    },
    {
     "data": {
      "application/javascript": [
       "\n",
       "try {\n",
       "require(['notebook/js/codecell'], function(codecell) {\n",
       "  codecell.CodeCell.options_default.highlight_modes[\n",
       "      'magic_text/x-csrc'] = {'reg':[/^%%swig/]};\n",
       "  Jupyter.notebook.events.one('kernel_ready.Kernel', function(){\n",
       "      Jupyter.notebook.get_cells().map(function(cell){\n",
       "          if (cell.cell_type == 'code'){ cell.auto_highlight(); } }) ;\n",
       "  });\n",
       "});\n",
       "} catch (e) {};\n"
      ]
     },
     "metadata": {},
     "output_type": "display_data"
    }
   ],
   "source": [
    "from pynq.lib import swig"
   ]
  },
  {
   "cell_type": "markdown",
   "metadata": {},
   "source": [
    "## Example 1: Simple functions\n",
    "Let's first look at a very simple example. With the magic `swig`,\n",
    "we can specify the desired Python module name `example1`. Under the hood:\n",
    "1. The interface file (`example1.i`) is generated.\n",
    "2. The header (`example1.h`) is generated with the \n",
    "desired function prototypes and necessary headers.\n",
    "3. The C program is compiled into a shared object file (`_example1.so`)."
   ]
  },
  {
   "cell_type": "code",
   "execution_count": 2,
   "metadata": {},
   "outputs": [],
   "source": [
    "%%swig example1\n",
    "\n",
    "int multiply(int a, int b) {\n",
    "    return a*b;\n",
    "}\n",
    "\n",
    "double multiply_half(double c){\n",
    "    return c*0.5;\n",
    "}"
   ]
  },
  {
   "cell_type": "markdown",
   "metadata": {},
   "source": [
    "Then we can easily import the module and call the C functions as if they\n",
    "are available as Python functions."
   ]
  },
  {
   "cell_type": "code",
   "execution_count": 3,
   "metadata": {},
   "outputs": [
    {
     "data": {
      "text/plain": [
       "6"
      ]
     },
     "execution_count": 3,
     "metadata": {},
     "output_type": "execute_result"
    }
   ],
   "source": [
    "import example1\n",
    "example1.multiply(2,3)"
   ]
  },
  {
   "cell_type": "code",
   "execution_count": 4,
   "metadata": {},
   "outputs": [
    {
     "data": {
      "text/plain": [
       "0.25"
      ]
     },
     "execution_count": 4,
     "metadata": {},
     "output_type": "execute_result"
    }
   ],
   "source": [
    "example1.multiply_half(0.5)"
   ]
  },
  {
   "cell_type": "markdown",
   "metadata": {},
   "source": [
    "**Note:** you can change the C program and recompile, but for Jupyter notebook\n",
    "to reload the new context, you will need to restart the kernel\n",
    "for changes in C to take effect.\n",
    "\n",
    "## Example 2: Leverage system functions/headers\n",
    "One good thing about this feature, is that we can leverage existing \n",
    "C libraries in the system. In the following example, we are leveraging the \n",
    "functions and data structures defined in the `time.h` header.\n",
    "\n",
    "The following cell may take a while to compile, since internally the \n",
    "C program as well as its headers is being parsed."
   ]
  },
  {
   "cell_type": "code",
   "execution_count": 5,
   "metadata": {},
   "outputs": [],
   "source": [
    "%%swig example2\n",
    "#include <stdio.h>\n",
    "#include <time.h>\n",
    "\n",
    "int hello() {\n",
    "    time_t t = time(NULL);\n",
    "    struct tm tm = *localtime(&t);\n",
    "    printf(\"Hello from C Program!\\n\");\n",
    "    printf(\"Today's date: %02d/%02d, %d\\n\", \n",
    "        tm.tm_mon + 1, tm.tm_mday, tm.tm_year + 1900);\n",
    "    printf(\"Current time: %02d:%02d:%02d\\n\",\n",
    "        tm.tm_hour, tm.tm_min, tm.tm_sec);\n",
    "}"
   ]
  },
  {
   "cell_type": "markdown",
   "metadata": {},
   "source": [
    "We leverage the [existing Python package `wurlitzer`](https://github.com/minrk/wurlitzer) so we can capture the \n",
    "C outputs into the Jupyter notebook. You should be able to see the printout\n",
    "from the C program. This can also be used for debugging purpose."
   ]
  },
  {
   "cell_type": "code",
   "execution_count": 6,
   "metadata": {},
   "outputs": [
    {
     "name": "stdout",
     "output_type": "stream",
     "text": [
      "Hello from C Program!\n",
      "Today's date: 03/04, 2020\n",
      "Current time: 22:13:54\n"
     ]
    }
   ],
   "source": [
    "from wurlitzer import sys_pipes\n",
    "from example2 import hello\n",
    "\n",
    "with sys_pipes():\n",
    "    hello()"
   ]
  },
  {
   "cell_type": "markdown",
   "metadata": {},
   "source": [
    "## Example 3: Measuring the performance\n",
    "\n",
    "SWIG does not have optimal performance as a Python-C binding framework. \n",
    "But to get an idea of how the performance looks like, we can experiment with\n",
    "the quick-sort algorithm. Below is the Python implementation."
   ]
  },
  {
   "cell_type": "code",
   "execution_count": 7,
   "metadata": {},
   "outputs": [],
   "source": [
    "def quickSortPython(arr, left, right):\n",
    "    mid = int((right+left)/2)\n",
    "    pivot = arr[mid]\n",
    "    i, j = left, right\n",
    "    while (i<=j):\n",
    "        while arr[i]<pivot:\n",
    "            i+=1\n",
    "        while arr[j]>pivot:\n",
    "            j-=1\n",
    "        if i<=j:\n",
    "            arr[i], arr[j] = arr[j], arr[i]\n",
    "            i, j = i+1, j-1\n",
    "    if left<j:\n",
    "        arr = quickSortPython(arr, left, j)\n",
    "    if i<right:\n",
    "        arr = quickSortPython(arr, i, right)\n",
    "    return arr"
   ]
  },
  {
   "cell_type": "markdown",
   "metadata": {},
   "source": [
    "Next let's write a similar program in C."
   ]
  },
  {
   "cell_type": "code",
   "execution_count": 8,
   "metadata": {},
   "outputs": [],
   "source": [
    "%%swig example3\n",
    "\n",
    "void quickSortC(int* arr, int left, int right) {\n",
    "    int i = left;\n",
    "    int j = right;\n",
    "    int tmp;\n",
    "    int pivot = arr[(left+right)/2];\n",
    "    while (i <= j) {\n",
    "        while (arr[i] < pivot)\n",
    "           i++;\n",
    "        while (arr[j] > pivot)\n",
    "           j--;\n",
    "        if (i <= j) {\n",
    "            tmp = arr[i];\n",
    "            arr[i] = arr[j];\n",
    "            arr[j] = tmp;\n",
    "            i++;\n",
    "            j--;\n",
    "        }\n",
    "    }\n",
    "    if (left < j)\n",
    "       quickSortC(arr, left, j);\n",
    "    if (i < right)\n",
    "       quickSortC(arr, i, right);\n",
    "}"
   ]
  },
  {
   "cell_type": "markdown",
   "metadata": {},
   "source": [
    "Since we have used C arrays, we have to populate input and extract output\n",
    "using the existing member functions from SWIG. \n",
    "In the following cell, we wrap the `quickSortC()` function into a \n",
    "higher-level function `quickSortSwig()`, so the API looks exactly the same \n",
    "as the `quickSortPython()`.\n",
    "\n",
    "Note that in the following cell, `new_intArray()` and `delete_intArray()`\n",
    "are used to allocate and free the memory."
   ]
  },
  {
   "cell_type": "code",
   "execution_count": 9,
   "metadata": {},
   "outputs": [],
   "source": [
    "from example3 import new_intArray, delete_intArray\n",
    "from example3 import intArray_setitem, intArray_getitem\n",
    "from example3 import quickSortC\n",
    "\n",
    "def quickSortSwig(arr, left, right):\n",
    "    temp = new_intArray(len(arr))\n",
    "    for i in range(len(arr)):\n",
    "        intArray_setitem(temp,i,int(arr[i]))\n",
    "\n",
    "    quickSortC(temp, 0, len(arr)-1)\n",
    "\n",
    "    result = arr\n",
    "    for i in range(len(arr)):\n",
    "        result[i]=intArray_getitem(temp,i)\n",
    "    delete_intArray(temp)\n",
    "    return result"
   ]
  },
  {
   "cell_type": "markdown",
   "metadata": {},
   "source": [
    "Let's have a bit fun by testing them."
   ]
  },
  {
   "cell_type": "code",
   "execution_count": 10,
   "metadata": {},
   "outputs": [
    {
     "name": "stdout",
     "output_type": "stream",
     "text": [
      "Unsorted array:\n",
      "[22 18 50 78 86  1 57 35 13 46  7 75  1 82 26  2 91 75 12 72 42 59 60 44\n",
      " 91 45 35  4 48 23  2 58 29 41 45  3  6 15  9 58 63 78 87 72 82 98 24 45\n",
      " 14  9 95 29  6 44 59 15  9 32 89 82 86  9 10 20 13 46 16 91 16 30 69 14\n",
      " 85 35 82  6 21 61 46 42 70 88 33 87 87 54 84 82 17 47 91 42 11 41 97  3\n",
      " 12 20 72 55]\n"
     ]
    }
   ],
   "source": [
    "from copy import deepcopy\n",
    "import numpy as np\n",
    "\n",
    "size = 100\n",
    "test_array0 = np.random.randint(low=1, high=100, size=size)\n",
    "test_array1 = deepcopy(test_array0)\n",
    "test_array2 = deepcopy(test_array0)\n",
    "print(\"Unsorted array:\")\n",
    "print(test_array0)"
   ]
  },
  {
   "cell_type": "code",
   "execution_count": 11,
   "metadata": {},
   "outputs": [
    {
     "name": "stdout",
     "output_type": "stream",
     "text": [
      "Sorted by Python:\n",
      "[ 1  1  2  2  3  3  4  6  6  6  7  9  9  9  9 10 11 12 12 13 13 14 14 15\n",
      " 15 16 16 17 18 20 20 21 22 23 24 26 29 29 30 32 33 35 35 35 41 41 42 42\n",
      " 42 44 44 45 45 45 46 46 46 47 48 50 54 55 57 58 58 59 59 60 61 63 69 70\n",
      " 72 72 72 75 75 78 78 82 82 82 82 82 84 85 86 86 87 87 87 88 89 91 91 91\n",
      " 91 95 97 98]\n"
     ]
    }
   ],
   "source": [
    "test_array1 = quickSortPython(test_array1, 0, len(test_array1)-1)\n",
    "print(\"Sorted by Python:\")\n",
    "print(test_array1)"
   ]
  },
  {
   "cell_type": "code",
   "execution_count": 12,
   "metadata": {},
   "outputs": [
    {
     "name": "stdout",
     "output_type": "stream",
     "text": [
      "Sorted by SWIG:\n",
      "[ 1  1  2  2  3  3  4  6  6  6  7  9  9  9  9 10 11 12 12 13 13 14 14 15\n",
      " 15 16 16 17 18 20 20 21 22 23 24 26 29 29 30 32 33 35 35 35 41 41 42 42\n",
      " 42 44 44 45 45 45 46 46 46 47 48 50 54 55 57 58 58 59 59 60 61 63 69 70\n",
      " 72 72 72 75 75 78 78 82 82 82 82 82 84 85 86 86 87 87 87 88 89 91 91 91\n",
      " 91 95 97 98]\n"
     ]
    }
   ],
   "source": [
    "test_array2 = quickSortSwig(test_array2, 0, len(test_array2)-1)\n",
    "print(\"Sorted by SWIG:\")\n",
    "print(test_array2)"
   ]
  },
  {
   "cell_type": "markdown",
   "metadata": {},
   "source": [
    "You should notice the results match. Let's also time the executions of the\n",
    "2 implementations (`quickSortPython` and `quickSortSwig`)."
   ]
  },
  {
   "cell_type": "code",
   "execution_count": 13,
   "metadata": {},
   "outputs": [
    {
     "name": "stdout",
     "output_type": "stream",
     "text": [
      "100 loops, best of 3: 5.69 ms per loop\n"
     ]
    }
   ],
   "source": [
    "%%timeit\n",
    "\n",
    "quickSortPython(np.random.randint(low=1, high=100, size=size), 0, size-1)"
   ]
  },
  {
   "cell_type": "code",
   "execution_count": 14,
   "metadata": {},
   "outputs": [
    {
     "name": "stdout",
     "output_type": "stream",
     "text": [
      "1000 loops, best of 3: 1.8 ms per loop\n"
     ]
    }
   ],
   "source": [
    "%%timeit\n",
    "\n",
    "quickSortSwig(np.random.randint(low=1, high=100, size=size), 0, size-1)"
   ]
  },
  {
   "cell_type": "markdown",
   "metadata": {},
   "source": [
    "Hope you like it!"
   ]
  }
 ],
 "metadata": {
  "kernelspec": {
   "display_name": "Python 3",
   "language": "python",
   "name": "python3"
  },
  "language_info": {
   "codemirror_mode": {
    "name": "ipython",
    "version": 3
   },
   "file_extension": ".py",
   "mimetype": "text/x-python",
   "name": "python",
   "nbconvert_exporter": "python",
   "pygments_lexer": "ipython3",
   "version": "3.6.5"
  }
 },
 "nbformat": 4,
 "nbformat_minor": 2
}
