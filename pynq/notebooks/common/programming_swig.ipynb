{
 "cells": [
  {
   "cell_type": "markdown",
   "metadata": {},
   "source": [
    "# Programming C using SWIG\n",
    "\n",
    "In this notebook we will show how to leverage [SWIG](http://www.swig.org/) to develop normal\n",
    "C program in Jupyter environment. This is a unique feature added by the \n",
    "`pynq` package."
   ]
  },
  {
   "cell_type": "code",
   "execution_count": 1,
   "metadata": {},
   "outputs": [
    {
     "data": {
      "application/javascript": [
       "\n",
       "try {\n",
       "require(['notebook/js/codecell'], function(codecell) {\n",
       "  codecell.CodeCell.options_default.highlight_modes[\n",
       "      'magic_text/x-csrc'] = {'reg':[/^%%microblaze/]};\n",
       "  Jupyter.notebook.events.one('kernel_ready.Kernel', function(){\n",
       "      Jupyter.notebook.get_cells().map(function(cell){\n",
       "          if (cell.cell_type == 'code'){ cell.auto_highlight(); } }) ;\n",
       "  });\n",
       "});\n",
       "} catch (e) {};\n"
      ]
     },
     "metadata": {},
     "output_type": "display_data"
    },
    {
     "data": {
      "application/javascript": [
       "\n",
       "try {\n",
       "require(['notebook/js/codecell'], function(codecell) {\n",
       "  codecell.CodeCell.options_default.highlight_modes[\n",
       "      'magic_text/x-csrc'] = {'reg':[/^%%swig/]};\n",
       "  Jupyter.notebook.events.one('kernel_ready.Kernel', function(){\n",
       "      Jupyter.notebook.get_cells().map(function(cell){\n",
       "          if (cell.cell_type == 'code'){ cell.auto_highlight(); } }) ;\n",
       "  });\n",
       "});\n",
       "} catch (e) {};\n"
      ]
     },
     "metadata": {},
     "output_type": "display_data"
    },
    {
     "data": {
      "application/javascript": [
       "\n",
       "try {\n",
       "require(['notebook/js/codecell'], function(codecell) {\n",
       "  codecell.CodeCell.options_default.highlight_modes[\n",
       "      'magic_text/x-csrc'] = {'reg':[/^%%pybind11/]};\n",
       "  Jupyter.notebook.events.one('kernel_ready.Kernel', function(){\n",
       "      Jupyter.notebook.get_cells().map(function(cell){\n",
       "          if (cell.cell_type == 'code'){ cell.auto_highlight(); } }) ;\n",
       "  });\n",
       "});\n",
       "} catch (e) {};\n"
      ]
     },
     "metadata": {},
     "output_type": "display_data"
    }
   ],
   "source": [
    "from pynq.lib import swig"
   ]
  },
  {
   "cell_type": "markdown",
   "metadata": {},
   "source": [
    "## Example 1: Simple functions\n",
    "Let's first look at a very simple example. With the magic `swig`,\n",
    "we can specify the desired Python module name `example1`. Under the hood:\n",
    "1. The interface file (`example1.i`) is generated.\n",
    "2. The header (`example1.h`) is generated with the \n",
    "desired function prototypes and necessary headers.\n",
    "3. The C program is compiled into a shared object file (`_example1.so`)."
   ]
  },
  {
   "cell_type": "code",
   "execution_count": 2,
   "metadata": {},
   "outputs": [],
   "source": [
    "%%swig example1\n",
    "\n",
    "int multiply(int a, int b) {\n",
    "    return a*b;\n",
    "}\n",
    "\n",
    "double multiply_half(double c){\n",
    "    return c*0.5;\n",
    "}"
   ]
  },
  {
   "cell_type": "markdown",
   "metadata": {},
   "source": [
    "Then we can easily import the module and call the C functions as if they\n",
    "are available as Python functions."
   ]
  },
  {
   "cell_type": "code",
   "execution_count": 3,
   "metadata": {},
   "outputs": [
    {
     "data": {
      "text/plain": [
       "6"
      ]
     },
     "execution_count": 3,
     "metadata": {},
     "output_type": "execute_result"
    }
   ],
   "source": [
    "import example1\n",
    "example1.multiply(2,3)"
   ]
  },
  {
   "cell_type": "code",
   "execution_count": 4,
   "metadata": {},
   "outputs": [
    {
     "data": {
      "text/plain": [
       "0.25"
      ]
     },
     "execution_count": 4,
     "metadata": {},
     "output_type": "execute_result"
    }
   ],
   "source": [
    "example1.multiply_half(0.5)"
   ]
  },
  {
   "cell_type": "markdown",
   "metadata": {},
   "source": [
    "**Note:** you can change the C program and recompile, but for Jupyter notebook\n",
    "to reload the new context, you will need to restart the kernel\n",
    "for changes in C to take effect.\n",
    "\n",
    "## Example 2: Leverage system functions/headers\n",
    "One good thing about this feature, is that we can leverage existing \n",
    "C libraries in the system. In the following example, we are leveraging the \n",
    "functions and data structures defined in the `time.h` header.\n",
    "\n",
    "The following cell may take a while to compile, since internally the \n",
    "C program as well as its headers is being parsed."
   ]
  },
  {
   "cell_type": "code",
   "execution_count": 5,
   "metadata": {},
   "outputs": [],
   "source": [
    "%%swig example2\n",
    "#include <stdio.h>\n",
    "#include <time.h>\n",
    "\n",
    "int hello() {\n",
    "    time_t t = time(NULL);\n",
    "    struct tm tm = *localtime(&t);\n",
    "    printf(\"Hello from C Program!\\n\");\n",
    "    printf(\"Today's date: %02d/%02d, %d\\n\", \n",
    "        tm.tm_mon + 1, tm.tm_mday, tm.tm_year + 1900);\n",
    "    printf(\"Current time: %02d:%02d:%02d\\n\",\n",
    "        tm.tm_hour, tm.tm_min, tm.tm_sec);\n",
    "}"
   ]
  },
  {
   "cell_type": "markdown",
   "metadata": {},
   "source": [
    "We leverage the [existing Python package `wurlitzer`](https://github.com/minrk/wurlitzer) so we can capture the \n",
    "C outputs into the Jupyter notebook. You should be able to see the printout\n",
    "from the C program. This can also be used for debugging purpose."
   ]
  },
  {
   "cell_type": "code",
   "execution_count": 6,
   "metadata": {},
   "outputs": [
    {
     "name": "stdout",
     "output_type": "stream",
     "text": [
      "Hello from C Program!\n",
      "Today's date: 04/23, 2020\n",
      "Current time: 22:43:52\n"
     ]
    }
   ],
   "source": [
    "from wurlitzer import sys_pipes\n",
    "from example2 import hello\n",
    "\n",
    "with sys_pipes():\n",
    "    hello()"
   ]
  },
  {
   "cell_type": "markdown",
   "metadata": {},
   "source": [
    "## Example 3: Measuring the performance\n",
    "\n",
    "SWIG does not have optimal performance as a Python-C binding framework. \n",
    "But to get an idea of how the performance looks like, we can experiment with\n",
    "the quick-sort algorithm. Below is the Python implementation."
   ]
  },
  {
   "cell_type": "code",
   "execution_count": 7,
   "metadata": {},
   "outputs": [],
   "source": [
    "def quickSortPython(arr, left, right):\n",
    "    mid = int((right+left)/2)\n",
    "    pivot = arr[mid]\n",
    "    i, j = left, right\n",
    "    while (i<=j):\n",
    "        while arr[i]<pivot:\n",
    "            i+=1\n",
    "        while arr[j]>pivot:\n",
    "            j-=1\n",
    "        if i<=j:\n",
    "            arr[i], arr[j] = arr[j], arr[i]\n",
    "            i, j = i+1, j-1\n",
    "    if left<j:\n",
    "        arr = quickSortPython(arr, left, j)\n",
    "    if i<right:\n",
    "        arr = quickSortPython(arr, i, right)\n",
    "    return arr"
   ]
  },
  {
   "cell_type": "markdown",
   "metadata": {},
   "source": [
    "Next let's write a similar program in C."
   ]
  },
  {
   "cell_type": "code",
   "execution_count": 8,
   "metadata": {},
   "outputs": [],
   "source": [
    "%%swig example3\n",
    "\n",
    "void quickSortC(int* arr, int left, int right) {\n",
    "    int i = left;\n",
    "    int j = right;\n",
    "    int tmp;\n",
    "    int pivot = arr[(left+right)/2];\n",
    "    while (i <= j) {\n",
    "        while (arr[i] < pivot)\n",
    "           i++;\n",
    "        while (arr[j] > pivot)\n",
    "           j--;\n",
    "        if (i <= j) {\n",
    "            tmp = arr[i];\n",
    "            arr[i] = arr[j];\n",
    "            arr[j] = tmp;\n",
    "            i++;\n",
    "            j--;\n",
    "        }\n",
    "    }\n",
    "    if (left < j)\n",
    "       quickSortC(arr, left, j);\n",
    "    if (i < right)\n",
    "       quickSortC(arr, i, right);\n",
    "}"
   ]
  },
  {
   "cell_type": "markdown",
   "metadata": {},
   "source": [
    "Since we have used C arrays, we have to populate input and extract output\n",
    "using the existing member functions from SWIG. \n",
    "In the following cell, we wrap the `quickSortC()` function into a \n",
    "higher-level function `quickSortSwig()`, so the API looks exactly the same \n",
    "as the `quickSortPython()`.\n",
    "\n",
    "Note that in the following cell, `new_intArray()` and `delete_intArray()`\n",
    "are used to allocate and free the memory."
   ]
  },
  {
   "cell_type": "code",
   "execution_count": 9,
   "metadata": {},
   "outputs": [],
   "source": [
    "from example3 import new_intArray, delete_intArray\n",
    "from example3 import intArray_setitem, intArray_getitem\n",
    "from example3 import quickSortC\n",
    "\n",
    "def quickSortSwig(arr, left, right):\n",
    "    temp = new_intArray(len(arr))\n",
    "    for i in range(len(arr)):\n",
    "        intArray_setitem(temp,i,int(arr[i]))\n",
    "\n",
    "    quickSortC(temp, 0, len(arr)-1)\n",
    "\n",
    "    result = arr\n",
    "    for i in range(len(arr)):\n",
    "        result[i]=intArray_getitem(temp,i)\n",
    "    delete_intArray(temp)\n",
    "    return result"
   ]
  },
  {
   "cell_type": "markdown",
   "metadata": {},
   "source": [
    "Let's have a bit fun by testing them."
   ]
  },
  {
   "cell_type": "code",
   "execution_count": 10,
   "metadata": {},
   "outputs": [
    {
     "name": "stdout",
     "output_type": "stream",
     "text": [
      "Unsorted array:\n",
      "[46 93 99 89 71 90 94 77 93 80 19 63 51 57 62 34 56 45 92 71 77 78 46 60 58\n",
      " 54 45 62 33 91 43 31 89 27 78 88 99 22  3 63 53 30 22 90 66 27 59 86 53 16\n",
      " 23 78 65 72 19 57 11 89 47 22 11 43  6 96 18 12 40 39  3 88  7 78 73 23 70\n",
      " 39 91 67 40 31  6 49 57 52 15 31 94  2 47 99 75 99 81 89 87 44 33 84 61 81]\n"
     ]
    }
   ],
   "source": [
    "from copy import deepcopy\n",
    "import numpy as np\n",
    "\n",
    "size = 100\n",
    "test_array0 = np.random.randint(low=1, high=100, size=size)\n",
    "test_array1 = deepcopy(test_array0)\n",
    "test_array2 = deepcopy(test_array0)\n",
    "print(\"Unsorted array:\")\n",
    "print(test_array0)"
   ]
  },
  {
   "cell_type": "code",
   "execution_count": 11,
   "metadata": {},
   "outputs": [
    {
     "name": "stdout",
     "output_type": "stream",
     "text": [
      "Sorted by Python:\n",
      "[ 2  3  3  6  6  7 11 11 12 15 16 18 19 19 22 22 22 23 23 27 27 30 31 31 31\n",
      " 33 33 34 39 39 40 40 43 43 44 45 45 46 46 47 47 49 51 52 53 53 54 56 57 57\n",
      " 57 58 59 60 61 62 62 63 63 65 66 67 70 71 71 72 73 75 77 77 78 78 78 78 80\n",
      " 81 81 84 86 87 88 88 89 89 89 89 90 90 91 91 92 93 93 94 94 96 99 99 99 99]\n"
     ]
    }
   ],
   "source": [
    "test_array1 = quickSortPython(test_array1, 0, len(test_array1)-1)\n",
    "print(\"Sorted by Python:\")\n",
    "print(test_array1)"
   ]
  },
  {
   "cell_type": "code",
   "execution_count": 12,
   "metadata": {},
   "outputs": [
    {
     "name": "stdout",
     "output_type": "stream",
     "text": [
      "Sorted by SWIG:\n",
      "[ 2  3  3  6  6  7 11 11 12 15 16 18 19 19 22 22 22 23 23 27 27 30 31 31 31\n",
      " 33 33 34 39 39 40 40 43 43 44 45 45 46 46 47 47 49 51 52 53 53 54 56 57 57\n",
      " 57 58 59 60 61 62 62 63 63 65 66 67 70 71 71 72 73 75 77 77 78 78 78 78 80\n",
      " 81 81 84 86 87 88 88 89 89 89 89 90 90 91 91 92 93 93 94 94 96 99 99 99 99]\n"
     ]
    }
   ],
   "source": [
    "test_array2 = quickSortSwig(test_array2, 0, len(test_array2)-1)\n",
    "print(\"Sorted by SWIG:\")\n",
    "print(test_array2)"
   ]
  },
  {
   "cell_type": "markdown",
   "metadata": {},
   "source": [
    "You should notice the results match. Let's also time the executions of the\n",
    "2 implementations (`quickSortPython` and `quickSortSwig`)."
   ]
  },
  {
   "cell_type": "code",
   "execution_count": 13,
   "metadata": {},
   "outputs": [
    {
     "name": "stdout",
     "output_type": "stream",
     "text": [
      "1000 loops, best of 3: 1.96 ms per loop\n"
     ]
    }
   ],
   "source": [
    "%%timeit\n",
    "\n",
    "quickSortPython(np.random.randint(low=1, high=100, size=size), 0, size-1)"
   ]
  },
  {
   "cell_type": "code",
   "execution_count": 14,
   "metadata": {},
   "outputs": [
    {
     "name": "stdout",
     "output_type": "stream",
     "text": [
      "1000 loops, best of 3: 662 µs per loop\n"
     ]
    }
   ],
   "source": [
    "%%timeit\n",
    "\n",
    "quickSortSwig(np.random.randint(low=1, high=100, size=size), 0, size-1)"
   ]
  },
  {
   "cell_type": "markdown",
   "metadata": {},
   "source": [
    "Copyright (C) 2020 Xilinx, Inc"
   ]
  }
 ],
 "metadata": {
  "kernelspec": {
   "display_name": "Python 3",
   "language": "python",
   "name": "python3"
  },
  "language_info": {
   "codemirror_mode": {
    "name": "ipython",
    "version": 3
   },
   "file_extension": ".py",
   "mimetype": "text/x-python",
   "name": "python",
   "nbconvert_exporter": "python",
   "pygments_lexer": "ipython3",
   "version": "3.6.5"
  }
 },
 "nbformat": 4,
 "nbformat_minor": 2
}
